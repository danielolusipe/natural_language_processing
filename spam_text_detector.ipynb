{
  "cells": [
    {
      "cell_type": "markdown",
      "metadata": {
        "id": "view-in-github",
        "colab_type": "text"
      },
      "source": [
        "<a href=\"https://colab.research.google.com/github/olusipedaniel/Natural_language_processing/blob/main/spam_text_detector.ipynb\" target=\"_parent\"><img src=\"https://colab.research.google.com/assets/colab-badge.svg\" alt=\"Open In Colab\"/></a>"
      ]
    },
    {
      "cell_type": "code",
      "execution_count": 1,
      "metadata": {
        "colab": {
          "base_uri": "https://localhost:8080/",
          "height": 36
        },
        "id": "GxKe7lXBjAOv",
        "outputId": "51ab7d50-91e1-4516-ced3-acf6bd04d47d"
      },
      "outputs": [
        {
          "output_type": "execute_result",
          "data": {
            "text/plain": [
              "'2.8.2'"
            ],
            "application/vnd.google.colaboratory.intrinsic+json": {
              "type": "string"
            }
          },
          "metadata": {},
          "execution_count": 1
        }
      ],
      "source": [
        "# Importing tensorflow library\n",
        "import tensorflow as tf\n",
        "tf.__version__"
      ]
    },
    {
      "cell_type": "markdown",
      "metadata": {
        "id": "3gSACkI2F8H6"
      },
      "source": [
        "### Loading and preparing dataset for Deep Sequence model"
      ]
    },
    {
      "cell_type": "code",
      "execution_count": 2,
      "metadata": {
        "colab": {
          "base_uri": "https://localhost:8080/"
        },
        "id": "J-yOWukVwQoG",
        "outputId": "752da3c0-f860-46b2-dd00-3155efcea03a"
      },
      "outputs": [
        {
          "output_type": "stream",
          "name": "stdout",
          "text": [
            "Drive already mounted at /content/drive; to attempt to forcibly remount, call drive.mount(\"/content/drive\", force_remount=True).\n"
          ]
        }
      ],
      "source": [
        "# Mounting drive in colab\n",
        "from google.colab import drive\n",
        "drive.mount('/content/drive')"
      ]
    },
    {
      "cell_type": "markdown",
      "metadata": {
        "id": "oouQCaUYIzsR"
      },
      "source": [
        "The dataset used in this notebook is the Kaggle's SMS Spam Collection Dataset and it has been uploaded to google drive, Click [here](https://www.kaggle.com/datasets/uciml/sms-spam-collection-dataset) to view dataset "
      ]
    },
    {
      "cell_type": "markdown",
      "source": [
        "#### Loading in dataset"
      ],
      "metadata": {
        "id": "Qv5Y08uQY1xU"
      }
    },
    {
      "cell_type": "code",
      "execution_count": 3,
      "metadata": {
        "colab": {
          "base_uri": "https://localhost:8080/",
          "height": 206
        },
        "id": "jygJd_WDGf7J",
        "outputId": "585abc6e-fd89-41d7-a550-5a533e7ee50b"
      },
      "outputs": [
        {
          "output_type": "execute_result",
          "data": {
            "text/plain": [
              "     v1                                                 v2 Unnamed: 2  \\\n",
              "0   ham  Go until jurong point, crazy.. Available only ...        NaN   \n",
              "1   ham                      Ok lar... Joking wif u oni...        NaN   \n",
              "2  spam  Free entry in 2 a wkly comp to win FA Cup fina...        NaN   \n",
              "3   ham  U dun say so early hor... U c already then say...        NaN   \n",
              "4   ham  Nah I don't think he goes to usf, he lives aro...        NaN   \n",
              "\n",
              "  Unnamed: 3 Unnamed: 4  \n",
              "0        NaN        NaN  \n",
              "1        NaN        NaN  \n",
              "2        NaN        NaN  \n",
              "3        NaN        NaN  \n",
              "4        NaN        NaN  "
            ],
            "text/html": [
              "\n",
              "  <div id=\"df-2022a61b-c50a-47b3-86f1-b703b8758e88\">\n",
              "    <div class=\"colab-df-container\">\n",
              "      <div>\n",
              "<style scoped>\n",
              "    .dataframe tbody tr th:only-of-type {\n",
              "        vertical-align: middle;\n",
              "    }\n",
              "\n",
              "    .dataframe tbody tr th {\n",
              "        vertical-align: top;\n",
              "    }\n",
              "\n",
              "    .dataframe thead th {\n",
              "        text-align: right;\n",
              "    }\n",
              "</style>\n",
              "<table border=\"1\" class=\"dataframe\">\n",
              "  <thead>\n",
              "    <tr style=\"text-align: right;\">\n",
              "      <th></th>\n",
              "      <th>v1</th>\n",
              "      <th>v2</th>\n",
              "      <th>Unnamed: 2</th>\n",
              "      <th>Unnamed: 3</th>\n",
              "      <th>Unnamed: 4</th>\n",
              "    </tr>\n",
              "  </thead>\n",
              "  <tbody>\n",
              "    <tr>\n",
              "      <th>0</th>\n",
              "      <td>ham</td>\n",
              "      <td>Go until jurong point, crazy.. Available only ...</td>\n",
              "      <td>NaN</td>\n",
              "      <td>NaN</td>\n",
              "      <td>NaN</td>\n",
              "    </tr>\n",
              "    <tr>\n",
              "      <th>1</th>\n",
              "      <td>ham</td>\n",
              "      <td>Ok lar... Joking wif u oni...</td>\n",
              "      <td>NaN</td>\n",
              "      <td>NaN</td>\n",
              "      <td>NaN</td>\n",
              "    </tr>\n",
              "    <tr>\n",
              "      <th>2</th>\n",
              "      <td>spam</td>\n",
              "      <td>Free entry in 2 a wkly comp to win FA Cup fina...</td>\n",
              "      <td>NaN</td>\n",
              "      <td>NaN</td>\n",
              "      <td>NaN</td>\n",
              "    </tr>\n",
              "    <tr>\n",
              "      <th>3</th>\n",
              "      <td>ham</td>\n",
              "      <td>U dun say so early hor... U c already then say...</td>\n",
              "      <td>NaN</td>\n",
              "      <td>NaN</td>\n",
              "      <td>NaN</td>\n",
              "    </tr>\n",
              "    <tr>\n",
              "      <th>4</th>\n",
              "      <td>ham</td>\n",
              "      <td>Nah I don't think he goes to usf, he lives aro...</td>\n",
              "      <td>NaN</td>\n",
              "      <td>NaN</td>\n",
              "      <td>NaN</td>\n",
              "    </tr>\n",
              "  </tbody>\n",
              "</table>\n",
              "</div>\n",
              "      <button class=\"colab-df-convert\" onclick=\"convertToInteractive('df-2022a61b-c50a-47b3-86f1-b703b8758e88')\"\n",
              "              title=\"Convert this dataframe to an interactive table.\"\n",
              "              style=\"display:none;\">\n",
              "        \n",
              "  <svg xmlns=\"http://www.w3.org/2000/svg\" height=\"24px\"viewBox=\"0 0 24 24\"\n",
              "       width=\"24px\">\n",
              "    <path d=\"M0 0h24v24H0V0z\" fill=\"none\"/>\n",
              "    <path d=\"M18.56 5.44l.94 2.06.94-2.06 2.06-.94-2.06-.94-.94-2.06-.94 2.06-2.06.94zm-11 1L8.5 8.5l.94-2.06 2.06-.94-2.06-.94L8.5 2.5l-.94 2.06-2.06.94zm10 10l.94 2.06.94-2.06 2.06-.94-2.06-.94-.94-2.06-.94 2.06-2.06.94z\"/><path d=\"M17.41 7.96l-1.37-1.37c-.4-.4-.92-.59-1.43-.59-.52 0-1.04.2-1.43.59L10.3 9.45l-7.72 7.72c-.78.78-.78 2.05 0 2.83L4 21.41c.39.39.9.59 1.41.59.51 0 1.02-.2 1.41-.59l7.78-7.78 2.81-2.81c.8-.78.8-2.07 0-2.86zM5.41 20L4 18.59l7.72-7.72 1.47 1.35L5.41 20z\"/>\n",
              "  </svg>\n",
              "      </button>\n",
              "      \n",
              "  <style>\n",
              "    .colab-df-container {\n",
              "      display:flex;\n",
              "      flex-wrap:wrap;\n",
              "      gap: 12px;\n",
              "    }\n",
              "\n",
              "    .colab-df-convert {\n",
              "      background-color: #E8F0FE;\n",
              "      border: none;\n",
              "      border-radius: 50%;\n",
              "      cursor: pointer;\n",
              "      display: none;\n",
              "      fill: #1967D2;\n",
              "      height: 32px;\n",
              "      padding: 0 0 0 0;\n",
              "      width: 32px;\n",
              "    }\n",
              "\n",
              "    .colab-df-convert:hover {\n",
              "      background-color: #E2EBFA;\n",
              "      box-shadow: 0px 1px 2px rgba(60, 64, 67, 0.3), 0px 1px 3px 1px rgba(60, 64, 67, 0.15);\n",
              "      fill: #174EA6;\n",
              "    }\n",
              "\n",
              "    [theme=dark] .colab-df-convert {\n",
              "      background-color: #3B4455;\n",
              "      fill: #D2E3FC;\n",
              "    }\n",
              "\n",
              "    [theme=dark] .colab-df-convert:hover {\n",
              "      background-color: #434B5C;\n",
              "      box-shadow: 0px 1px 3px 1px rgba(0, 0, 0, 0.15);\n",
              "      filter: drop-shadow(0px 1px 2px rgba(0, 0, 0, 0.3));\n",
              "      fill: #FFFFFF;\n",
              "    }\n",
              "  </style>\n",
              "\n",
              "      <script>\n",
              "        const buttonEl =\n",
              "          document.querySelector('#df-2022a61b-c50a-47b3-86f1-b703b8758e88 button.colab-df-convert');\n",
              "        buttonEl.style.display =\n",
              "          google.colab.kernel.accessAllowed ? 'block' : 'none';\n",
              "\n",
              "        async function convertToInteractive(key) {\n",
              "          const element = document.querySelector('#df-2022a61b-c50a-47b3-86f1-b703b8758e88');\n",
              "          const dataTable =\n",
              "            await google.colab.kernel.invokeFunction('convertToInteractive',\n",
              "                                                     [key], {});\n",
              "          if (!dataTable) return;\n",
              "\n",
              "          const docLinkHtml = 'Like what you see? Visit the ' +\n",
              "            '<a target=\"_blank\" href=https://colab.research.google.com/notebooks/data_table.ipynb>data table notebook</a>'\n",
              "            + ' to learn more about interactive tables.';\n",
              "          element.innerHTML = '';\n",
              "          dataTable['output_type'] = 'display_data';\n",
              "          await google.colab.output.renderOutput(dataTable, element);\n",
              "          const docLink = document.createElement('div');\n",
              "          docLink.innerHTML = docLinkHtml;\n",
              "          element.appendChild(docLink);\n",
              "        }\n",
              "      </script>\n",
              "    </div>\n",
              "  </div>\n",
              "  "
            ]
          },
          "metadata": {},
          "execution_count": 3
        }
      ],
      "source": [
        "# Loading dataset into a pandas DataFrame from Google drive \n",
        "import pandas as pd\n",
        "df=pd.read_csv(\"/content/drive/MyDrive/spam.csv\", encoding = \"ISO-8859-1\", engine = \"python\")\n",
        "df.head()"
      ]
    },
    {
      "cell_type": "code",
      "execution_count": 4,
      "metadata": {
        "id": "gT_dYOQMHxN2"
      },
      "outputs": [],
      "source": [
        "# Renaming the first two columns as Target and Text column\n",
        "df=df.rename(columns={\"v1\":\"Target\",\"v2\":\"Text\"})"
      ]
    },
    {
      "cell_type": "code",
      "execution_count": 5,
      "metadata": {
        "colab": {
          "base_uri": "https://localhost:8080/",
          "height": 206
        },
        "id": "1cZig-8w2n4C",
        "outputId": "1e9aedae-8bf3-456e-97e7-a19e98c8fd3c"
      },
      "outputs": [
        {
          "output_type": "execute_result",
          "data": {
            "text/plain": [
              "     Target                                               Text Unnamed: 2  \\\n",
              "3245    ham  Funny fact Nobody teaches volcanoes 2 erupt, t...        NaN   \n",
              "944     ham  I sent my scores to sophas and i had to do sec...        NaN   \n",
              "1044   spam  We know someone who you know that fancies you....        NaN   \n",
              "2484    ham  Only if you promise your getting out as SOON a...        NaN   \n",
              "812    spam  Congratulations ur awarded either å£500 of CD ...        NaN   \n",
              "\n",
              "     Unnamed: 3 Unnamed: 4  \n",
              "3245        NaN        NaN  \n",
              "944         NaN        NaN  \n",
              "1044        NaN        NaN  \n",
              "2484        NaN        NaN  \n",
              "812         NaN        NaN  "
            ],
            "text/html": [
              "\n",
              "  <div id=\"df-4662ecfd-df93-46eb-9c1c-064367cdd987\">\n",
              "    <div class=\"colab-df-container\">\n",
              "      <div>\n",
              "<style scoped>\n",
              "    .dataframe tbody tr th:only-of-type {\n",
              "        vertical-align: middle;\n",
              "    }\n",
              "\n",
              "    .dataframe tbody tr th {\n",
              "        vertical-align: top;\n",
              "    }\n",
              "\n",
              "    .dataframe thead th {\n",
              "        text-align: right;\n",
              "    }\n",
              "</style>\n",
              "<table border=\"1\" class=\"dataframe\">\n",
              "  <thead>\n",
              "    <tr style=\"text-align: right;\">\n",
              "      <th></th>\n",
              "      <th>Target</th>\n",
              "      <th>Text</th>\n",
              "      <th>Unnamed: 2</th>\n",
              "      <th>Unnamed: 3</th>\n",
              "      <th>Unnamed: 4</th>\n",
              "    </tr>\n",
              "  </thead>\n",
              "  <tbody>\n",
              "    <tr>\n",
              "      <th>3245</th>\n",
              "      <td>ham</td>\n",
              "      <td>Funny fact Nobody teaches volcanoes 2 erupt, t...</td>\n",
              "      <td>NaN</td>\n",
              "      <td>NaN</td>\n",
              "      <td>NaN</td>\n",
              "    </tr>\n",
              "    <tr>\n",
              "      <th>944</th>\n",
              "      <td>ham</td>\n",
              "      <td>I sent my scores to sophas and i had to do sec...</td>\n",
              "      <td>NaN</td>\n",
              "      <td>NaN</td>\n",
              "      <td>NaN</td>\n",
              "    </tr>\n",
              "    <tr>\n",
              "      <th>1044</th>\n",
              "      <td>spam</td>\n",
              "      <td>We know someone who you know that fancies you....</td>\n",
              "      <td>NaN</td>\n",
              "      <td>NaN</td>\n",
              "      <td>NaN</td>\n",
              "    </tr>\n",
              "    <tr>\n",
              "      <th>2484</th>\n",
              "      <td>ham</td>\n",
              "      <td>Only if you promise your getting out as SOON a...</td>\n",
              "      <td>NaN</td>\n",
              "      <td>NaN</td>\n",
              "      <td>NaN</td>\n",
              "    </tr>\n",
              "    <tr>\n",
              "      <th>812</th>\n",
              "      <td>spam</td>\n",
              "      <td>Congratulations ur awarded either å£500 of CD ...</td>\n",
              "      <td>NaN</td>\n",
              "      <td>NaN</td>\n",
              "      <td>NaN</td>\n",
              "    </tr>\n",
              "  </tbody>\n",
              "</table>\n",
              "</div>\n",
              "      <button class=\"colab-df-convert\" onclick=\"convertToInteractive('df-4662ecfd-df93-46eb-9c1c-064367cdd987')\"\n",
              "              title=\"Convert this dataframe to an interactive table.\"\n",
              "              style=\"display:none;\">\n",
              "        \n",
              "  <svg xmlns=\"http://www.w3.org/2000/svg\" height=\"24px\"viewBox=\"0 0 24 24\"\n",
              "       width=\"24px\">\n",
              "    <path d=\"M0 0h24v24H0V0z\" fill=\"none\"/>\n",
              "    <path d=\"M18.56 5.44l.94 2.06.94-2.06 2.06-.94-2.06-.94-.94-2.06-.94 2.06-2.06.94zm-11 1L8.5 8.5l.94-2.06 2.06-.94-2.06-.94L8.5 2.5l-.94 2.06-2.06.94zm10 10l.94 2.06.94-2.06 2.06-.94-2.06-.94-.94-2.06-.94 2.06-2.06.94z\"/><path d=\"M17.41 7.96l-1.37-1.37c-.4-.4-.92-.59-1.43-.59-.52 0-1.04.2-1.43.59L10.3 9.45l-7.72 7.72c-.78.78-.78 2.05 0 2.83L4 21.41c.39.39.9.59 1.41.59.51 0 1.02-.2 1.41-.59l7.78-7.78 2.81-2.81c.8-.78.8-2.07 0-2.86zM5.41 20L4 18.59l7.72-7.72 1.47 1.35L5.41 20z\"/>\n",
              "  </svg>\n",
              "      </button>\n",
              "      \n",
              "  <style>\n",
              "    .colab-df-container {\n",
              "      display:flex;\n",
              "      flex-wrap:wrap;\n",
              "      gap: 12px;\n",
              "    }\n",
              "\n",
              "    .colab-df-convert {\n",
              "      background-color: #E8F0FE;\n",
              "      border: none;\n",
              "      border-radius: 50%;\n",
              "      cursor: pointer;\n",
              "      display: none;\n",
              "      fill: #1967D2;\n",
              "      height: 32px;\n",
              "      padding: 0 0 0 0;\n",
              "      width: 32px;\n",
              "    }\n",
              "\n",
              "    .colab-df-convert:hover {\n",
              "      background-color: #E2EBFA;\n",
              "      box-shadow: 0px 1px 2px rgba(60, 64, 67, 0.3), 0px 1px 3px 1px rgba(60, 64, 67, 0.15);\n",
              "      fill: #174EA6;\n",
              "    }\n",
              "\n",
              "    [theme=dark] .colab-df-convert {\n",
              "      background-color: #3B4455;\n",
              "      fill: #D2E3FC;\n",
              "    }\n",
              "\n",
              "    [theme=dark] .colab-df-convert:hover {\n",
              "      background-color: #434B5C;\n",
              "      box-shadow: 0px 1px 3px 1px rgba(0, 0, 0, 0.15);\n",
              "      filter: drop-shadow(0px 1px 2px rgba(0, 0, 0, 0.3));\n",
              "      fill: #FFFFFF;\n",
              "    }\n",
              "  </style>\n",
              "\n",
              "      <script>\n",
              "        const buttonEl =\n",
              "          document.querySelector('#df-4662ecfd-df93-46eb-9c1c-064367cdd987 button.colab-df-convert');\n",
              "        buttonEl.style.display =\n",
              "          google.colab.kernel.accessAllowed ? 'block' : 'none';\n",
              "\n",
              "        async function convertToInteractive(key) {\n",
              "          const element = document.querySelector('#df-4662ecfd-df93-46eb-9c1c-064367cdd987');\n",
              "          const dataTable =\n",
              "            await google.colab.kernel.invokeFunction('convertToInteractive',\n",
              "                                                     [key], {});\n",
              "          if (!dataTable) return;\n",
              "\n",
              "          const docLinkHtml = 'Like what you see? Visit the ' +\n",
              "            '<a target=\"_blank\" href=https://colab.research.google.com/notebooks/data_table.ipynb>data table notebook</a>'\n",
              "            + ' to learn more about interactive tables.';\n",
              "          element.innerHTML = '';\n",
              "          dataTable['output_type'] = 'display_data';\n",
              "          await google.colab.output.renderOutput(dataTable, element);\n",
              "          const docLink = document.createElement('div');\n",
              "          docLink.innerHTML = docLinkHtml;\n",
              "          element.appendChild(docLink);\n",
              "        }\n",
              "      </script>\n",
              "    </div>\n",
              "  </div>\n",
              "  "
            ]
          },
          "metadata": {},
          "execution_count": 5
        }
      ],
      "source": [
        "# Shuffling DataFrame\n",
        "df_shuffled=df.sample(frac=1,random_state=42)\n",
        "df_shuffled.head()"
      ]
    },
    {
      "cell_type": "code",
      "execution_count": 6,
      "metadata": {
        "colab": {
          "base_uri": "https://localhost:8080/"
        },
        "id": "W7uVGLGhiwFJ",
        "outputId": "209fa475-f32f-4144-dff9-6c1bdfdb8603"
      },
      "outputs": [
        {
          "output_type": "execute_result",
          "data": {
            "text/plain": [
              "ham     4825\n",
              "spam     747\n",
              "Name: Target, dtype: int64"
            ]
          },
          "metadata": {},
          "execution_count": 6
        }
      ],
      "source": [
        "# Getting number of labels \n",
        "df_shuffled.Target.value_counts()"
      ]
    },
    {
      "cell_type": "code",
      "execution_count": 7,
      "metadata": {
        "id": "DViIrY9mKb1A"
      },
      "outputs": [],
      "source": [
        "# Defining training data and training labels\n",
        "data=df_shuffled[\"Text\"].to_numpy()\n",
        "labels=df_shuffled[\"Target\"].to_numpy()"
      ]
    },
    {
      "cell_type": "markdown",
      "source": [
        "#### Splitting data into training and test set"
      ],
      "metadata": {
        "id": "y5PXSv24ZB01"
      }
    },
    {
      "cell_type": "code",
      "execution_count": 8,
      "metadata": {
        "colab": {
          "base_uri": "https://localhost:8080/"
        },
        "id": "wYMSmCGwH4-d",
        "outputId": "a14399a9-1956-4c00-d361-0ed9bf31e84f"
      },
      "outputs": [
        {
          "output_type": "execute_result",
          "data": {
            "text/plain": [
              "((5014,), (558,), (5014,), (558,))"
            ]
          },
          "metadata": {},
          "execution_count": 8
        }
      ],
      "source": [
        "# Spliting dataset into training and validation sets\n",
        "from sklearn.model_selection import train_test_split\n",
        "train_sentences,val_sentences,train_labels,val_labels=train_test_split(data,\n",
        "                                                                       labels,\n",
        "                                                                       test_size=0.1,\n",
        "                                                                       random_state=42)\n",
        "\n",
        "train_sentences.shape,val_sentences.shape,train_labels.shape,val_labels.shape"
      ]
    },
    {
      "cell_type": "markdown",
      "source": [
        "#### Numerically encoding train and validation labels"
      ],
      "metadata": {
        "id": "MDs0m1hlZK7H"
      }
    },
    {
      "cell_type": "code",
      "execution_count": 9,
      "metadata": {
        "colab": {
          "base_uri": "https://localhost:8080/"
        },
        "id": "_9t2ReueJOOg",
        "outputId": "c3972cba-e6ba-4812-d65b-76a3684a3009"
      },
      "outputs": [
        {
          "output_type": "execute_result",
          "data": {
            "text/plain": [
              "(array([0, 0, 0, 0, 0, 0, 0, 0, 0, 0]), array([0, 0, 1, 1, 0, 0, 0, 0, 0, 0]))"
            ]
          },
          "metadata": {},
          "execution_count": 9
        }
      ],
      "source": [
        "# Converting labels into numeric form\n",
        "from sklearn.preprocessing import LabelEncoder\n",
        "label_encoder=LabelEncoder()\n",
        "train_labels_encoded=label_encoder.fit_transform(train_labels)\n",
        "val_labels_encoded=label_encoder.fit_transform(val_labels)\n",
        "\n",
        "train_labels_encoded[:10],val_labels_encoded[:10]"
      ]
    },
    {
      "cell_type": "code",
      "execution_count": 10,
      "metadata": {
        "colab": {
          "base_uri": "https://localhost:8080/"
        },
        "id": "wGOLKIDoMAjW",
        "outputId": "ddc04aa7-1f85-414e-ebe3-fb56f8bc65b9"
      },
      "outputs": [
        {
          "output_type": "execute_result",
          "data": {
            "text/plain": [
              "(array(['ham', 'spam'], dtype=object), 2)"
            ]
          },
          "metadata": {},
          "execution_count": 10
        }
      ],
      "source": [
        "# Getting class names and number of class names from LabelEncoder\n",
        "num_classes=label_encoder.classes_\n",
        "num_classes,len(num_classes)"
      ]
    },
    {
      "cell_type": "code",
      "execution_count": 11,
      "metadata": {
        "colab": {
          "base_uri": "https://localhost:8080/"
        },
        "id": "aPx9ns5RbKYl",
        "outputId": "83b06a09-2b85-4343-84e3-ffc7c502928a"
      },
      "outputs": [
        {
          "output_type": "execute_result",
          "data": {
            "text/plain": [
              "15.545472676505783"
            ]
          },
          "metadata": {},
          "execution_count": 11
        }
      ],
      "source": [
        "# Checking how long is each sentences on average\n",
        "import numpy as np\n",
        "sent_lens=[len(sentences.split()) for sentences in train_sentences]\n",
        "avg_sent_lens=np.mean(sent_lens)\n",
        "avg_sent_lens"
      ]
    },
    {
      "cell_type": "code",
      "execution_count": 12,
      "metadata": {
        "colab": {
          "base_uri": "https://localhost:8080/"
        },
        "id": "X90QlxI-bYqc",
        "outputId": "9022abc2-e772-40ab-b5b0-77acb463c9a0"
      },
      "outputs": [
        {
          "output_type": "execute_result",
          "data": {
            "text/plain": [
              "33"
            ]
          },
          "metadata": {},
          "execution_count": 12
        }
      ],
      "source": [
        "# How long of a sentence length covers 95% of examples?\n",
        "output_seq_len=int(np.percentile(sent_lens,95))\n",
        "output_seq_len"
      ]
    },
    {
      "cell_type": "markdown",
      "metadata": {
        "id": "wdph4khFO_Ez"
      },
      "source": [
        "#### Creating text vectorizing layer that map texts from words into numbers"
      ]
    },
    {
      "cell_type": "code",
      "execution_count": 13,
      "metadata": {
        "id": "pZ2NT3d6Ifp1"
      },
      "outputs": [],
      "source": [
        "# Creating text vectorizing layer\n",
        "from tensorflow.keras.layers import TextVectorization\n",
        "text_vectorizer=TextVectorization(max_tokens=1500,\n",
        "                                  output_mode=\"int\",\n",
        "                                  output_sequence_length=output_seq_len,\n",
        "                                  standardize=\"lower\")"
      ]
    },
    {
      "cell_type": "code",
      "execution_count": 14,
      "metadata": {
        "id": "gT6i4BWvbxal"
      },
      "outputs": [],
      "source": [
        "# Adapting train sentences to text_vectorizer\n",
        "text_vectorizer.adapt(train_sentences)"
      ]
    },
    {
      "cell_type": "code",
      "execution_count": 15,
      "metadata": {
        "colab": {
          "base_uri": "https://localhost:8080/"
        },
        "id": "2p1veWMKblBv",
        "outputId": "6f1bfaf5-6385-4717-a3b9-6ac87cb9dc84"
      },
      "outputs": [
        {
          "output_type": "execute_result",
          "data": {
            "text/plain": [
              "1500"
            ]
          },
          "metadata": {},
          "execution_count": 15
        }
      ],
      "source": [
        "# Checking the number of words in training vocabulary  \n",
        "spam_vocab=len(text_vectorizer.get_vocabulary())\n",
        "spam_vocab"
      ]
    },
    {
      "cell_type": "markdown",
      "metadata": {
        "id": "gLmTm3rlQFQS"
      },
      "source": [
        "#### Creating text embedding layer"
      ]
    },
    {
      "cell_type": "code",
      "execution_count": 16,
      "metadata": {
        "id": "OZfwHYaPb7rT"
      },
      "outputs": [],
      "source": [
        "# Creating token embedding layer\n",
        "from tensorflow.keras.layers import Embedding\n",
        "token_embed=Embedding(input_dim=spam_vocab,\n",
        "                      output_dim=128,\n",
        "                      mask_zero=True)"
      ]
    },
    {
      "cell_type": "markdown",
      "metadata": {
        "id": "votewcvcQcnJ"
      },
      "source": [
        "### Building deep learning model"
      ]
    },
    {
      "cell_type": "markdown",
      "metadata": {
        "id": "w4kQRbivQmqU"
      },
      "source": [
        "#### Model_0: Building a baseline model"
      ]
    },
    {
      "cell_type": "code",
      "execution_count": 17,
      "metadata": {
        "colab": {
          "base_uri": "https://localhost:8080/"
        },
        "id": "Aep-wv79dGAf",
        "outputId": "bd95251d-0be4-4df5-9fbe-702d23019236"
      },
      "outputs": [
        {
          "output_type": "execute_result",
          "data": {
            "text/plain": [
              "Pipeline(steps=[('tf-idf', TfidfVectorizer()), ('clf', MultinomialNB())])"
            ]
          },
          "metadata": {},
          "execution_count": 17
        }
      ],
      "source": [
        "# Building a baseline model and fitting training data to the model\n",
        "from sklearn.feature_extraction.text import TfidfVectorizer\n",
        "from sklearn.naive_bayes import MultinomialNB\n",
        "from sklearn.pipeline import Pipeline\n",
        "\n",
        "baseline_model=Pipeline([\n",
        "  (\"tf-idf\", TfidfVectorizer()),\n",
        "  (\"clf\", MultinomialNB())\n",
        "])\n",
        "\n",
        "# Fit training data to baseline model\n",
        "baseline_model.fit(train_sentences,\n",
        "                   train_labels_encoded)"
      ]
    },
    {
      "cell_type": "code",
      "execution_count": 18,
      "metadata": {
        "colab": {
          "base_uri": "https://localhost:8080/"
        },
        "id": "EdweE2OSerMZ",
        "outputId": "e00a5edc-b746-47ce-ad0f-bc841ff35237"
      },
      "outputs": [
        {
          "output_type": "execute_result",
          "data": {
            "text/plain": [
              "0.967741935483871"
            ]
          },
          "metadata": {},
          "execution_count": 18
        }
      ],
      "source": [
        "# Evaluating baseline model\n",
        "baseline_score=baseline_model.score(val_sentences,\n",
        "                             val_labels_encoded)\n",
        "baseline_score"
      ]
    },
    {
      "cell_type": "code",
      "execution_count": 19,
      "metadata": {
        "colab": {
          "base_uri": "https://localhost:8080/"
        },
        "id": "Irn1ESQRfPoc",
        "outputId": "40e85c44-ee4e-46b2-ccbc-6d1e63cb10f5"
      },
      "outputs": [
        {
          "output_type": "execute_result",
          "data": {
            "text/plain": [
              "array([0, 0, 1, 1, 0, 0, 0, 0, 0, 0])"
            ]
          },
          "metadata": {},
          "execution_count": 19
        }
      ],
      "source": [
        "# Making predictions with baseline model\n",
        "baseline_preds=baseline_model.predict(val_sentences)\n",
        "baseline_preds[:10]"
      ]
    },
    {
      "cell_type": "code",
      "execution_count": 20,
      "metadata": {
        "id": "wXfMmnuifry5"
      },
      "outputs": [],
      "source": [
        "# Creating a function to evaluate model performance and return a Dictionary\n",
        "from sklearn.metrics import accuracy_score,precision_recall_fscore_support\n",
        "def calculate_result(y_true,y_pred):\n",
        "  model_accuracy=accuracy_score(y_true,y_pred)\n",
        "  model_precision,model_recall,model_f1,_=precision_recall_fscore_support(y_true,y_pred,average=\"weighted\")\n",
        "  model_results={\"model_accuracy\": model_accuracy,\n",
        "                \"model_precision\":model_precision,\n",
        "                \"model_recall\":model_recall,\n",
        "                \"model_f1\":model_f1}\n",
        "  return model_results"
      ]
    },
    {
      "cell_type": "code",
      "execution_count": 21,
      "metadata": {
        "colab": {
          "base_uri": "https://localhost:8080/"
        },
        "id": "csg5GatYk0KZ",
        "outputId": "0f0df3bd-f018-4d1e-fa0d-5608ae79cbaa"
      },
      "outputs": [
        {
          "output_type": "execute_result",
          "data": {
            "text/plain": [
              "{'model_accuracy': 0.967741935483871,\n",
              " 'model_precision': 0.9689009078616961,\n",
              " 'model_recall': 0.967741935483871,\n",
              " 'model_f1': 0.9658375652671484}"
            ]
          },
          "metadata": {},
          "execution_count": 21
        }
      ],
      "source": [
        "# Evaluating baseline model performance\n",
        "baseline_model_results=calculate_result(y_true=val_labels_encoded,\n",
        "                                        y_pred=baseline_preds)\n",
        "baseline_model_results"
      ]
    },
    {
      "cell_type": "markdown",
      "metadata": {
        "id": "I3OchGi7RsHm"
      },
      "source": [
        "#### Model_1: Conv1D with token embeddings"
      ]
    },
    {
      "cell_type": "code",
      "execution_count": 22,
      "metadata": {
        "colab": {
          "base_uri": "https://localhost:8080/"
        },
        "id": "JJPoqa9vlcIE",
        "outputId": "7d4b3936-b2e7-4f63-8a6f-426b3265fc17"
      },
      "outputs": [
        {
          "output_type": "stream",
          "name": "stdout",
          "text": [
            "Model: \"model\"\n",
            "_________________________________________________________________\n",
            " Layer (type)                Output Shape              Param #   \n",
            "=================================================================\n",
            " input_1 (InputLayer)        [(None, 1)]               0         \n",
            "                                                                 \n",
            " text_vectorization (TextVec  (None, 33)               0         \n",
            " torization)                                                     \n",
            "                                                                 \n",
            " embedding (Embedding)       (None, 33, 128)           192000    \n",
            "                                                                 \n",
            " conv1d (Conv1D)             (None, 33, 64)            41024     \n",
            "                                                                 \n",
            " global_max_pooling1d (Globa  (None, 64)               0         \n",
            " lMaxPooling1D)                                                  \n",
            "                                                                 \n",
            " dense (Dense)               (None, 1)                 65        \n",
            "                                                                 \n",
            "=================================================================\n",
            "Total params: 233,089\n",
            "Trainable params: 233,089\n",
            "Non-trainable params: 0\n",
            "_________________________________________________________________\n"
          ]
        }
      ],
      "source": [
        "# Building model_1 \n",
        "from tensorflow.keras import layers\n",
        "input=layers.Input(shape=(1,),dtype=tf.string)\n",
        "x=text_vectorizer(input)\n",
        "x=token_embed(x)\n",
        "x=layers.Conv1D(filters=64,\n",
        "                kernel_size=5,\n",
        "                padding=\"same\",\n",
        "                activation=\"relu\")(x)\n",
        "x=layers.GlobalMaxPooling1D()(x)\n",
        "output=layers.Dense(1,activation=\"sigmoid\")(x)\n",
        "model_1=tf.keras.Model(input,output)\n",
        "\n",
        "# Get summary of model_1\n",
        "model_1.summary()"
      ]
    },
    {
      "cell_type": "code",
      "execution_count": 23,
      "metadata": {
        "colab": {
          "base_uri": "https://localhost:8080/"
        },
        "id": "8UhHk5ihnQMH",
        "outputId": "47cb44a3-f2a5-4c1e-8ec7-50c15430049a"
      },
      "outputs": [
        {
          "output_type": "stream",
          "name": "stdout",
          "text": [
            "Epoch 1/10\n",
            "157/157 [==============================] - 13s 7ms/step - loss: 0.2777 - accuracy: 0.8981 - val_loss: 0.0842 - val_accuracy: 0.9695\n",
            "Epoch 2/10\n",
            "157/157 [==============================] - 1s 4ms/step - loss: 0.0569 - accuracy: 0.9852 - val_loss: 0.0526 - val_accuracy: 0.9785\n",
            "Epoch 3/10\n",
            "157/157 [==============================] - 1s 4ms/step - loss: 0.0312 - accuracy: 0.9922 - val_loss: 0.0525 - val_accuracy: 0.9731\n",
            "Epoch 4/10\n",
            "157/157 [==============================] - 1s 4ms/step - loss: 0.0206 - accuracy: 0.9952 - val_loss: 0.0578 - val_accuracy: 0.9749\n",
            "Epoch 5/10\n",
            "157/157 [==============================] - 1s 4ms/step - loss: 0.0127 - accuracy: 0.9976 - val_loss: 0.0816 - val_accuracy: 0.9659\n",
            "Epoch 6/10\n",
            "157/157 [==============================] - 1s 4ms/step - loss: 0.0100 - accuracy: 0.9980 - val_loss: 0.0574 - val_accuracy: 0.9785\n",
            "Epoch 7/10\n",
            "157/157 [==============================] - 1s 5ms/step - loss: 0.0070 - accuracy: 0.9988 - val_loss: 0.0522 - val_accuracy: 0.9839\n",
            "Epoch 8/10\n",
            "157/157 [==============================] - 1s 5ms/step - loss: 0.0044 - accuracy: 0.9992 - val_loss: 0.0601 - val_accuracy: 0.9821\n",
            "Epoch 9/10\n",
            "157/157 [==============================] - 1s 5ms/step - loss: 0.0037 - accuracy: 0.9992 - val_loss: 0.0571 - val_accuracy: 0.9803\n",
            "Epoch 10/10\n",
            "157/157 [==============================] - 1s 4ms/step - loss: 0.0035 - accuracy: 0.9994 - val_loss: 0.0641 - val_accuracy: 0.9803\n"
          ]
        }
      ],
      "source": [
        "# Compile model\n",
        "model_1.compile(loss=\"binary_crossentropy\",\n",
        "                optimizer=tf.keras.optimizers.Adam(),\n",
        "                metrics=\"accuracy\")\n",
        "\n",
        "# Fit model\n",
        "model_1_history=model_1.fit(train_sentences,\n",
        "                            train_labels_encoded,\n",
        "                            epochs=10,\n",
        "                            validation_data=(val_sentences,val_labels_encoded))"
      ]
    },
    {
      "cell_type": "code",
      "execution_count": 24,
      "metadata": {
        "colab": {
          "base_uri": "https://localhost:8080/"
        },
        "id": "uE2KLBtAoWxV",
        "outputId": "0a30dc1a-33c1-4b30-9423-0d2611ccbe9f"
      },
      "outputs": [
        {
          "output_type": "execute_result",
          "data": {
            "text/plain": [
              "<tf.Tensor: shape=(10,), dtype=float32, numpy=array([1., 0., 1., 1., 0., 0., 0., 0., 0., 0.], dtype=float32)>"
            ]
          },
          "metadata": {},
          "execution_count": 24
        }
      ],
      "source": [
        "# Making predictions with model_1\n",
        "model_1_preds=tf.round(tf.squeeze(model_1.predict(val_sentences)))\n",
        "model_1_preds[:10]"
      ]
    },
    {
      "cell_type": "code",
      "execution_count": 25,
      "metadata": {
        "colab": {
          "base_uri": "https://localhost:8080/"
        },
        "id": "FyY2wQOVnuLH",
        "outputId": "2291dc35-a966-4879-f728-42e86472fa81"
      },
      "outputs": [
        {
          "output_type": "execute_result",
          "data": {
            "text/plain": [
              "{'model_accuracy': 0.9802867383512545,\n",
              " 'model_precision': 0.9804096306889565,\n",
              " 'model_recall': 0.9802867383512545,\n",
              " 'model_f1': 0.9803417999268715}"
            ]
          },
          "metadata": {},
          "execution_count": 25
        }
      ],
      "source": [
        "# Evaluating model_1 performance\n",
        "model_1_results=calculate_result(y_true=val_labels_encoded,\n",
        "                                 y_pred=model_1_preds)\n",
        "model_1_results"
      ]
    },
    {
      "cell_type": "markdown",
      "metadata": {
        "id": "19LQ1xl-Wzw0"
      },
      "source": [
        "#### Model_2: LSTM model with token embedding"
      ]
    },
    {
      "cell_type": "code",
      "execution_count": 26,
      "metadata": {
        "colab": {
          "base_uri": "https://localhost:8080/"
        },
        "id": "CG0eDu0Sor_B",
        "outputId": "135c50c7-eee9-4bdc-855a-6bd5178aa8d0"
      },
      "outputs": [
        {
          "output_type": "stream",
          "name": "stdout",
          "text": [
            "Model: \"model_1\"\n",
            "_________________________________________________________________\n",
            " Layer (type)                Output Shape              Param #   \n",
            "=================================================================\n",
            " input_2 (InputLayer)        [(None, 1)]               0         \n",
            "                                                                 \n",
            " text_vectorization (TextVec  (None, 33)               0         \n",
            " torization)                                                     \n",
            "                                                                 \n",
            " embedding (Embedding)       (None, 33, 128)           192000    \n",
            "                                                                 \n",
            " lstm (LSTM)                 (None, 64)                49408     \n",
            "                                                                 \n",
            " dense_1 (Dense)             (None, 1)                 65        \n",
            "                                                                 \n",
            "=================================================================\n",
            "Total params: 241,473\n",
            "Trainable params: 241,473\n",
            "Non-trainable params: 0\n",
            "_________________________________________________________________\n"
          ]
        }
      ],
      "source": [
        "# Building model_2\n",
        "input=layers.Input(shape=(1,),dtype=tf.string)\n",
        "x=text_vectorizer(input)\n",
        "x=token_embed(x)\n",
        "x=layers.LSTM(64)(x)\n",
        "output=layers.Dense(1,activation=\"sigmoid\")(x)\n",
        "model_2=tf.keras.Model(input,output)\n",
        "\n",
        "# Getting a summary of model_2\n",
        "model_2.summary()"
      ]
    },
    {
      "cell_type": "code",
      "execution_count": 27,
      "metadata": {
        "colab": {
          "base_uri": "https://localhost:8080/"
        },
        "id": "5LniXE_zwJ17",
        "outputId": "2bd34cac-1c4b-47bd-802f-983c1330471f"
      },
      "outputs": [
        {
          "output_type": "stream",
          "name": "stdout",
          "text": [
            "Epoch 1/10\n",
            "157/157 [==============================] - 7s 17ms/step - loss: 0.1285 - accuracy: 0.9681 - val_loss: 0.0683 - val_accuracy: 0.9785\n",
            "Epoch 2/10\n",
            "157/157 [==============================] - 1s 9ms/step - loss: 0.0319 - accuracy: 0.9918 - val_loss: 0.0687 - val_accuracy: 0.9803\n",
            "Epoch 3/10\n",
            "157/157 [==============================] - 2s 10ms/step - loss: 0.0178 - accuracy: 0.9958 - val_loss: 0.0795 - val_accuracy: 0.9803\n",
            "Epoch 4/10\n",
            "157/157 [==============================] - 1s 9ms/step - loss: 0.0158 - accuracy: 0.9942 - val_loss: 0.0731 - val_accuracy: 0.9839\n",
            "Epoch 5/10\n",
            "157/157 [==============================] - 1s 9ms/step - loss: 0.0114 - accuracy: 0.9968 - val_loss: 0.1022 - val_accuracy: 0.9659\n",
            "Epoch 6/10\n",
            "157/157 [==============================] - 1s 9ms/step - loss: 0.0080 - accuracy: 0.9978 - val_loss: 0.1116 - val_accuracy: 0.9821\n",
            "Epoch 7/10\n",
            "157/157 [==============================] - 1s 9ms/step - loss: 0.0074 - accuracy: 0.9982 - val_loss: 0.0904 - val_accuracy: 0.9821\n",
            "Epoch 8/10\n",
            "157/157 [==============================] - 1s 9ms/step - loss: 0.0077 - accuracy: 0.9982 - val_loss: 0.1054 - val_accuracy: 0.9803\n",
            "Epoch 9/10\n",
            "157/157 [==============================] - 1s 9ms/step - loss: 0.0057 - accuracy: 0.9990 - val_loss: 0.0955 - val_accuracy: 0.9731\n",
            "Epoch 10/10\n",
            "157/157 [==============================] - 1s 9ms/step - loss: 0.0040 - accuracy: 0.9992 - val_loss: 0.1120 - val_accuracy: 0.9803\n"
          ]
        }
      ],
      "source": [
        "# Compile model\n",
        "model_2.compile(loss=\"binary_crossentropy\",\n",
        "                optimizer=tf.keras.optimizers.Adam(),\n",
        "                metrics=\"accuracy\")\n",
        "\n",
        "# Fit model\n",
        "history_model_2=model_2.fit(train_sentences,\n",
        "                            train_labels_encoded,\n",
        "                            epochs=10,\n",
        "                            validation_data=(val_sentences,val_labels_encoded))"
      ]
    },
    {
      "cell_type": "code",
      "execution_count": 28,
      "metadata": {
        "colab": {
          "base_uri": "https://localhost:8080/"
        },
        "id": "MM0XYLAPwkz0",
        "outputId": "5fdf32ed-5925-4dc9-f138-83822d2f1ef2"
      },
      "outputs": [
        {
          "output_type": "execute_result",
          "data": {
            "text/plain": [
              "<tf.Tensor: shape=(10,), dtype=float32, numpy=array([0., 0., 1., 1., 0., 0., 0., 0., 0., 0.], dtype=float32)>"
            ]
          },
          "metadata": {},
          "execution_count": 28
        }
      ],
      "source": [
        "# Making prediction with model_2\n",
        "model_2_preds=tf.round(tf.squeeze(model_2.predict(val_sentences)))\n",
        "model_2_preds[:10]"
      ]
    },
    {
      "cell_type": "code",
      "execution_count": 29,
      "metadata": {
        "colab": {
          "base_uri": "https://localhost:8080/"
        },
        "id": "F9KeMuQWYzgc",
        "outputId": "159abb1a-82f7-47b5-96c0-718c3b66827a"
      },
      "outputs": [
        {
          "output_type": "execute_result",
          "data": {
            "text/plain": [
              "{'model_accuracy': 0.9802867383512545,\n",
              " 'model_precision': 0.9811265577900751,\n",
              " 'model_recall': 0.9802867383512545,\n",
              " 'model_f1': 0.9805534109854206}"
            ]
          },
          "metadata": {},
          "execution_count": 29
        }
      ],
      "source": [
        "# Evaluating model_2 performance\n",
        "model_2_results=calculate_result(y_true=val_labels_encoded,\n",
        "                                y_pred=model_2_preds)\n",
        "model_2_results"
      ]
    },
    {
      "cell_type": "markdown",
      "metadata": {
        "id": "lQ5O9uu3ZJXx"
      },
      "source": [
        "#### Model_3: GRU model with token embedding"
      ]
    },
    {
      "cell_type": "code",
      "execution_count": 30,
      "metadata": {
        "colab": {
          "base_uri": "https://localhost:8080/"
        },
        "id": "IaFaF_CQZvdm",
        "outputId": "df3fc214-760e-4b6a-84a3-51dd3f465461"
      },
      "outputs": [
        {
          "output_type": "stream",
          "name": "stdout",
          "text": [
            "Model: \"model_2\"\n",
            "_________________________________________________________________\n",
            " Layer (type)                Output Shape              Param #   \n",
            "=================================================================\n",
            " input_3 (InputLayer)        [(None, 1)]               0         \n",
            "                                                                 \n",
            " text_vectorization (TextVec  (None, 33)               0         \n",
            " torization)                                                     \n",
            "                                                                 \n",
            " embedding (Embedding)       (None, 33, 128)           192000    \n",
            "                                                                 \n",
            " gru (GRU)                   (None, 64)                37248     \n",
            "                                                                 \n",
            " dense_2 (Dense)             (None, 1)                 65        \n",
            "                                                                 \n",
            "=================================================================\n",
            "Total params: 229,313\n",
            "Trainable params: 229,313\n",
            "Non-trainable params: 0\n",
            "_________________________________________________________________\n"
          ]
        }
      ],
      "source": [
        "# Building model_3\n",
        "input=layers.Input(shape=(1,),dtype=\"string\")\n",
        "x=text_vectorizer(input)\n",
        "x=token_embed(x)\n",
        "x=layers.GRU(64)(x)\n",
        "output=layers.Dense(1,activation=\"sigmoid\")(x)\n",
        "model_3=tf.keras.Model(input,output)\n",
        "\n",
        "# Getting summary of model_3\n",
        "model_3.summary()"
      ]
    },
    {
      "cell_type": "code",
      "execution_count": 31,
      "metadata": {
        "colab": {
          "base_uri": "https://localhost:8080/"
        },
        "id": "9WhJFS0Kbcah",
        "outputId": "b3567dcb-3a9f-4b24-c82c-fe5777ed21f5"
      },
      "outputs": [
        {
          "output_type": "stream",
          "name": "stdout",
          "text": [
            "Epoch 1/10\n",
            "157/157 [==============================] - 6s 16ms/step - loss: 0.1133 - accuracy: 0.9619 - val_loss: 0.0869 - val_accuracy: 0.9785\n",
            "Epoch 2/10\n",
            "157/157 [==============================] - 1s 9ms/step - loss: 0.0144 - accuracy: 0.9964 - val_loss: 0.0843 - val_accuracy: 0.9821\n",
            "Epoch 3/10\n",
            "157/157 [==============================] - 1s 9ms/step - loss: 0.0121 - accuracy: 0.9964 - val_loss: 0.0982 - val_accuracy: 0.9785\n",
            "Epoch 4/10\n",
            "157/157 [==============================] - 1s 9ms/step - loss: 0.0079 - accuracy: 0.9980 - val_loss: 0.1091 - val_accuracy: 0.9767\n",
            "Epoch 5/10\n",
            "157/157 [==============================] - 1s 9ms/step - loss: 0.0054 - accuracy: 0.9988 - val_loss: 0.1056 - val_accuracy: 0.9821\n",
            "Epoch 6/10\n",
            "157/157 [==============================] - 1s 9ms/step - loss: 0.0064 - accuracy: 0.9988 - val_loss: 0.0972 - val_accuracy: 0.9785\n",
            "Epoch 7/10\n",
            "157/157 [==============================] - 2s 12ms/step - loss: 0.0041 - accuracy: 0.9992 - val_loss: 0.1173 - val_accuracy: 0.9767\n",
            "Epoch 8/10\n",
            "157/157 [==============================] - 3s 18ms/step - loss: 0.0032 - accuracy: 0.9994 - val_loss: 0.1283 - val_accuracy: 0.9767\n",
            "Epoch 9/10\n",
            "157/157 [==============================] - 3s 16ms/step - loss: 0.0031 - accuracy: 0.9994 - val_loss: 0.1474 - val_accuracy: 0.9767\n",
            "Epoch 10/10\n",
            "157/157 [==============================] - 1s 9ms/step - loss: 0.0025 - accuracy: 0.9994 - val_loss: 0.1296 - val_accuracy: 0.9785\n"
          ]
        }
      ],
      "source": [
        "# Compile model\n",
        "model_3.compile(loss=\"binary_crossentropy\",\n",
        "                optimizer=tf.keras.optimizers.Adam(),\n",
        "                metrics=\"accuracy\")\n",
        "\n",
        "# Fit model\n",
        "model_3_history=model_3.fit(train_sentences,\n",
        "                            train_labels_encoded,\n",
        "                            epochs=10,\n",
        "                            validation_data=(val_sentences,val_labels_encoded))"
      ]
    },
    {
      "cell_type": "code",
      "execution_count": 32,
      "metadata": {
        "colab": {
          "base_uri": "https://localhost:8080/"
        },
        "id": "9wM7-90Qaloj",
        "outputId": "c445a68f-696d-4d47-ad82-05fc70a8ec5f"
      },
      "outputs": [
        {
          "output_type": "execute_result",
          "data": {
            "text/plain": [
              "<tf.Tensor: shape=(10,), dtype=float32, numpy=array([0., 0., 1., 1., 0., 0., 0., 0., 0., 0.], dtype=float32)>"
            ]
          },
          "metadata": {},
          "execution_count": 32
        }
      ],
      "source": [
        "# Making predictions with model_3\n",
        "model_3_preds=tf.round(tf.squeeze(model_3.predict(val_sentences)))\n",
        "model_3_preds[:10]"
      ]
    },
    {
      "cell_type": "code",
      "execution_count": 33,
      "metadata": {
        "colab": {
          "base_uri": "https://localhost:8080/"
        },
        "id": "WWDgR70Fa7ZS",
        "outputId": "74f3096d-febe-47ad-d1e1-f5c43a679252"
      },
      "outputs": [
        {
          "output_type": "execute_result",
          "data": {
            "text/plain": [
              "{'model_accuracy': 0.978494623655914,\n",
              " 'model_precision': 0.9787832045896563,\n",
              " 'model_recall': 0.978494623655914,\n",
              " 'model_f1': 0.9786137979133351}"
            ]
          },
          "metadata": {},
          "execution_count": 33
        }
      ],
      "source": [
        "# Evaluating model_3 performance\n",
        "model_3_results=calculate_result(y_true=val_labels_encoded,\n",
        "                                 y_pred=model_3_preds)\n",
        "model_3_results"
      ]
    },
    {
      "cell_type": "markdown",
      "metadata": {
        "id": "Aby6WrJHxf7E"
      },
      "source": [
        "#### Model_4: Tensorflow Hub pretrained Sentence encoder"
      ]
    },
    {
      "cell_type": "code",
      "execution_count": 34,
      "metadata": {
        "id": "qxuhVYCUxfnl"
      },
      "outputs": [],
      "source": [
        "# Creating keras layer using the universal sentence encoder pretrained layer from tensorflow hub\n",
        "import tensorflow_hub as hub\n",
        "sentence_encoder=hub.KerasLayer(\"https://tfhub.dev/google/universal-sentence-encoder/4\",\n",
        "                                input_shape=[],\n",
        "                                trainable=True,\n",
        "                                dtype=tf.string)"
      ]
    },
    {
      "cell_type": "code",
      "execution_count": 35,
      "metadata": {
        "colab": {
          "base_uri": "https://localhost:8080/"
        },
        "id": "Q66e92nOyR5Y",
        "outputId": "0bd634fa-b556-45e1-f44c-1035d2d1799e"
      },
      "outputs": [
        {
          "output_type": "stream",
          "name": "stdout",
          "text": [
            "Model: \"sequential\"\n",
            "_________________________________________________________________\n",
            " Layer (type)                Output Shape              Param #   \n",
            "=================================================================\n",
            " keras_layer (KerasLayer)    (None, 512)               256797824 \n",
            "                                                                 \n",
            " dense_3 (Dense)             (None, 64)                32832     \n",
            "                                                                 \n",
            " dense_4 (Dense)             (None, 1)                 65        \n",
            "                                                                 \n",
            "=================================================================\n",
            "Total params: 256,830,721\n",
            "Trainable params: 256,830,721\n",
            "Non-trainable params: 0\n",
            "_________________________________________________________________\n"
          ]
        }
      ],
      "source": [
        "# Building model_4 using Sequential API\n",
        "model_4=tf.keras.Sequential([\n",
        "  sentence_encoder,\n",
        "  layers.Dense(64,activation=\"relu\"),\n",
        "  layers.Dense(1,activation=\"sigmoid\")\n",
        "])\n",
        "\n",
        "# Getting summary of model_4\n",
        "model_4.summary()"
      ]
    },
    {
      "cell_type": "code",
      "execution_count": 36,
      "metadata": {
        "colab": {
          "base_uri": "https://localhost:8080/"
        },
        "id": "DWBhVEyWyki4",
        "outputId": "1ee84835-73e5-48e1-a585-a7576995d01c"
      },
      "outputs": [
        {
          "output_type": "stream",
          "name": "stdout",
          "text": [
            "Epoch 1/10\n",
            "157/157 [==============================] - 30s 156ms/step - loss: 0.1206 - accuracy: 0.9595 - val_loss: 0.0960 - val_accuracy: 0.9659\n",
            "Epoch 2/10\n",
            "157/157 [==============================] - 24s 154ms/step - loss: 0.0201 - accuracy: 0.9960 - val_loss: 0.0888 - val_accuracy: 0.9713\n",
            "Epoch 3/10\n",
            "157/157 [==============================] - 24s 153ms/step - loss: 0.0080 - accuracy: 0.9980 - val_loss: 0.0737 - val_accuracy: 0.9731\n",
            "Epoch 4/10\n",
            "157/157 [==============================] - 24s 153ms/step - loss: 6.7611e-04 - accuracy: 1.0000 - val_loss: 0.0681 - val_accuracy: 0.9785\n",
            "Epoch 5/10\n",
            "157/157 [==============================] - 24s 153ms/step - loss: 5.9179e-04 - accuracy: 0.9998 - val_loss: 0.1242 - val_accuracy: 0.9713\n",
            "Epoch 6/10\n",
            "157/157 [==============================] - 24s 152ms/step - loss: 1.6110e-04 - accuracy: 1.0000 - val_loss: 0.0770 - val_accuracy: 0.9785\n",
            "Epoch 7/10\n",
            "157/157 [==============================] - 24s 152ms/step - loss: 1.0781e-04 - accuracy: 1.0000 - val_loss: 0.0727 - val_accuracy: 0.9803\n",
            "Epoch 8/10\n",
            "157/157 [==============================] - 24s 151ms/step - loss: 8.0894e-05 - accuracy: 1.0000 - val_loss: 0.0768 - val_accuracy: 0.9785\n",
            "Epoch 9/10\n",
            "157/157 [==============================] - 24s 151ms/step - loss: 6.3070e-05 - accuracy: 1.0000 - val_loss: 0.0789 - val_accuracy: 0.9785\n",
            "Epoch 10/10\n",
            "157/157 [==============================] - 24s 151ms/step - loss: 5.0465e-05 - accuracy: 1.0000 - val_loss: 0.0791 - val_accuracy: 0.9803\n"
          ]
        }
      ],
      "source": [
        "# Compile model\n",
        "model_4.compile(loss=\"binary_crossentropy\",\n",
        "                optimizer=tf.keras.optimizers.Adam(),\n",
        "                metrics=\"accuracy\")\n",
        "\n",
        "# Fit model\n",
        "model_4_history=model_4.fit(train_sentences,\n",
        "                            train_labels_encoded,\n",
        "                            epochs=10,\n",
        "                            validation_data=(val_sentences,val_labels_encoded))"
      ]
    },
    {
      "cell_type": "code",
      "execution_count": 37,
      "metadata": {
        "colab": {
          "base_uri": "https://localhost:8080/"
        },
        "id": "HERWX-uNy9uz",
        "outputId": "3083e72e-8214-491d-d117-c5e9edfc0767"
      },
      "outputs": [
        {
          "output_type": "execute_result",
          "data": {
            "text/plain": [
              "<tf.Tensor: shape=(10,), dtype=float32, numpy=array([0., 0., 1., 1., 0., 0., 0., 0., 0., 0.], dtype=float32)>"
            ]
          },
          "metadata": {},
          "execution_count": 37
        }
      ],
      "source": [
        "# Making predictions with model_4\n",
        "model_4_preds=tf.round(tf.squeeze(model_4.predict(val_sentences)))\n",
        "model_4_preds[:10]"
      ]
    },
    {
      "cell_type": "code",
      "execution_count": 38,
      "metadata": {
        "colab": {
          "base_uri": "https://localhost:8080/"
        },
        "id": "yWp6a3Xj2yBE",
        "outputId": "50af7126-fbcd-4687-fab7-627524607642"
      },
      "outputs": [
        {
          "output_type": "execute_result",
          "data": {
            "text/plain": [
              "{'model_accuracy': 0.9802867383512545,\n",
              " 'model_precision': 0.9807244279018474,\n",
              " 'model_recall': 0.9802867383512545,\n",
              " 'model_f1': 0.9804492996072915}"
            ]
          },
          "metadata": {},
          "execution_count": 38
        }
      ],
      "source": [
        "# Evaluating model_4 performance\n",
        "model_4_results=calculate_result(y_true=val_labels_encoded,\n",
        "                                 y_pred=model_4_preds)\n",
        "model_4_results"
      ]
    },
    {
      "cell_type": "markdown",
      "metadata": {
        "id": "pRoTCz6dDHgh"
      },
      "source": [
        "### Comparing performance of each of the model\n",
        "\n"
      ]
    },
    {
      "cell_type": "code",
      "execution_count": 39,
      "metadata": {
        "colab": {
          "base_uri": "https://localhost:8080/",
          "height": 206
        },
        "id": "BWHepiwDt32o",
        "outputId": "94b3c0f6-0053-4d65-c49b-860b4653d2db"
      },
      "outputs": [
        {
          "output_type": "execute_result",
          "data": {
            "text/plain": [
              "                model_accuracy  model_precision  model_recall  model_f1\n",
              "Baseline model        0.967742         0.968901      0.967742  0.965838\n",
              "Conv1D model          0.980287         0.980410      0.980287  0.980342\n",
              "LSTM model            0.980287         0.981127      0.980287  0.980553\n",
              "GRU model             0.978495         0.978783      0.978495  0.978614\n",
              "Tf hub model          0.980287         0.980724      0.980287  0.980449"
            ],
            "text/html": [
              "\n",
              "  <div id=\"df-4194b9e4-fe2f-478a-8355-8273d8a250c6\">\n",
              "    <div class=\"colab-df-container\">\n",
              "      <div>\n",
              "<style scoped>\n",
              "    .dataframe tbody tr th:only-of-type {\n",
              "        vertical-align: middle;\n",
              "    }\n",
              "\n",
              "    .dataframe tbody tr th {\n",
              "        vertical-align: top;\n",
              "    }\n",
              "\n",
              "    .dataframe thead th {\n",
              "        text-align: right;\n",
              "    }\n",
              "</style>\n",
              "<table border=\"1\" class=\"dataframe\">\n",
              "  <thead>\n",
              "    <tr style=\"text-align: right;\">\n",
              "      <th></th>\n",
              "      <th>model_accuracy</th>\n",
              "      <th>model_precision</th>\n",
              "      <th>model_recall</th>\n",
              "      <th>model_f1</th>\n",
              "    </tr>\n",
              "  </thead>\n",
              "  <tbody>\n",
              "    <tr>\n",
              "      <th>Baseline model</th>\n",
              "      <td>0.967742</td>\n",
              "      <td>0.968901</td>\n",
              "      <td>0.967742</td>\n",
              "      <td>0.965838</td>\n",
              "    </tr>\n",
              "    <tr>\n",
              "      <th>Conv1D model</th>\n",
              "      <td>0.980287</td>\n",
              "      <td>0.980410</td>\n",
              "      <td>0.980287</td>\n",
              "      <td>0.980342</td>\n",
              "    </tr>\n",
              "    <tr>\n",
              "      <th>LSTM model</th>\n",
              "      <td>0.980287</td>\n",
              "      <td>0.981127</td>\n",
              "      <td>0.980287</td>\n",
              "      <td>0.980553</td>\n",
              "    </tr>\n",
              "    <tr>\n",
              "      <th>GRU model</th>\n",
              "      <td>0.978495</td>\n",
              "      <td>0.978783</td>\n",
              "      <td>0.978495</td>\n",
              "      <td>0.978614</td>\n",
              "    </tr>\n",
              "    <tr>\n",
              "      <th>Tf hub model</th>\n",
              "      <td>0.980287</td>\n",
              "      <td>0.980724</td>\n",
              "      <td>0.980287</td>\n",
              "      <td>0.980449</td>\n",
              "    </tr>\n",
              "  </tbody>\n",
              "</table>\n",
              "</div>\n",
              "      <button class=\"colab-df-convert\" onclick=\"convertToInteractive('df-4194b9e4-fe2f-478a-8355-8273d8a250c6')\"\n",
              "              title=\"Convert this dataframe to an interactive table.\"\n",
              "              style=\"display:none;\">\n",
              "        \n",
              "  <svg xmlns=\"http://www.w3.org/2000/svg\" height=\"24px\"viewBox=\"0 0 24 24\"\n",
              "       width=\"24px\">\n",
              "    <path d=\"M0 0h24v24H0V0z\" fill=\"none\"/>\n",
              "    <path d=\"M18.56 5.44l.94 2.06.94-2.06 2.06-.94-2.06-.94-.94-2.06-.94 2.06-2.06.94zm-11 1L8.5 8.5l.94-2.06 2.06-.94-2.06-.94L8.5 2.5l-.94 2.06-2.06.94zm10 10l.94 2.06.94-2.06 2.06-.94-2.06-.94-.94-2.06-.94 2.06-2.06.94z\"/><path d=\"M17.41 7.96l-1.37-1.37c-.4-.4-.92-.59-1.43-.59-.52 0-1.04.2-1.43.59L10.3 9.45l-7.72 7.72c-.78.78-.78 2.05 0 2.83L4 21.41c.39.39.9.59 1.41.59.51 0 1.02-.2 1.41-.59l7.78-7.78 2.81-2.81c.8-.78.8-2.07 0-2.86zM5.41 20L4 18.59l7.72-7.72 1.47 1.35L5.41 20z\"/>\n",
              "  </svg>\n",
              "      </button>\n",
              "      \n",
              "  <style>\n",
              "    .colab-df-container {\n",
              "      display:flex;\n",
              "      flex-wrap:wrap;\n",
              "      gap: 12px;\n",
              "    }\n",
              "\n",
              "    .colab-df-convert {\n",
              "      background-color: #E8F0FE;\n",
              "      border: none;\n",
              "      border-radius: 50%;\n",
              "      cursor: pointer;\n",
              "      display: none;\n",
              "      fill: #1967D2;\n",
              "      height: 32px;\n",
              "      padding: 0 0 0 0;\n",
              "      width: 32px;\n",
              "    }\n",
              "\n",
              "    .colab-df-convert:hover {\n",
              "      background-color: #E2EBFA;\n",
              "      box-shadow: 0px 1px 2px rgba(60, 64, 67, 0.3), 0px 1px 3px 1px rgba(60, 64, 67, 0.15);\n",
              "      fill: #174EA6;\n",
              "    }\n",
              "\n",
              "    [theme=dark] .colab-df-convert {\n",
              "      background-color: #3B4455;\n",
              "      fill: #D2E3FC;\n",
              "    }\n",
              "\n",
              "    [theme=dark] .colab-df-convert:hover {\n",
              "      background-color: #434B5C;\n",
              "      box-shadow: 0px 1px 3px 1px rgba(0, 0, 0, 0.15);\n",
              "      filter: drop-shadow(0px 1px 2px rgba(0, 0, 0, 0.3));\n",
              "      fill: #FFFFFF;\n",
              "    }\n",
              "  </style>\n",
              "\n",
              "      <script>\n",
              "        const buttonEl =\n",
              "          document.querySelector('#df-4194b9e4-fe2f-478a-8355-8273d8a250c6 button.colab-df-convert');\n",
              "        buttonEl.style.display =\n",
              "          google.colab.kernel.accessAllowed ? 'block' : 'none';\n",
              "\n",
              "        async function convertToInteractive(key) {\n",
              "          const element = document.querySelector('#df-4194b9e4-fe2f-478a-8355-8273d8a250c6');\n",
              "          const dataTable =\n",
              "            await google.colab.kernel.invokeFunction('convertToInteractive',\n",
              "                                                     [key], {});\n",
              "          if (!dataTable) return;\n",
              "\n",
              "          const docLinkHtml = 'Like what you see? Visit the ' +\n",
              "            '<a target=\"_blank\" href=https://colab.research.google.com/notebooks/data_table.ipynb>data table notebook</a>'\n",
              "            + ' to learn more about interactive tables.';\n",
              "          element.innerHTML = '';\n",
              "          dataTable['output_type'] = 'display_data';\n",
              "          await google.colab.output.renderOutput(dataTable, element);\n",
              "          const docLink = document.createElement('div');\n",
              "          docLink.innerHTML = docLinkHtml;\n",
              "          element.appendChild(docLink);\n",
              "        }\n",
              "      </script>\n",
              "    </div>\n",
              "  </div>\n",
              "  "
            ]
          },
          "metadata": {},
          "execution_count": 39
        }
      ],
      "source": [
        "# Combining all model result into a DataFrame\n",
        "all_model_result=pd.DataFrame({\"Baseline model\": baseline_model_results,\n",
        "                               \"Conv1D model\": model_1_results,\n",
        "                               \"LSTM model\": model_2_results,\n",
        "                               \"GRU model\": model_3_results,\n",
        "                               \"Tf hub model\": model_4_results})\n",
        "\n",
        "all_model_result=all_model_result.transpose()\n",
        "all_model_result"
      ]
    },
    {
      "cell_type": "code",
      "execution_count": 40,
      "metadata": {
        "colab": {
          "base_uri": "https://localhost:8080/",
          "height": 495
        },
        "id": "XLx-HdN-Dw3j",
        "outputId": "8fed10fa-226b-47e0-e841-d6e8f8dba166"
      },
      "outputs": [
        {
          "output_type": "display_data",
          "data": {
            "text/plain": [
              "<Figure size 720x504 with 1 Axes>"
            ],
            "image/png": "[encoded data removed]"
          },
          "metadata": {
            "needs_background": "light"
          }
        }
      ],
      "source": [
        "# Plot and compare all of the model results\n",
        "all_model_result.plot(kind=\"bar\",figsize=(10,7)).legend(bbox_to_anchor=(1.0,1.0));"
      ]
    },
    {
      "cell_type": "markdown",
      "metadata": {
        "id": "dmR1RH1GDiM6"
      },
      "source": [
        "Looking at the Dataframe above, the LSTM model is the best performing model"
      ]
    },
    {
      "cell_type": "markdown",
      "metadata": {
        "id": "6ntKH6bMF8D2"
      },
      "source": [
        "### Getting the most wrong prediction from the best performing model"
      ]
    },
    {
      "cell_type": "code",
      "execution_count": 41,
      "metadata": {
        "colab": {
          "base_uri": "https://localhost:8080/",
          "height": 206
        },
        "id": "vxU1MH5nxL1I",
        "outputId": "730ebdc0-c0ad-4d41-ae92-aac1095eccd2"
      },
      "outputs": [
        {
          "output_type": "execute_result",
          "data": {
            "text/plain": [
              "                                                text  target  preds\n",
              "0              Great comedy..cant stop laughing da:)       0    0.0\n",
              "1                        Its sarcasm.. .nt scarcasim       0    0.0\n",
              "2  We tried to contact you re your reply to our o...       1    1.0\n",
              "3  FreeMsg: Claim ur 250 SMS messages-Text OK to ...       1    1.0\n",
              "4                         Ya that one is slow as poo       0    0.0"
            ],
            "text/html": [
              "\n",
              "  <div id=\"df-4171bf1b-0425-469e-a360-7813231a83c9\">\n",
              "    <div class=\"colab-df-container\">\n",
              "      <div>\n",
              "<style scoped>\n",
              "    .dataframe tbody tr th:only-of-type {\n",
              "        vertical-align: middle;\n",
              "    }\n",
              "\n",
              "    .dataframe tbody tr th {\n",
              "        vertical-align: top;\n",
              "    }\n",
              "\n",
              "    .dataframe thead th {\n",
              "        text-align: right;\n",
              "    }\n",
              "</style>\n",
              "<table border=\"1\" class=\"dataframe\">\n",
              "  <thead>\n",
              "    <tr style=\"text-align: right;\">\n",
              "      <th></th>\n",
              "      <th>text</th>\n",
              "      <th>target</th>\n",
              "      <th>preds</th>\n",
              "    </tr>\n",
              "  </thead>\n",
              "  <tbody>\n",
              "    <tr>\n",
              "      <th>0</th>\n",
              "      <td>Great comedy..cant stop laughing da:)</td>\n",
              "      <td>0</td>\n",
              "      <td>0.0</td>\n",
              "    </tr>\n",
              "    <tr>\n",
              "      <th>1</th>\n",
              "      <td>Its sarcasm.. .nt scarcasim</td>\n",
              "      <td>0</td>\n",
              "      <td>0.0</td>\n",
              "    </tr>\n",
              "    <tr>\n",
              "      <th>2</th>\n",
              "      <td>We tried to contact you re your reply to our o...</td>\n",
              "      <td>1</td>\n",
              "      <td>1.0</td>\n",
              "    </tr>\n",
              "    <tr>\n",
              "      <th>3</th>\n",
              "      <td>FreeMsg: Claim ur 250 SMS messages-Text OK to ...</td>\n",
              "      <td>1</td>\n",
              "      <td>1.0</td>\n",
              "    </tr>\n",
              "    <tr>\n",
              "      <th>4</th>\n",
              "      <td>Ya that one is slow as poo</td>\n",
              "      <td>0</td>\n",
              "      <td>0.0</td>\n",
              "    </tr>\n",
              "  </tbody>\n",
              "</table>\n",
              "</div>\n",
              "      <button class=\"colab-df-convert\" onclick=\"convertToInteractive('df-4171bf1b-0425-469e-a360-7813231a83c9')\"\n",
              "              title=\"Convert this dataframe to an interactive table.\"\n",
              "              style=\"display:none;\">\n",
              "        \n",
              "  <svg xmlns=\"http://www.w3.org/2000/svg\" height=\"24px\"viewBox=\"0 0 24 24\"\n",
              "       width=\"24px\">\n",
              "    <path d=\"M0 0h24v24H0V0z\" fill=\"none\"/>\n",
              "    <path d=\"M18.56 5.44l.94 2.06.94-2.06 2.06-.94-2.06-.94-.94-2.06-.94 2.06-2.06.94zm-11 1L8.5 8.5l.94-2.06 2.06-.94-2.06-.94L8.5 2.5l-.94 2.06-2.06.94zm10 10l.94 2.06.94-2.06 2.06-.94-2.06-.94-.94-2.06-.94 2.06-2.06.94z\"/><path d=\"M17.41 7.96l-1.37-1.37c-.4-.4-.92-.59-1.43-.59-.52 0-1.04.2-1.43.59L10.3 9.45l-7.72 7.72c-.78.78-.78 2.05 0 2.83L4 21.41c.39.39.9.59 1.41.59.51 0 1.02-.2 1.41-.59l7.78-7.78 2.81-2.81c.8-.78.8-2.07 0-2.86zM5.41 20L4 18.59l7.72-7.72 1.47 1.35L5.41 20z\"/>\n",
              "  </svg>\n",
              "      </button>\n",
              "      \n",
              "  <style>\n",
              "    .colab-df-container {\n",
              "      display:flex;\n",
              "      flex-wrap:wrap;\n",
              "      gap: 12px;\n",
              "    }\n",
              "\n",
              "    .colab-df-convert {\n",
              "      background-color: #E8F0FE;\n",
              "      border: none;\n",
              "      border-radius: 50%;\n",
              "      cursor: pointer;\n",
              "      display: none;\n",
              "      fill: #1967D2;\n",
              "      height: 32px;\n",
              "      padding: 0 0 0 0;\n",
              "      width: 32px;\n",
              "    }\n",
              "\n",
              "    .colab-df-convert:hover {\n",
              "      background-color: #E2EBFA;\n",
              "      box-shadow: 0px 1px 2px rgba(60, 64, 67, 0.3), 0px 1px 3px 1px rgba(60, 64, 67, 0.15);\n",
              "      fill: #174EA6;\n",
              "    }\n",
              "\n",
              "    [theme=dark] .colab-df-convert {\n",
              "      background-color: #3B4455;\n",
              "      fill: #D2E3FC;\n",
              "    }\n",
              "\n",
              "    [theme=dark] .colab-df-convert:hover {\n",
              "      background-color: #434B5C;\n",
              "      box-shadow: 0px 1px 3px 1px rgba(0, 0, 0, 0.15);\n",
              "      filter: drop-shadow(0px 1px 2px rgba(0, 0, 0, 0.3));\n",
              "      fill: #FFFFFF;\n",
              "    }\n",
              "  </style>\n",
              "\n",
              "      <script>\n",
              "        const buttonEl =\n",
              "          document.querySelector('#df-4171bf1b-0425-469e-a360-7813231a83c9 button.colab-df-convert');\n",
              "        buttonEl.style.display =\n",
              "          google.colab.kernel.accessAllowed ? 'block' : 'none';\n",
              "\n",
              "        async function convertToInteractive(key) {\n",
              "          const element = document.querySelector('#df-4171bf1b-0425-469e-a360-7813231a83c9');\n",
              "          const dataTable =\n",
              "            await google.colab.kernel.invokeFunction('convertToInteractive',\n",
              "                                                     [key], {});\n",
              "          if (!dataTable) return;\n",
              "\n",
              "          const docLinkHtml = 'Like what you see? Visit the ' +\n",
              "            '<a target=\"_blank\" href=https://colab.research.google.com/notebooks/data_table.ipynb>data table notebook</a>'\n",
              "            + ' to learn more about interactive tables.';\n",
              "          element.innerHTML = '';\n",
              "          dataTable['output_type'] = 'display_data';\n",
              "          await google.colab.output.renderOutput(dataTable, element);\n",
              "          const docLink = document.createElement('div');\n",
              "          docLink.innerHTML = docLinkHtml;\n",
              "          element.appendChild(docLink);\n",
              "        }\n",
              "      </script>\n",
              "    </div>\n",
              "  </div>\n",
              "  "
            ]
          },
          "metadata": {},
          "execution_count": 41
        }
      ],
      "source": [
        "# Creating DataFrame with validation sentences, validation labels and best performing model predictions labels(LSTM model)\n",
        "val_df=pd.DataFrame({\"text\":val_sentences,\n",
        "                     \"target\":val_labels_encoded,\n",
        "                     \"preds\": model_2_preds})\n",
        "val_df.head()"
      ]
    },
    {
      "cell_type": "code",
      "execution_count": 42,
      "metadata": {
        "colab": {
          "base_uri": "https://localhost:8080/",
          "height": 206
        },
        "id": "Rzs935HJCJV9",
        "outputId": "dbed7268-1a55-4b1f-f400-780d2b3a1329"
      },
      "outputs": [
        {
          "output_type": "execute_result",
          "data": {
            "text/plain": [
              "                                                  text  target  preds\n",
              "15                 Fuuuuck I need to stop sleepin, sup       0    1.0\n",
              "19   \\Hi missed your Call and my mumHas beendroppin...       0    1.0\n",
              "115  Total video converter free download type this ...       0    1.0\n",
              "129  Cashbin.co.uk (Get lots of cash this weekend!)...       1    0.0\n",
              "248  This message is from a great Doctor in India:-...       0    1.0"
            ],
            "text/html": [
              "\n",
              "  <div id=\"df-3a0ea2c5-024d-4a0c-b9f7-0868558398b7\">\n",
              "    <div class=\"colab-df-container\">\n",
              "      <div>\n",
              "<style scoped>\n",
              "    .dataframe tbody tr th:only-of-type {\n",
              "        vertical-align: middle;\n",
              "    }\n",
              "\n",
              "    .dataframe tbody tr th {\n",
              "        vertical-align: top;\n",
              "    }\n",
              "\n",
              "    .dataframe thead th {\n",
              "        text-align: right;\n",
              "    }\n",
              "</style>\n",
              "<table border=\"1\" class=\"dataframe\">\n",
              "  <thead>\n",
              "    <tr style=\"text-align: right;\">\n",
              "      <th></th>\n",
              "      <th>text</th>\n",
              "      <th>target</th>\n",
              "      <th>preds</th>\n",
              "    </tr>\n",
              "  </thead>\n",
              "  <tbody>\n",
              "    <tr>\n",
              "      <th>15</th>\n",
              "      <td>Fuuuuck I need to stop sleepin, sup</td>\n",
              "      <td>0</td>\n",
              "      <td>1.0</td>\n",
              "    </tr>\n",
              "    <tr>\n",
              "      <th>19</th>\n",
              "      <td>\\Hi missed your Call and my mumHas beendroppin...</td>\n",
              "      <td>0</td>\n",
              "      <td>1.0</td>\n",
              "    </tr>\n",
              "    <tr>\n",
              "      <th>115</th>\n",
              "      <td>Total video converter free download type this ...</td>\n",
              "      <td>0</td>\n",
              "      <td>1.0</td>\n",
              "    </tr>\n",
              "    <tr>\n",
              "      <th>129</th>\n",
              "      <td>Cashbin.co.uk (Get lots of cash this weekend!)...</td>\n",
              "      <td>1</td>\n",
              "      <td>0.0</td>\n",
              "    </tr>\n",
              "    <tr>\n",
              "      <th>248</th>\n",
              "      <td>This message is from a great Doctor in India:-...</td>\n",
              "      <td>0</td>\n",
              "      <td>1.0</td>\n",
              "    </tr>\n",
              "  </tbody>\n",
              "</table>\n",
              "</div>\n",
              "      <button class=\"colab-df-convert\" onclick=\"convertToInteractive('df-3a0ea2c5-024d-4a0c-b9f7-0868558398b7')\"\n",
              "              title=\"Convert this dataframe to an interactive table.\"\n",
              "              style=\"display:none;\">\n",
              "        \n",
              "  <svg xmlns=\"http://www.w3.org/2000/svg\" height=\"24px\"viewBox=\"0 0 24 24\"\n",
              "       width=\"24px\">\n",
              "    <path d=\"M0 0h24v24H0V0z\" fill=\"none\"/>\n",
              "    <path d=\"M18.56 5.44l.94 2.06.94-2.06 2.06-.94-2.06-.94-.94-2.06-.94 2.06-2.06.94zm-11 1L8.5 8.5l.94-2.06 2.06-.94-2.06-.94L8.5 2.5l-.94 2.06-2.06.94zm10 10l.94 2.06.94-2.06 2.06-.94-2.06-.94-.94-2.06-.94 2.06-2.06.94z\"/><path d=\"M17.41 7.96l-1.37-1.37c-.4-.4-.92-.59-1.43-.59-.52 0-1.04.2-1.43.59L10.3 9.45l-7.72 7.72c-.78.78-.78 2.05 0 2.83L4 21.41c.39.39.9.59 1.41.59.51 0 1.02-.2 1.41-.59l7.78-7.78 2.81-2.81c.8-.78.8-2.07 0-2.86zM5.41 20L4 18.59l7.72-7.72 1.47 1.35L5.41 20z\"/>\n",
              "  </svg>\n",
              "      </button>\n",
              "      \n",
              "  <style>\n",
              "    .colab-df-container {\n",
              "      display:flex;\n",
              "      flex-wrap:wrap;\n",
              "      gap: 12px;\n",
              "    }\n",
              "\n",
              "    .colab-df-convert {\n",
              "      background-color: #E8F0FE;\n",
              "      border: none;\n",
              "      border-radius: 50%;\n",
              "      cursor: pointer;\n",
              "      display: none;\n",
              "      fill: #1967D2;\n",
              "      height: 32px;\n",
              "      padding: 0 0 0 0;\n",
              "      width: 32px;\n",
              "    }\n",
              "\n",
              "    .colab-df-convert:hover {\n",
              "      background-color: #E2EBFA;\n",
              "      box-shadow: 0px 1px 2px rgba(60, 64, 67, 0.3), 0px 1px 3px 1px rgba(60, 64, 67, 0.15);\n",
              "      fill: #174EA6;\n",
              "    }\n",
              "\n",
              "    [theme=dark] .colab-df-convert {\n",
              "      background-color: #3B4455;\n",
              "      fill: #D2E3FC;\n",
              "    }\n",
              "\n",
              "    [theme=dark] .colab-df-convert:hover {\n",
              "      background-color: #434B5C;\n",
              "      box-shadow: 0px 1px 3px 1px rgba(0, 0, 0, 0.15);\n",
              "      filter: drop-shadow(0px 1px 2px rgba(0, 0, 0, 0.3));\n",
              "      fill: #FFFFFF;\n",
              "    }\n",
              "  </style>\n",
              "\n",
              "      <script>\n",
              "        const buttonEl =\n",
              "          document.querySelector('#df-3a0ea2c5-024d-4a0c-b9f7-0868558398b7 button.colab-df-convert');\n",
              "        buttonEl.style.display =\n",
              "          google.colab.kernel.accessAllowed ? 'block' : 'none';\n",
              "\n",
              "        async function convertToInteractive(key) {\n",
              "          const element = document.querySelector('#df-3a0ea2c5-024d-4a0c-b9f7-0868558398b7');\n",
              "          const dataTable =\n",
              "            await google.colab.kernel.invokeFunction('convertToInteractive',\n",
              "                                                     [key], {});\n",
              "          if (!dataTable) return;\n",
              "\n",
              "          const docLinkHtml = 'Like what you see? Visit the ' +\n",
              "            '<a target=\"_blank\" href=https://colab.research.google.com/notebooks/data_table.ipynb>data table notebook</a>'\n",
              "            + ' to learn more about interactive tables.';\n",
              "          element.innerHTML = '';\n",
              "          dataTable['output_type'] = 'display_data';\n",
              "          await google.colab.output.renderOutput(dataTable, element);\n",
              "          const docLink = document.createElement('div');\n",
              "          docLink.innerHTML = docLinkHtml;\n",
              "          element.appendChild(docLink);\n",
              "        }\n",
              "      </script>\n",
              "    </div>\n",
              "  </div>\n",
              "  "
            ]
          },
          "metadata": {},
          "execution_count": 42
        }
      ],
      "source": [
        "# Getting the most wrong predictions of the model\n",
        "most_wrong_prediction=val_df[val_df[\"target\"]!=val_df[\"preds\"]]\n",
        "most_wrong_prediction.head()"
      ]
    },
    {
      "cell_type": "code",
      "execution_count": 43,
      "metadata": {
        "colab": {
          "base_uri": "https://localhost:8080/"
        },
        "id": "su3onS6SCiRE",
        "outputId": "21903b0e-8854-404a-81f6-fa0acd7ffb23"
      },
      "outputs": [
        {
          "output_type": "execute_result",
          "data": {
            "text/plain": [
              "array(['ham', 'spam'], dtype=object)"
            ]
          },
          "metadata": {},
          "execution_count": 43
        }
      ],
      "source": [
        "# Getting target labels\n",
        "label_encoder.classes_"
      ]
    },
    {
      "cell_type": "markdown",
      "metadata": {
        "id": "S2amBIR6FuO5"
      },
      "source": [
        "### Making predictions with the best performing model on custom data"
      ]
    },
    {
      "cell_type": "code",
      "execution_count": 44,
      "metadata": {
        "id": "5ubB2-nQHrf9"
      },
      "outputs": [],
      "source": [
        "# Getting custom data \n",
        "custom_data_1=\"I'll be at the bus station at 10am\"\n",
        "custom_data_2=\"This text is free. Welcome to the club house &/, ! Visit our page for more info, To unsubscribe from text, reply STOP. msgs@150p 18+only\"\n",
        "custom_data_3=\"Hi Dan, would you love to come with us to the club tonight\""
      ]
    },
    {
      "cell_type": "code",
      "execution_count": 45,
      "metadata": {
        "id": "rZrrdPYrmCWc"
      },
      "outputs": [],
      "source": [
        "# Creating a function to make predictions on custom data\n",
        "def predict_text(text,model):\n",
        "  pred_probs=model.predict([text])\n",
        "  pred=tf.squeeze(tf.round(pred_probs).numpy())\n",
        "  return print(f\"Pred: {pred}, Pred_probs: {pred_probs[0][0]:.3f}\",\"(Spam)\" if pred>0  else \"(Not spam)\")"
      ]
    },
    {
      "cell_type": "code",
      "execution_count": 46,
      "metadata": {
        "colab": {
          "base_uri": "https://localhost:8080/"
        },
        "id": "lGZXI5C5LOUw",
        "outputId": "7d576fab-d1a4-4031-89ad-957ed3835d1f"
      },
      "outputs": [
        {
          "output_type": "stream",
          "name": "stdout",
          "text": [
            "Pred: 0.0, Pred_probs: 0.000 (Not spam)\n"
          ]
        }
      ],
      "source": [
        "# Making predictions with model_2 on the custom_data_1\n",
        "predict_text(text=custom_data_1,model=model_4)"
      ]
    },
    {
      "cell_type": "code",
      "execution_count": 47,
      "metadata": {
        "colab": {
          "base_uri": "https://localhost:8080/"
        },
        "id": "ApS79RLvLVYZ",
        "outputId": "0b5c2ca4-3094-41a0-ddd0-dfb47e7f1e38"
      },
      "outputs": [
        {
          "output_type": "stream",
          "name": "stdout",
          "text": [
            "Pred: 1.0, Pred_probs: 1.000 (Spam)\n"
          ]
        }
      ],
      "source": [
        "# Making predictions with model_2 on the custom_data_2\n",
        "predict_text(text=custom_data_2,model=model_4)"
      ]
    },
    {
      "cell_type": "code",
      "execution_count": 48,
      "metadata": {
        "colab": {
          "base_uri": "https://localhost:8080/"
        },
        "id": "MTfo3Ch7NhRG",
        "outputId": "e5497f73-4b3c-4560-a7b8-6c92663350eb"
      },
      "outputs": [
        {
          "output_type": "stream",
          "name": "stdout",
          "text": [
            "Pred: 0.0, Pred_probs: 0.000 (Not spam)\n"
          ]
        }
      ],
      "source": [
        "# Making predictions with model_2 on the custom_data_3\n",
        "predict_text(text=custom_data_3,model=model_4)"
      ]
    }
  ],
  "metadata": {
    "accelerator": "GPU",
    "colab": {
      "collapsed_sections": [],
      "toc_visible": true,
      "provenance": [],
      "mount_file_id": "1eR4dATbiEhom_D_BI2pf8fOxzaGSk9P-",
      "authorship_tag": "ABX9TyMIuRyTOJtIHehQVnE4dQq7",
      "include_colab_link": true
    },
    "gpuClass": "standard",
    "kernelspec": {
      "display_name": "Python 3",
      "name": "python3"
    },
    "language_info": {
      "name": "python"
    }
  },
  "nbformat": 4,
  "nbformat_minor": 0
}
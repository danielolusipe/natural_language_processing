{
  "nbformat": 4,
  "nbformat_minor": 0,
  "metadata": {
    "colab": {
      "provenance": [],
      "collapsed_sections": [],
      "include_colab_link": true
    },
    "kernelspec": {
      "name": "python3",
      "display_name": "Python 3"
    },
    "language_info": {
      "name": "python"
    },
    "accelerator": "GPU",
    "gpuClass": "standard"
  },
  "cells": [
    {
      "cell_type": "markdown",
      "metadata": {
        "id": "view-in-github",
        "colab_type": "text"
      },
      "source": [
        "<a href=\"https://colab.research.google.com/github/danielolusipe/natural_language_processing/blob/main/sequential_sentence_classifier_in_medical_abstracts.ipynb\" target=\"_parent\"><img src=\"https://colab.research.google.com/assets/colab-badge.svg\" alt=\"Open In Colab\"/></a>"
      ]
    },
    {
      "cell_type": "code",
      "source": [
        "# Importing tensorflow\n",
        "import tensorflow as tf\n",
        "tf.__version__"
      ],
      "metadata": {
        "colab": {
          "base_uri": "https://localhost:8080/",
          "height": 36
        },
        "id": "XkuZGZ2Mq66t",
        "outputId": "dd85a321-8a18-4b77-8f2b-1854b0b0a58f"
      },
      "execution_count": 1,
      "outputs": [
        {
          "output_type": "execute_result",
          "data": {
            "text/plain": [
              "'2.8.2'"
            ],
            "application/vnd.google.colaboratory.intrinsic+json": {
              "type": "string"
            }
          },
          "metadata": {},
          "execution_count": 1
        }
      ]
    },
    {
      "cell_type": "code",
      "source": [
        "# Mounting google drive to colab\n",
        "from google.colab import drive\n",
        "drive.mount('/content/drive')"
      ],
      "metadata": {
        "colab": {
          "base_uri": "https://localhost:8080/"
        },
        "id": "7l9Jh6EBiURJ",
        "outputId": "0bf50dcd-90f2-4d13-d7e7-116514a0fd1c"
      },
      "execution_count": 2,
      "outputs": [
        {
          "output_type": "stream",
          "name": "stdout",
          "text": [
            "Mounted at /content/drive\n"
          ]
        }
      ]
    },
    {
      "cell_type": "markdown",
      "source": [
        "### Getting data\n",
        "\n",
        "The dataset used in this notebook is the pubmed 20k RCT which can be gotten from the author's Github.\n",
        "\n",
        "[Click here](https://github.com/Franck-Dernoncourt/pubmed-rct) to get dataset"
      ],
      "metadata": {
        "id": "cYwVsnUXxqxc"
      }
    },
    {
      "cell_type": "code",
      "source": [
        "# Making a local copy of author's repository.\n",
        "!git clone https://github.com/Franck-Dernoncourt/pubmed-rct\n",
        "!ls pubmed-rct"
      ],
      "metadata": {
        "colab": {
          "base_uri": "https://localhost:8080/"
        },
        "id": "Nrmb2qOzvhXE",
        "outputId": "b13820f3-7b41-4dc5-f660-c98fdd2fe233"
      },
      "execution_count": 3,
      "outputs": [
        {
          "output_type": "stream",
          "name": "stdout",
          "text": [
            "Cloning into 'pubmed-rct'...\n",
            "remote: Enumerating objects: 33, done.\u001b[K\n",
            "remote: Counting objects: 100% (8/8), done.\u001b[K\n",
            "remote: Compressing objects: 100% (3/3), done.\u001b[K\n",
            "remote: Total 33 (delta 5), reused 5 (delta 5), pack-reused 25\u001b[K\n",
            "Unpacking objects: 100% (33/33), done.\n",
            "PubMed_200k_RCT\n",
            "PubMed_200k_RCT_numbers_replaced_with_at_sign\n",
            "PubMed_20k_RCT\n",
            "PubMed_20k_RCT_numbers_replaced_with_at_sign\n",
            "README.md\n"
          ]
        }
      ]
    },
    {
      "cell_type": "code",
      "source": [
        "# Check what files are in the PubMed_20K dataset\n",
        "!ls pubmed-rct/PubMed_20k_RCT_numbers_replaced_with_at_sign/"
      ],
      "metadata": {
        "colab": {
          "base_uri": "https://localhost:8080/"
        },
        "id": "8FpQcbM1yK9E",
        "outputId": "7345cb78-e932-49ef-f60a-27b7abe76a08"
      },
      "execution_count": 4,
      "outputs": [
        {
          "output_type": "stream",
          "name": "stdout",
          "text": [
            "dev.txt  test.txt  train.txt\n"
          ]
        }
      ]
    },
    {
      "cell_type": "code",
      "source": [
        "# Defining data dir and cheking all the filenames in the directory\n",
        "import os\n",
        "data_dir=\"pubmed-rct/PubMed_20k_RCT_numbers_replaced_with_at_sign/\"\n",
        "filenames=[data_dir+filename for filename in os.listdir(data_dir)]\n",
        "filenames"
      ],
      "metadata": {
        "colab": {
          "base_uri": "https://localhost:8080/"
        },
        "id": "XrMjj_d4zYHX",
        "outputId": "b9e1bfe2-d325-4895-d555-e0cb3dee25ed"
      },
      "execution_count": 5,
      "outputs": [
        {
          "output_type": "execute_result",
          "data": {
            "text/plain": [
              "['pubmed-rct/PubMed_20k_RCT_numbers_replaced_with_at_sign/dev.txt',\n",
              " 'pubmed-rct/PubMed_20k_RCT_numbers_replaced_with_at_sign/test.txt',\n",
              " 'pubmed-rct/PubMed_20k_RCT_numbers_replaced_with_at_sign/train.txt']"
            ]
          },
          "metadata": {},
          "execution_count": 5
        }
      ]
    },
    {
      "cell_type": "markdown",
      "source": [
        "### Preprocessing data"
      ],
      "metadata": {
        "id": "594xgWfswZMI"
      }
    },
    {
      "cell_type": "markdown",
      "source": [
        "#### Processing data and packing it into a DataFrame"
      ],
      "metadata": {
        "id": "c26_C-pdwv-B"
      }
    },
    {
      "cell_type": "code",
      "source": [
        "# Create function to read the lines of a document\n",
        "def get_lines(filename):\n",
        "  with open(filename,\"r\") as f:\n",
        "    return f.readlines()"
      ],
      "metadata": {
        "id": "jauexFC5z_0n"
      },
      "execution_count": 6,
      "outputs": []
    },
    {
      "cell_type": "code",
      "source": [
        "# Reading in the training lines \n",
        "train_lines=get_lines(data_dir+\"train.txt\")\n",
        "train_lines[:5]"
      ],
      "metadata": {
        "colab": {
          "base_uri": "https://localhost:8080/"
        },
        "id": "dXvZAqmQ1chx",
        "outputId": "02008006-fd0e-4dfb-cbaa-0cf3c43dc5e6"
      },
      "execution_count": 7,
      "outputs": [
        {
          "output_type": "execute_result",
          "data": {
            "text/plain": [
              "['###24293578\\n',\n",
              " 'OBJECTIVE\\tTo investigate the efficacy of @ weeks of daily low-dose oral prednisolone in improving pain , mobility , and systemic low-grade inflammation in the short term and whether the effect would be sustained at @ weeks in older adults with moderate to severe knee osteoarthritis ( OA ) .\\n',\n",
              " 'METHODS\\tA total of @ patients with primary knee OA were randomized @:@ ; @ received @ mg/day of prednisolone and @ received placebo for @ weeks .\\n',\n",
              " 'METHODS\\tOutcome measures included pain reduction and improvement in function scores and systemic inflammation markers .\\n',\n",
              " 'METHODS\\tPain was assessed using the visual analog pain scale ( @-@ mm ) .\\n']"
            ]
          },
          "metadata": {},
          "execution_count": 7
        }
      ]
    },
    {
      "cell_type": "code",
      "source": [
        "# Reading in the validation lines (dev is also called validation set) \n",
        "val_lines=get_lines(data_dir+\"dev.txt\")\n",
        "val_lines[:5]"
      ],
      "metadata": {
        "colab": {
          "base_uri": "https://localhost:8080/"
        },
        "id": "Ij5Egpwz_tFO",
        "outputId": "9ae5c11f-df8c-4f82-a33f-07e20616b97c"
      },
      "execution_count": 8,
      "outputs": [
        {
          "output_type": "execute_result",
          "data": {
            "text/plain": [
              "['###24290286\\n',\n",
              " 'BACKGROUND\\tIgE sensitization to Aspergillus fumigatus and a positive sputum fungal culture result are common in patients with refractory asthma .\\n',\n",
              " 'BACKGROUND\\tIt is not clear whether these patients would benefit from antifungal treatment .\\n',\n",
              " 'OBJECTIVE\\tWe sought to determine whether a @-month course of voriconazole improved asthma-related outcomes in patients with asthma who are IgE sensitized to A fumigatus .\\n',\n",
              " 'METHODS\\tAsthmatic patients who were IgE sensitized to A fumigatus with a history of at least @ severe exacerbations in the previous @ months were treated for @ months with @ mg of voriconazole twice daily , followed by observation for @ months , in a double-blind , placebo-controlled , randomized design .\\n']"
            ]
          },
          "metadata": {},
          "execution_count": 8
        }
      ]
    },
    {
      "cell_type": "code",
      "source": [
        "# Reading in the test lines\n",
        "test_lines=get_lines(data_dir+\"test.txt\")\n",
        "test_lines[:5]"
      ],
      "metadata": {
        "colab": {
          "base_uri": "https://localhost:8080/"
        },
        "id": "tkeKruajAJrz",
        "outputId": "003c4c81-98b0-455d-f541-6ab4ef7df458"
      },
      "execution_count": 9,
      "outputs": [
        {
          "output_type": "execute_result",
          "data": {
            "text/plain": [
              "['###24845963\\n',\n",
              " 'BACKGROUND\\tThis study analyzed liver function abnormalities in heart failure patients admitted with severe acute decompensated heart failure ( ADHF ) .\\n',\n",
              " 'RESULTS\\tA post hoc analysis was conducted with the use of data from the Evaluation Study of Congestive Heart Failure and Pulmonary Artery Catheterization Effectiveness ( ESCAPE ) .\\n',\n",
              " 'RESULTS\\tLiver function tests ( LFTs ) were measured at @ time points from baseline , at discharge , and up to @ months follow-up .\\n',\n",
              " 'RESULTS\\tSurvival analyses were used to assess the association between admission Model of End-Stage Liver Disease Excluding International Normalized Ratio ( MELD-XI ) scores and patient outcome.There was a high prevalence of abnormal baseline ( admission ) LFTs ( albumin @ % , aspartate transaminase @ % , alanine transaminase @ % , and total bilirubin @ % ) .\\n']"
            ]
          },
          "metadata": {},
          "execution_count": 9
        }
      ]
    },
    {
      "cell_type": "code",
      "source": [
        "# Creating a function to return a list of dictionaries of abstract line data \n",
        "def preprocess_text_with_line_numbers(filename):\n",
        "  input_lines=get_lines(filename) \n",
        "  abstract_lines=\"\" \n",
        "  abstract_samples=[]\n",
        "\n",
        "  # Loop through line in the target file\n",
        "  for line in input_lines:\n",
        "    if line.startswith(\"###\"): \n",
        "      abstract_id=line\n",
        "      abstract_lines=\"\" \n",
        "    elif line.isspace(): \n",
        "      abstract_line_split=abstract_lines.splitlines() \n",
        "\n",
        "      # Iterate through each line in a single abstract and count them at the same time\n",
        "      for abstract_line_number,abstract_line in enumerate(abstract_line_split):\n",
        "        line_data={} \n",
        "        target_text_split=abstract_line.split(\"\\t\") \n",
        "        line_data[\"target\"]=target_text_split[0] \n",
        "        line_data[\"text\"]=target_text_split[1].lower() \n",
        "        line_data[\"line_number\"]=abstract_line_number \n",
        "        line_data[\"total_lines\"]=len(abstract_line_split)-1 \n",
        "        abstract_samples.append(line_data)\n",
        "\n",
        "    else: \n",
        "      abstract_lines+=line\n",
        "\n",
        "  return abstract_samples"
      ],
      "metadata": {
        "id": "Vp22ARme7k1r"
      },
      "execution_count": 10,
      "outputs": []
    },
    {
      "cell_type": "code",
      "source": [
        "# Getting data from file and preprocessing it \n",
        "%%time\n",
        "train_df=preprocess_text_with_line_numbers(data_dir+\"train.txt\")\n",
        "val_df=preprocess_text_with_line_numbers(data_dir+\"dev.txt\")\n",
        "test_df=preprocess_text_with_line_numbers(data_dir+\"test.txt\")\n",
        "len(train_df),len(val_df),len(test_df)"
      ],
      "metadata": {
        "colab": {
          "base_uri": "https://localhost:8080/"
        },
        "id": "z0ydwumDEeM0",
        "outputId": "f80ded77-1cdb-4416-d9f9-b043cfa66c7a"
      },
      "execution_count": 11,
      "outputs": [
        {
          "output_type": "stream",
          "name": "stdout",
          "text": [
            "CPU times: user 391 ms, sys: 70.7 ms, total: 462 ms\n",
            "Wall time: 461 ms\n"
          ]
        },
        {
          "output_type": "execute_result",
          "data": {
            "text/plain": [
              "(180040, 30212, 30135)"
            ]
          },
          "metadata": {},
          "execution_count": 11
        }
      ]
    },
    {
      "cell_type": "code",
      "source": [
        "# Packing the preprocessed text into pandas dataframe\n",
        "import pandas as pd\n",
        "train_data=pd.DataFrame(train_df)\n",
        "val_data=pd.DataFrame(val_df)\n",
        "test_data=pd.DataFrame(test_df)\n",
        "train_data.head()"
      ],
      "metadata": {
        "colab": {
          "base_uri": "https://localhost:8080/",
          "height": 206
        },
        "id": "m9AVd5Ll1w9h",
        "outputId": "424371de-367b-40b4-d778-679a008e5cc0"
      },
      "execution_count": 12,
      "outputs": [
        {
          "output_type": "execute_result",
          "data": {
            "text/plain": [
              "      target                                               text  line_number  \\\n",
              "0  OBJECTIVE  to investigate the efficacy of @ weeks of dail...            0   \n",
              "1    METHODS  a total of @ patients with primary knee oa wer...            1   \n",
              "2    METHODS  outcome measures included pain reduction and i...            2   \n",
              "3    METHODS  pain was assessed using the visual analog pain...            3   \n",
              "4    METHODS  secondary outcome measures included the wester...            4   \n",
              "\n",
              "   total_lines  \n",
              "0           11  \n",
              "1           11  \n",
              "2           11  \n",
              "3           11  \n",
              "4           11  "
            ],
            "text/html": [
              "\n",
              "  <div id=\"df-7fef6ba1-c02d-4db3-949f-363c2453467a\">\n",
              "    <div class=\"colab-df-container\">\n",
              "      <div>\n",
              "<style scoped>\n",
              "    .dataframe tbody tr th:only-of-type {\n",
              "        vertical-align: middle;\n",
              "    }\n",
              "\n",
              "    .dataframe tbody tr th {\n",
              "        vertical-align: top;\n",
              "    }\n",
              "\n",
              "    .dataframe thead th {\n",
              "        text-align: right;\n",
              "    }\n",
              "</style>\n",
              "<table border=\"1\" class=\"dataframe\">\n",
              "  <thead>\n",
              "    <tr style=\"text-align: right;\">\n",
              "      <th></th>\n",
              "      <th>target</th>\n",
              "      <th>text</th>\n",
              "      <th>line_number</th>\n",
              "      <th>total_lines</th>\n",
              "    </tr>\n",
              "  </thead>\n",
              "  <tbody>\n",
              "    <tr>\n",
              "      <th>0</th>\n",
              "      <td>OBJECTIVE</td>\n",
              "      <td>to investigate the efficacy of @ weeks of dail...</td>\n",
              "      <td>0</td>\n",
              "      <td>11</td>\n",
              "    </tr>\n",
              "    <tr>\n",
              "      <th>1</th>\n",
              "      <td>METHODS</td>\n",
              "      <td>a total of @ patients with primary knee oa wer...</td>\n",
              "      <td>1</td>\n",
              "      <td>11</td>\n",
              "    </tr>\n",
              "    <tr>\n",
              "      <th>2</th>\n",
              "      <td>METHODS</td>\n",
              "      <td>outcome measures included pain reduction and i...</td>\n",
              "      <td>2</td>\n",
              "      <td>11</td>\n",
              "    </tr>\n",
              "    <tr>\n",
              "      <th>3</th>\n",
              "      <td>METHODS</td>\n",
              "      <td>pain was assessed using the visual analog pain...</td>\n",
              "      <td>3</td>\n",
              "      <td>11</td>\n",
              "    </tr>\n",
              "    <tr>\n",
              "      <th>4</th>\n",
              "      <td>METHODS</td>\n",
              "      <td>secondary outcome measures included the wester...</td>\n",
              "      <td>4</td>\n",
              "      <td>11</td>\n",
              "    </tr>\n",
              "  </tbody>\n",
              "</table>\n",
              "</div>\n",
              "      <button class=\"colab-df-convert\" onclick=\"convertToInteractive('df-7fef6ba1-c02d-4db3-949f-363c2453467a')\"\n",
              "              title=\"Convert this dataframe to an interactive table.\"\n",
              "              style=\"display:none;\">\n",
              "        \n",
              "  <svg xmlns=\"http://www.w3.org/2000/svg\" height=\"24px\"viewBox=\"0 0 24 24\"\n",
              "       width=\"24px\">\n",
              "    <path d=\"M0 0h24v24H0V0z\" fill=\"none\"/>\n",
              "    <path d=\"M18.56 5.44l.94 2.06.94-2.06 2.06-.94-2.06-.94-.94-2.06-.94 2.06-2.06.94zm-11 1L8.5 8.5l.94-2.06 2.06-.94-2.06-.94L8.5 2.5l-.94 2.06-2.06.94zm10 10l.94 2.06.94-2.06 2.06-.94-2.06-.94-.94-2.06-.94 2.06-2.06.94z\"/><path d=\"M17.41 7.96l-1.37-1.37c-.4-.4-.92-.59-1.43-.59-.52 0-1.04.2-1.43.59L10.3 9.45l-7.72 7.72c-.78.78-.78 2.05 0 2.83L4 21.41c.39.39.9.59 1.41.59.51 0 1.02-.2 1.41-.59l7.78-7.78 2.81-2.81c.8-.78.8-2.07 0-2.86zM5.41 20L4 18.59l7.72-7.72 1.47 1.35L5.41 20z\"/>\n",
              "  </svg>\n",
              "      </button>\n",
              "      \n",
              "  <style>\n",
              "    .colab-df-container {\n",
              "      display:flex;\n",
              "      flex-wrap:wrap;\n",
              "      gap: 12px;\n",
              "    }\n",
              "\n",
              "    .colab-df-convert {\n",
              "      background-color: #E8F0FE;\n",
              "      border: none;\n",
              "      border-radius: 50%;\n",
              "      cursor: pointer;\n",
              "      display: none;\n",
              "      fill: #1967D2;\n",
              "      height: 32px;\n",
              "      padding: 0 0 0 0;\n",
              "      width: 32px;\n",
              "    }\n",
              "\n",
              "    .colab-df-convert:hover {\n",
              "      background-color: #E2EBFA;\n",
              "      box-shadow: 0px 1px 2px rgba(60, 64, 67, 0.3), 0px 1px 3px 1px rgba(60, 64, 67, 0.15);\n",
              "      fill: #174EA6;\n",
              "    }\n",
              "\n",
              "    [theme=dark] .colab-df-convert {\n",
              "      background-color: #3B4455;\n",
              "      fill: #D2E3FC;\n",
              "    }\n",
              "\n",
              "    [theme=dark] .colab-df-convert:hover {\n",
              "      background-color: #434B5C;\n",
              "      box-shadow: 0px 1px 3px 1px rgba(0, 0, 0, 0.15);\n",
              "      filter: drop-shadow(0px 1px 2px rgba(0, 0, 0, 0.3));\n",
              "      fill: #FFFFFF;\n",
              "    }\n",
              "  </style>\n",
              "\n",
              "      <script>\n",
              "        const buttonEl =\n",
              "          document.querySelector('#df-7fef6ba1-c02d-4db3-949f-363c2453467a button.colab-df-convert');\n",
              "        buttonEl.style.display =\n",
              "          google.colab.kernel.accessAllowed ? 'block' : 'none';\n",
              "\n",
              "        async function convertToInteractive(key) {\n",
              "          const element = document.querySelector('#df-7fef6ba1-c02d-4db3-949f-363c2453467a');\n",
              "          const dataTable =\n",
              "            await google.colab.kernel.invokeFunction('convertToInteractive',\n",
              "                                                     [key], {});\n",
              "          if (!dataTable) return;\n",
              "\n",
              "          const docLinkHtml = 'Like what you see? Visit the ' +\n",
              "            '<a target=\"_blank\" href=https://colab.research.google.com/notebooks/data_table.ipynb>data table notebook</a>'\n",
              "            + ' to learn more about interactive tables.';\n",
              "          element.innerHTML = '';\n",
              "          dataTable['output_type'] = 'display_data';\n",
              "          await google.colab.output.renderOutput(dataTable, element);\n",
              "          const docLink = document.createElement('div');\n",
              "          docLink.innerHTML = docLinkHtml;\n",
              "          element.appendChild(docLink);\n",
              "        }\n",
              "      </script>\n",
              "    </div>\n",
              "  </div>\n",
              "  "
            ]
          },
          "metadata": {},
          "execution_count": 12
        }
      ]
    },
    {
      "cell_type": "code",
      "source": [
        "# Getting the number of target\n",
        "train_data.target.value_counts()"
      ],
      "metadata": {
        "colab": {
          "base_uri": "https://localhost:8080/"
        },
        "id": "ELjc99eyHjUw",
        "outputId": "9eb51eab-8fa5-4564-f6a3-c770abf8ed8c"
      },
      "execution_count": 13,
      "outputs": [
        {
          "output_type": "execute_result",
          "data": {
            "text/plain": [
              "METHODS        59353\n",
              "RESULTS        57953\n",
              "CONCLUSIONS    27168\n",
              "BACKGROUND     21727\n",
              "OBJECTIVE      13839\n",
              "Name: target, dtype: int64"
            ]
          },
          "metadata": {},
          "execution_count": 13
        }
      ]
    },
    {
      "cell_type": "code",
      "source": [
        "# Converting abstract text lines to list\n",
        "train_sentences=train_data[\"text\"].to_list()\n",
        "val_sentences=val_data[\"text\"].to_list()\n",
        "test_sentences=test_data[\"text\"].to_list()"
      ],
      "metadata": {
        "id": "Me8xltZzOB10"
      },
      "execution_count": 14,
      "outputs": []
    },
    {
      "cell_type": "markdown",
      "source": [
        "#### Numerically encoding labels"
      ],
      "metadata": {
        "id": "qazLtk4_HXYO"
      }
    },
    {
      "cell_type": "code",
      "source": [
        "# Turning labels into numeric form using one-hot encoding\n",
        "from sklearn.preprocessing import OneHotEncoder\n",
        "one_hot_encoder=OneHotEncoder(sparse=False)\n",
        "train_labels_one_hot=one_hot_encoder.fit_transform(train_data[\"target\"].to_numpy().reshape(-1,1))\n",
        "val_labels_one_hot=one_hot_encoder.fit_transform(val_data[\"target\"].to_numpy().reshape(-1,1))\n",
        "test_labels_one_hot=one_hot_encoder.fit_transform(test_data[\"target\"].to_numpy().reshape(-1,1))\n",
        "\n",
        "train_labels_one_hot[:5]"
      ],
      "metadata": {
        "colab": {
          "base_uri": "https://localhost:8080/"
        },
        "id": "PVRop2DyJ-e3",
        "outputId": "b10fbc58-013d-4792-fc85-3154e8099149"
      },
      "execution_count": 15,
      "outputs": [
        {
          "output_type": "execute_result",
          "data": {
            "text/plain": [
              "array([[0., 0., 0., 1., 0.],\n",
              "       [0., 0., 1., 0., 0.],\n",
              "       [0., 0., 1., 0., 0.],\n",
              "       [0., 0., 1., 0., 0.],\n",
              "       [0., 0., 1., 0., 0.]])"
            ]
          },
          "metadata": {},
          "execution_count": 15
        }
      ]
    },
    {
      "cell_type": "code",
      "source": [
        "# Turning labels into numeric form using label using label encoder\n",
        "from sklearn.preprocessing import LabelEncoder\n",
        "label_encoder=LabelEncoder()\n",
        "train_labels_encoded=label_encoder.fit_transform(train_data[\"target\"].to_numpy())\n",
        "val_labels_encoded=label_encoder.fit_transform(val_data[\"target\"].to_numpy())\n",
        "test_labels_encoded=label_encoder.fit_transform(test_data[\"target\"].to_numpy())\n",
        "\n",
        "train_labels_encoded[:5]"
      ],
      "metadata": {
        "colab": {
          "base_uri": "https://localhost:8080/"
        },
        "id": "4Zlf0qzIs4hh",
        "outputId": "9998d41b-4196-4fce-a7da-d26610d8524d"
      },
      "execution_count": 16,
      "outputs": [
        {
          "output_type": "execute_result",
          "data": {
            "text/plain": [
              "array([3, 2, 2, 2, 2])"
            ]
          },
          "metadata": {},
          "execution_count": 16
        }
      ]
    },
    {
      "cell_type": "code",
      "source": [
        "# Getting class_names and number of classes\n",
        "class_names=label_encoder.classes_\n",
        "num_classes=len(label_encoder.classes_)\n",
        "\n",
        "class_names,num_classes"
      ],
      "metadata": {
        "colab": {
          "base_uri": "https://localhost:8080/"
        },
        "id": "Er1ROvGztrbK",
        "outputId": "8db3b092-83dc-4bf9-93ac-ee15abc4d5ca"
      },
      "execution_count": 17,
      "outputs": [
        {
          "output_type": "execute_result",
          "data": {
            "text/plain": [
              "(array(['BACKGROUND', 'CONCLUSIONS', 'METHODS', 'OBJECTIVE', 'RESULTS'],\n",
              "       dtype=object), 5)"
            ]
          },
          "metadata": {},
          "execution_count": 17
        }
      ]
    },
    {
      "cell_type": "markdown",
      "source": [
        "#### Creating text vectorizing layers"
      ],
      "metadata": {
        "id": "Xg-u4uhMQvy_"
      }
    },
    {
      "cell_type": "code",
      "source": [
        "# Checking how long is each sentences on average\n",
        "import numpy as np\n",
        "sent_lens=[len(sentences.split()) for sentences in train_sentences]\n",
        "avg_sent_lens=np.mean(sent_lens)\n",
        "avg_sent_lens"
      ],
      "metadata": {
        "colab": {
          "base_uri": "https://localhost:8080/"
        },
        "id": "s0ZZ17GVM2Gt",
        "outputId": "426775aa-9d4e-4cd1-e490-0dbb061dc0fd"
      },
      "execution_count": 18,
      "outputs": [
        {
          "output_type": "execute_result",
          "data": {
            "text/plain": [
              "26.338269273494777"
            ]
          },
          "metadata": {},
          "execution_count": 18
        }
      ]
    },
    {
      "cell_type": "code",
      "source": [
        "# Plotting what the distribution look like\n",
        "import matplotlib.pyplot as plt\n",
        "plt.hist(sent_lens,bins=7);"
      ],
      "metadata": {
        "colab": {
          "base_uri": "https://localhost:8080/",
          "height": 265
        },
        "id": "yld3yMq4Na88",
        "outputId": "4b73de2d-ac7e-453e-cd11-2c21b38d160d"
      },
      "execution_count": 19,
      "outputs": [
        {
          "output_type": "display_data",
          "data": {
            "text/plain": [
              "<Figure size 432x288 with 1 Axes>"
            ],
            "image/png": "[encoded data removed]"
          },
          "metadata": {
            "needs_background": "light"
          }
        }
      ]
    },
    {
      "cell_type": "code",
      "source": [
        "# Checking how long of sentences covers 95% \n",
        "output_seq_len=int(np.percentile(sent_lens,95))\n",
        "output_seq_len"
      ],
      "metadata": {
        "colab": {
          "base_uri": "https://localhost:8080/"
        },
        "id": "f1pDxngfPSwF",
        "outputId": "e1daf65e-870d-41f4-ef00-d88325d15e01"
      },
      "execution_count": 20,
      "outputs": [
        {
          "output_type": "execute_result",
          "data": {
            "text/plain": [
              "55"
            ]
          },
          "metadata": {},
          "execution_count": 20
        }
      ]
    },
    {
      "cell_type": "code",
      "source": [
        "# Creating text vectorization layer\n",
        "from tensorflow.keras import layers\n",
        "text_vectorizer=layers.TextVectorization(max_tokens=68000,\n",
        "                                         output_sequence_length=output_seq_len,\n",
        "                                         name=\"text_vectorizer\")"
      ],
      "metadata": {
        "id": "jgO5ck0XRQ0Q"
      },
      "execution_count": 21,
      "outputs": []
    },
    {
      "cell_type": "code",
      "source": [
        "# Adapting text vectorization to text sentences\n",
        "text_vectorizer.adapt(train_sentences)"
      ],
      "metadata": {
        "id": "dWWSOB73R3ah"
      },
      "execution_count": 22,
      "outputs": []
    },
    {
      "cell_type": "code",
      "source": [
        "# Checking how many words in training vocabulary\n",
        "rct_20k_text_vocab=text_vectorizer.get_vocabulary()\n",
        "print(f\"Number of words in vocab: {len(rct_20k_text_vocab)}\")\n",
        "print(f\"Most common words in the vocab: {rct_20k_text_vocab[:5]}\")\n",
        "print(f\"Last common word in the vocab: {rct_20k_text_vocab[-5:]}\")"
      ],
      "metadata": {
        "id": "GRw7DZvkSusE",
        "colab": {
          "base_uri": "https://localhost:8080/"
        },
        "outputId": "4113d388-9738-4e3b-fbd4-52b0f236f11f"
      },
      "execution_count": 23,
      "outputs": [
        {
          "output_type": "stream",
          "name": "stdout",
          "text": [
            "Number of words in vocab: 64841\n",
            "Most common words in the vocab: ['', '[UNK]', 'the', 'and', 'of']\n",
            "Last common word in the vocab: ['aainduced', 'aaigroup', 'aachener', 'aachen', 'aaacp']\n"
          ]
        }
      ]
    },
    {
      "cell_type": "markdown",
      "source": [
        "#### Creating embedding layer"
      ],
      "metadata": {
        "id": "4y7GEyc8TewT"
      }
    },
    {
      "cell_type": "code",
      "source": [
        "# Creating token embedding layer\n",
        "token_embed=layers.Embedding(input_dim=len(rct_20k_text_vocab),\n",
        "                             output_dim=128,\n",
        "                             mask_zero=True,\n",
        "                             name=\"token_embedding\")"
      ],
      "metadata": {
        "id": "dShkR009Tinl"
      },
      "execution_count": 24,
      "outputs": []
    },
    {
      "cell_type": "markdown",
      "source": [
        "### Starting modelling experiments\n",
        "\n",
        "In this project, I'll be replicating the model described in the paper: https://arxiv.org/pdf/1612.05251.pdf\n",
        "\n",
        "* Model_0: Naive Bayes Classifier (Baseline model)\n",
        "* Model_1: Conv1D Model with token embeddding\n",
        "* Model_2: Model using pretrained token embedding (universal sentence embedding)\n",
        "* Model_3: Conv1D model with character level embedding\n",
        "* Model_4: Model with both token and character embedding \n",
        "* Model_5: Model with token,character level and positional level embedding \n",
        "* Model _6: Same model as model_5 but with BERT embedding layer"
      ],
      "metadata": {
        "id": "jE7ICF9w2CUt"
      }
    },
    {
      "cell_type": "markdown",
      "source": [
        "#### Baseline_model: Naive Bayes Classifier"
      ],
      "metadata": {
        "id": "lmhdcIC2xgYf"
      }
    },
    {
      "cell_type": "markdown",
      "source": [
        "##### Buiding Baseline model and fitting it to training data"
      ],
      "metadata": {
        "id": "YwDNOHicEzTc"
      }
    },
    {
      "cell_type": "code",
      "source": [
        "from sklearn.feature_extraction.text import TfidfVectorizer\n",
        "from sklearn.naive_bayes import MultinomialNB\n",
        "from sklearn.pipeline import Pipeline\n",
        "\n",
        "# Create a pipeline\n",
        "model_0=Pipeline([\n",
        "   (\"tf-idf\", TfidfVectorizer()),\n",
        "   (\"clf\", MultinomialNB())\n",
        "])\n",
        "# Fit the pipeline to training data\n",
        "model_0.fit(train_sentences,train_labels_encoded)"
      ],
      "metadata": {
        "id": "q0ORoZem9jY2",
        "colab": {
          "base_uri": "https://localhost:8080/"
        },
        "outputId": "56f347e9-c898-4425-a5ae-4f11dddc726b"
      },
      "execution_count": 25,
      "outputs": [
        {
          "output_type": "execute_result",
          "data": {
            "text/plain": [
              "Pipeline(steps=[('tf-idf', TfidfVectorizer()), ('clf', MultinomialNB())])"
            ]
          },
          "metadata": {},
          "execution_count": 25
        }
      ]
    },
    {
      "cell_type": "markdown",
      "source": [
        "##### Evaluating and making predictions with baseline_model"
      ],
      "metadata": {
        "id": "egBLh7IyAaYo"
      }
    },
    {
      "cell_type": "code",
      "source": [
        "# Evaluating model_0\n",
        "model_0.score(val_sentences,val_labels_encoded)"
      ],
      "metadata": {
        "id": "cOnnm2Ne_5Fw",
        "colab": {
          "base_uri": "https://localhost:8080/"
        },
        "outputId": "6f12f9aa-ffff-4008-f493-a2d2d9b33052"
      },
      "execution_count": 26,
      "outputs": [
        {
          "output_type": "execute_result",
          "data": {
            "text/plain": [
              "0.7218323844829869"
            ]
          },
          "metadata": {},
          "execution_count": 26
        }
      ]
    },
    {
      "cell_type": "code",
      "source": [
        "# Making prediction with model_0\n",
        "model_0_preds=model_0.predict(val_sentences)\n",
        "model_0_preds"
      ],
      "metadata": {
        "id": "P2scdMx-AGlT",
        "colab": {
          "base_uri": "https://localhost:8080/"
        },
        "outputId": "da5c8c9b-70a9-4108-e97b-f74d33277f73"
      },
      "execution_count": 27,
      "outputs": [
        {
          "output_type": "execute_result",
          "data": {
            "text/plain": [
              "array([4, 1, 3, ..., 4, 4, 1])"
            ]
          },
          "metadata": {},
          "execution_count": 27
        }
      ]
    },
    {
      "cell_type": "code",
      "source": [
        "# Creating a function to evaluate model's performance and return a dictionary\n",
        "from sklearn.metrics import accuracy_score,precision_recall_fscore_support\n",
        "def calculate_results(y_true,y_pred):\n",
        "  model_accuracy=accuracy_score(y_true,y_pred)\n",
        "  model_precision,model_recall,model_f1,_=precision_recall_fscore_support(y_true,y_pred,average=\"weighted\")\n",
        "  model_results={\"model_accuracy\": model_accuracy,\n",
        "                 \"model_precision\": model_precision,\n",
        "                 \"model_recall\": model_recall,\n",
        "                 \"model_f1\": model_f1}\n",
        "  return model_results"
      ],
      "metadata": {
        "id": "hIE4J8AgA8PX"
      },
      "execution_count": 28,
      "outputs": []
    },
    {
      "cell_type": "code",
      "source": [
        "# Calculating the performance of baseline model\n",
        "model_0_results=calculate_results(y_true=val_labels_encoded,\n",
        "                                  y_pred=model_0_preds)\n",
        "model_0_results"
      ],
      "metadata": {
        "id": "cGuBQVVsC7KT",
        "colab": {
          "base_uri": "https://localhost:8080/"
        },
        "outputId": "933d7cf4-e6ca-4312-a2a7-b77c85a457c0"
      },
      "execution_count": 29,
      "outputs": [
        {
          "output_type": "execute_result",
          "data": {
            "text/plain": [
              "{'model_accuracy': 0.7218323844829869,\n",
              " 'model_precision': 0.7186466952323352,\n",
              " 'model_recall': 0.7218323844829869,\n",
              " 'model_f1': 0.6989250353450294}"
            ]
          },
          "metadata": {},
          "execution_count": 29
        }
      ]
    },
    {
      "cell_type": "markdown",
      "source": [
        "#### Model_1:  Conv1D model with token embedding"
      ],
      "metadata": {
        "id": "aRH2NvOzDRqv"
      }
    },
    {
      "cell_type": "markdown",
      "source": [
        "##### Building and getting a summary of model_1"
      ],
      "metadata": {
        "id": "1R73n-aVFAb7"
      }
    },
    {
      "cell_type": "code",
      "source": [
        "from tensorflow.keras import layers\n",
        "\n",
        "# Building Conv1D model\n",
        "input=layers.Input(shape=(1,),dtype=tf.string)\n",
        "text_vectors=text_vectorizer(input)\n",
        "token_embeddings=token_embed(text_vectors)\n",
        "x=layers.Conv1D(filters=64,\n",
        "                kernel_size=5,\n",
        "                padding=\"same\",\n",
        "                activation=\"relu\")(token_embeddings)\n",
        "x=layers.GlobalAveragePooling1D()(x)\n",
        "output=layers.Dense(num_classes,activation=\"softmax\")(x)\n",
        "model_1=tf.keras.Model(input,output)\n",
        "\n",
        "# Getting summary of model_1\n",
        "model_1.summary()"
      ],
      "metadata": {
        "id": "TVlWfJOYDsC7",
        "colab": {
          "base_uri": "https://localhost:8080/"
        },
        "outputId": "11297790-0461-4683-a3b3-b0ffa49f9ce2"
      },
      "execution_count": 30,
      "outputs": [
        {
          "output_type": "stream",
          "name": "stdout",
          "text": [
            "Model: \"model\"\n",
            "_________________________________________________________________\n",
            " Layer (type)                Output Shape              Param #   \n",
            "=================================================================\n",
            " input_1 (InputLayer)        [(None, 1)]               0         \n",
            "                                                                 \n",
            " text_vectorizer (TextVector  (None, 55)               0         \n",
            " ization)                                                        \n",
            "                                                                 \n",
            " token_embedding (Embedding)  (None, 55, 128)          8299648   \n",
            "                                                                 \n",
            " conv1d (Conv1D)             (None, 55, 64)            41024     \n",
            "                                                                 \n",
            " global_average_pooling1d (G  (None, 64)               0         \n",
            " lobalAveragePooling1D)                                          \n",
            "                                                                 \n",
            " dense (Dense)               (None, 5)                 325       \n",
            "                                                                 \n",
            "=================================================================\n",
            "Total params: 8,340,997\n",
            "Trainable params: 8,340,997\n",
            "Non-trainable params: 0\n",
            "_________________________________________________________________\n"
          ]
        }
      ]
    },
    {
      "cell_type": "markdown",
      "source": [
        "##### Creating datasets (make sure that data loads as fast as possible)"
      ],
      "metadata": {
        "id": "h1IlAV6AHDG9"
      }
    },
    {
      "cell_type": "code",
      "source": [
        "# Turning data into TensorSlicesDatasets\n",
        "train_dataset=tf.data.Dataset.from_tensor_slices((train_sentences,train_labels_one_hot))\n",
        "val_dataset=tf.data.Dataset.from_tensor_slices((val_sentences,val_labels_one_hot))\n",
        "test_dataset=tf.data.Dataset.from_tensor_slices((test_sentences,test_labels_one_hot))\n",
        "\n",
        "# Taking TensorSlicesDatasets and turning them into prefetch batches\n",
        "train_dataset=train_dataset.batch(32).prefetch(tf.data.AUTOTUNE)\n",
        "val_dataset=val_dataset.batch(32).prefetch(tf.data.AUTOTUNE)\n",
        "test_dataset=test_dataset.batch(32).prefetch(tf.data.AUTOTUNE)\n",
        "\n",
        "train_dataset,val_dataset,test_dataset"
      ],
      "metadata": {
        "id": "aOwXCK1lHOCZ",
        "colab": {
          "base_uri": "https://localhost:8080/"
        },
        "outputId": "fdb89089-8186-442e-cde0-66aed6ce661a"
      },
      "execution_count": 31,
      "outputs": [
        {
          "output_type": "execute_result",
          "data": {
            "text/plain": [
              "(<PrefetchDataset element_spec=(TensorSpec(shape=(None,), dtype=tf.string, name=None), TensorSpec(shape=(None, 5), dtype=tf.float64, name=None))>,\n",
              " <PrefetchDataset element_spec=(TensorSpec(shape=(None,), dtype=tf.string, name=None), TensorSpec(shape=(None, 5), dtype=tf.float64, name=None))>,\n",
              " <PrefetchDataset element_spec=(TensorSpec(shape=(None,), dtype=tf.string, name=None), TensorSpec(shape=(None, 5), dtype=tf.float64, name=None))>)"
            ]
          },
          "metadata": {},
          "execution_count": 31
        }
      ]
    },
    {
      "cell_type": "markdown",
      "source": [
        "##### Compiling and fitting model_1"
      ],
      "metadata": {
        "id": "7aP3iTpXFkPv"
      }
    },
    {
      "cell_type": "code",
      "source": [
        "# Compiling model_1\n",
        "model_1.compile(loss=\"categorical_crossentropy\",\n",
        "                optimizer=tf.keras.optimizers.Adam(),\n",
        "                metrics=[\"accuracy\"])\n",
        "\n",
        "# Fitting model_1\n",
        "history_1=model_1.fit(train_dataset,\n",
        "                      epochs=5,\n",
        "                      steps_per_epoch=len(train_dataset),\n",
        "                      validation_data=val_dataset,\n",
        "                      validation_steps=int(0.1*len(val_dataset)))"
      ],
      "metadata": {
        "id": "C9YdUxuDGq1n",
        "colab": {
          "base_uri": "https://localhost:8080/"
        },
        "outputId": "3ccd5a2d-b1e5-4bc9-c5ab-e44c5dab23a9"
      },
      "execution_count": 32,
      "outputs": [
        {
          "output_type": "stream",
          "name": "stdout",
          "text": [
            "Epoch 1/5\n",
            "5627/5627 [==============================] - 57s 8ms/step - loss: 0.6128 - accuracy: 0.7770 - val_loss: 0.5438 - val_accuracy: 0.8009\n",
            "Epoch 2/5\n",
            "5627/5627 [==============================] - 44s 8ms/step - loss: 0.4504 - accuracy: 0.8423 - val_loss: 0.5411 - val_accuracy: 0.8055\n",
            "Epoch 3/5\n",
            "5627/5627 [==============================] - 44s 8ms/step - loss: 0.3711 - accuracy: 0.8731 - val_loss: 0.5723 - val_accuracy: 0.7992\n",
            "Epoch 4/5\n",
            "5627/5627 [==============================] - 45s 8ms/step - loss: 0.3079 - accuracy: 0.8976 - val_loss: 0.6330 - val_accuracy: 0.7872\n",
            "Epoch 5/5\n",
            "5627/5627 [==============================] - 44s 8ms/step - loss: 0.2547 - accuracy: 0.9174 - val_loss: 0.7109 - val_accuracy: 0.7846\n"
          ]
        }
      ]
    },
    {
      "cell_type": "markdown",
      "source": [
        "##### Evaluating and making predictions with model_1"
      ],
      "metadata": {
        "id": "28FWTz98MzgO"
      }
    },
    {
      "cell_type": "code",
      "source": [
        "# Evaluating model_1\n",
        "model_1.evaluate(val_dataset)"
      ],
      "metadata": {
        "id": "dBRapBtOMzdV",
        "colab": {
          "base_uri": "https://localhost:8080/"
        },
        "outputId": "f4e5748a-6acd-47a1-e451-93665483957b"
      },
      "execution_count": 33,
      "outputs": [
        {
          "output_type": "stream",
          "name": "stdout",
          "text": [
            "945/945 [==============================] - 3s 3ms/step - loss: 0.7068 - accuracy: 0.7926\n"
          ]
        },
        {
          "output_type": "execute_result",
          "data": {
            "text/plain": [
              "[0.7067602276802063, 0.7925989627838135]"
            ]
          },
          "metadata": {},
          "execution_count": 33
        }
      ]
    },
    {
      "cell_type": "code",
      "source": [
        "# Making prediction with model_1 and converting it into labels\n",
        "model_1_pred_probs=model_1.predict(val_sentences)\n",
        "model_1_preds=tf.argmax(model_1_pred_probs,axis=1)\n",
        "model_1_preds"
      ],
      "metadata": {
        "id": "gMe6KOXRNBEK",
        "colab": {
          "base_uri": "https://localhost:8080/"
        },
        "outputId": "cf52dcd9-5b26-4cdf-9c8c-66c1abdfbc75"
      },
      "execution_count": 34,
      "outputs": [
        {
          "output_type": "execute_result",
          "data": {
            "text/plain": [
              "<tf.Tensor: shape=(30212,), dtype=int64, numpy=array([0, 3, 3, ..., 4, 2, 1])>"
            ]
          },
          "metadata": {},
          "execution_count": 34
        }
      ]
    },
    {
      "cell_type": "code",
      "source": [
        "# Calcualting the performance of model_1\n",
        "model_1_results=calculate_results(y_true=val_labels_encoded,\n",
        "                                  y_pred=model_1_preds)"
      ],
      "metadata": {
        "id": "iNrFe0bnNTtc"
      },
      "execution_count": 35,
      "outputs": []
    },
    {
      "cell_type": "markdown",
      "source": [
        "##### Saving model_1"
      ],
      "metadata": {
        "id": "vdMW3S_7hQHV"
      }
    },
    {
      "cell_type": "code",
      "source": [
        "# Creating a function to save model\n",
        "def save_model(model,save_dir):\n",
        "  model.save(save_dir)"
      ],
      "metadata": {
        "id": "oRhRWCmoh3yx"
      },
      "execution_count": 36,
      "outputs": []
    },
    {
      "cell_type": "code",
      "source": [
        "# Saving model_1\n",
        "save_model(model=model_1,\n",
        "           save_dir=\"/content/drive/MyDrive/skimlit_models/Conv1D_token_embedding_model\")"
      ],
      "metadata": {
        "id": "6HrxaBxDiHYl"
      },
      "execution_count": 37,
      "outputs": []
    },
    {
      "cell_type": "markdown",
      "source": [
        "#### Model_2: Model using pretrained token embedding (universal sentence embedding)"
      ],
      "metadata": {
        "id": "Z-vOjBEEKLIX"
      }
    },
    {
      "cell_type": "markdown",
      "source": [
        "##### Building and getting a summary of model_2"
      ],
      "metadata": {
        "id": "LXnRdfBpMf63"
      }
    },
    {
      "cell_type": "code",
      "source": [
        "import tensorflow_hub as hub\n",
        "\n",
        "# Downloading pretrained TensorFlow Hub USE\n",
        "sentence_encoder=hub.KerasLayer(\"https://tfhub.dev/google/universal-sentence-encoder/4\",\n",
        "                                trainable=False,\n",
        "                                name=\"universal_sentence_encoder\")"
      ],
      "metadata": {
        "id": "cS_tXWAwRuHL"
      },
      "execution_count": 38,
      "outputs": []
    },
    {
      "cell_type": "code",
      "source": [
        "# Building pretrained TensorFLow Hub USE\n",
        "input=layers.Input(shape=[],dtype=tf.string)\n",
        "pretrained_embedding=sentence_encoder(input)\n",
        "x=layers.Dense(128,activation=\"relu\")(pretrained_embedding)\n",
        "output=layers.Dense(num_classes,activation=\"softmax\")(x)\n",
        "model_2=tf.keras.Model(input,output)\n",
        "\n",
        "# Getting a summary of model_2\n",
        "model_2.summary()"
      ],
      "metadata": {
        "id": "ePButI5HSg5b",
        "colab": {
          "base_uri": "https://localhost:8080/"
        },
        "outputId": "84c0a8c9-67f5-4712-e31c-64771bb0dbc5"
      },
      "execution_count": 39,
      "outputs": [
        {
          "output_type": "stream",
          "name": "stdout",
          "text": [
            "Model: \"model_1\"\n",
            "_________________________________________________________________\n",
            " Layer (type)                Output Shape              Param #   \n",
            "=================================================================\n",
            " input_2 (InputLayer)        [(None,)]                 0         \n",
            "                                                                 \n",
            " universal_sentence_encoder   (None, 512)              256797824 \n",
            " (KerasLayer)                                                    \n",
            "                                                                 \n",
            " dense_1 (Dense)             (None, 128)               65664     \n",
            "                                                                 \n",
            " dense_2 (Dense)             (None, 5)                 645       \n",
            "                                                                 \n",
            "=================================================================\n",
            "Total params: 256,864,133\n",
            "Trainable params: 66,309\n",
            "Non-trainable params: 256,797,824\n",
            "_________________________________________________________________\n"
          ]
        }
      ]
    },
    {
      "cell_type": "markdown",
      "source": [
        "##### Compiling and fitting model_2"
      ],
      "metadata": {
        "id": "Ojy-iJ7mTf46"
      }
    },
    {
      "cell_type": "code",
      "source": [
        "# Compiling model_2\n",
        "model_2.compile(loss=\"categorical_crossentropy\",\n",
        "                optimizer=tf.keras.optimizers.Adam(),\n",
        "                metrics=\"accuracy\")\n",
        "\n",
        "# Fitting model_2\n",
        "history_2=model_2.fit(train_dataset,\n",
        "                      epochs=5,\n",
        "                      steps_per_epoch=len(train_dataset),\n",
        "                      validation_data=val_dataset,\n",
        "                      validation_steps=int(0.1*len(val_dataset)))"
      ],
      "metadata": {
        "id": "ZnQ4a084MnmK",
        "colab": {
          "base_uri": "https://localhost:8080/"
        },
        "outputId": "970bf466-0447-4f4f-8982-e5f9ec9eae90"
      },
      "execution_count": 40,
      "outputs": [
        {
          "output_type": "stream",
          "name": "stdout",
          "text": [
            "Epoch 1/5\n",
            "5627/5627 [==============================] - 63s 11ms/step - loss: 0.7294 - accuracy: 0.7211 - val_loss: 0.6499 - val_accuracy: 0.7566\n",
            "Epoch 2/5\n",
            "5627/5627 [==============================] - 61s 11ms/step - loss: 0.6352 - accuracy: 0.7590 - val_loss: 0.6194 - val_accuracy: 0.7670\n",
            "Epoch 3/5\n",
            "5627/5627 [==============================] - 60s 11ms/step - loss: 0.6018 - accuracy: 0.7728 - val_loss: 0.6070 - val_accuracy: 0.7703\n",
            "Epoch 4/5\n",
            "5627/5627 [==============================] - 59s 10ms/step - loss: 0.5799 - accuracy: 0.7808 - val_loss: 0.6011 - val_accuracy: 0.7716\n",
            "Epoch 5/5\n",
            "5627/5627 [==============================] - 58s 10ms/step - loss: 0.5633 - accuracy: 0.7871 - val_loss: 0.5978 - val_accuracy: 0.7743\n"
          ]
        }
      ]
    },
    {
      "cell_type": "markdown",
      "source": [
        "##### Evaluating and making predictions with model_2\n"
      ],
      "metadata": {
        "id": "fxk2kNCAUIZ4"
      }
    },
    {
      "cell_type": "code",
      "source": [
        "# Evaluating model_2\n",
        "model_2.evaluate(val_dataset)"
      ],
      "metadata": {
        "id": "AvjglqHbUdfK",
        "colab": {
          "base_uri": "https://localhost:8080/"
        },
        "outputId": "8228176b-494c-4f12-9b35-fadc372c647f"
      },
      "execution_count": 41,
      "outputs": [
        {
          "output_type": "stream",
          "name": "stdout",
          "text": [
            "945/945 [==============================] - 9s 10ms/step - loss: 0.5979 - accuracy: 0.7736\n"
          ]
        },
        {
          "output_type": "execute_result",
          "data": {
            "text/plain": [
              "[0.5979001522064209, 0.7735667824745178]"
            ]
          },
          "metadata": {},
          "execution_count": 41
        }
      ]
    },
    {
      "cell_type": "code",
      "source": [
        "# Making predictions with model_2\n",
        "model_2_pred_probs=model_2.predict(val_sentences)\n",
        "model_2_preds=tf.argmax(model_2_pred_probs,axis=1)\n",
        "model_2_preds"
      ],
      "metadata": {
        "id": "bSX5NXp-Un7h",
        "colab": {
          "base_uri": "https://localhost:8080/"
        },
        "outputId": "06058625-f968-4e50-bbf4-a08fbdff8298"
      },
      "execution_count": 42,
      "outputs": [
        {
          "output_type": "execute_result",
          "data": {
            "text/plain": [
              "<tf.Tensor: shape=(30212,), dtype=int64, numpy=array([0, 1, 0, ..., 4, 4, 1])>"
            ]
          },
          "metadata": {},
          "execution_count": 42
        }
      ]
    },
    {
      "cell_type": "code",
      "source": [
        "# Calculating model_2 performance\n",
        "model_2_results=calculate_results(y_true=val_labels_encoded,\n",
        "                                  y_pred=model_2_preds)"
      ],
      "metadata": {
        "id": "T0zW-BgNU5_l"
      },
      "execution_count": 43,
      "outputs": []
    },
    {
      "cell_type": "markdown",
      "source": [
        "##### Saving model_2"
      ],
      "metadata": {
        "id": "MzfOIePApyt9"
      }
    },
    {
      "cell_type": "code",
      "source": [
        "# Saving model_2\n",
        "save_model(model=model_2,\n",
        "           save_dir=\"/content/drive/MyDrive/skimlit_models/Universal_sentence_encoder_token_embedding_model\")"
      ],
      "metadata": {
        "id": "We1kKYxgpyao"
      },
      "execution_count": 44,
      "outputs": []
    },
    {
      "cell_type": "markdown",
      "source": [
        "#### Model_3: Conv1D model with character level embedding"
      ],
      "metadata": {
        "id": "0zLhumpXV_L4"
      }
    },
    {
      "cell_type": "markdown",
      "source": [
        "##### Creating character level tokenizer\n"
      ],
      "metadata": {
        "id": "jKdAfNn5UYXf"
      }
    },
    {
      "cell_type": "code",
      "source": [
        "# Creating a function to split sentences into character\n",
        "def split_chars(text):\n",
        "  return \" \".join(list(text))"
      ],
      "metadata": {
        "id": "9D9i0WJv4Q81"
      },
      "execution_count": 45,
      "outputs": []
    },
    {
      "cell_type": "code",
      "source": [
        "# Splitting sequence-level data splits into character-level data splits\n",
        "train_char=[split_chars(sentence) for sentence in train_sentences]\n",
        "val_char=[split_chars(sentence) for sentence in val_sentences]\n",
        "test_char=[split_chars(sentence) for sentence in test_sentences]\n",
        "\n",
        "train_char[:5]"
      ],
      "metadata": {
        "colab": {
          "base_uri": "https://localhost:8080/"
        },
        "id": "b4B6eZUTCI2R",
        "outputId": "e63cd4d7-6d42-4da5-a658-7d7fb98828c5"
      },
      "execution_count": 46,
      "outputs": [
        {
          "output_type": "execute_result",
          "data": {
            "text/plain": [
              "['t o   i n v e s t i g a t e   t h e   e f f i c a c y   o f   @   w e e k s   o f   d a i l y   l o w - d o s e   o r a l   p r e d n i s o l o n e   i n   i m p r o v i n g   p a i n   ,   m o b i l i t y   ,   a n d   s y s t e m i c   l o w - g r a d e   i n f l a m m a t i o n   i n   t h e   s h o r t   t e r m   a n d   w h e t h e r   t h e   e f f e c t   w o u l d   b e   s u s t a i n e d   a t   @   w e e k s   i n   o l d e r   a d u l t s   w i t h   m o d e r a t e   t o   s e v e r e   k n e e   o s t e o a r t h r i t i s   (   o a   )   .',\n",
              " 'a   t o t a l   o f   @   p a t i e n t s   w i t h   p r i m a r y   k n e e   o a   w e r e   r a n d o m i z e d   @ : @   ;   @   r e c e i v e d   @   m g / d a y   o f   p r e d n i s o l o n e   a n d   @   r e c e i v e d   p l a c e b o   f o r   @   w e e k s   .',\n",
              " 'o u t c o m e   m e a s u r e s   i n c l u d e d   p a i n   r e d u c t i o n   a n d   i m p r o v e m e n t   i n   f u n c t i o n   s c o r e s   a n d   s y s t e m i c   i n f l a m m a t i o n   m a r k e r s   .',\n",
              " 'p a i n   w a s   a s s e s s e d   u s i n g   t h e   v i s u a l   a n a l o g   p a i n   s c a l e   (   @ - @   m m   )   .',\n",
              " 's e c o n d a r y   o u t c o m e   m e a s u r e s   i n c l u d e d   t h e   w e s t e r n   o n t a r i o   a n d   m c m a s t e r   u n i v e r s i t i e s   o s t e o a r t h r i t i s   i n d e x   s c o r e s   ,   p a t i e n t   g l o b a l   a s s e s s m e n t   (   p g a   )   o f   t h e   s e v e r i t y   o f   k n e e   o a   ,   a n d   @ - m i n   w a l k   d i s t a n c e   (   @ m w d   )   .']"
            ]
          },
          "metadata": {},
          "execution_count": 46
        }
      ]
    },
    {
      "cell_type": "code",
      "source": [
        "import numpy as np\n",
        "\n",
        "# Getting the average character length\n",
        "char_lens=[len(sentence) for sentence in train_sentences]\n",
        "mean_char_lens=np.mean(char_lens)\n",
        "mean_char_lens"
      ],
      "metadata": {
        "colab": {
          "base_uri": "https://localhost:8080/"
        },
        "id": "bLkcyC_PC8mt",
        "outputId": "48087943-1958-484b-9411-5447189ad2d7"
      },
      "execution_count": 47,
      "outputs": [
        {
          "output_type": "execute_result",
          "data": {
            "text/plain": [
              "149.3662574983337"
            ]
          },
          "metadata": {},
          "execution_count": 47
        }
      ]
    },
    {
      "cell_type": "code",
      "source": [
        "# Checking the distribuation of sequence at character level \n",
        "import matplotlib.pyplot as plt\n",
        "plt.hist(char_lens,bins=7);"
      ],
      "metadata": {
        "colab": {
          "base_uri": "https://localhost:8080/",
          "height": 265
        },
        "id": "wHu5dw6oD2_B",
        "outputId": "0f91ca7c-e3cf-41a6-af9f-b15c57a155ff"
      },
      "execution_count": 48,
      "outputs": [
        {
          "output_type": "display_data",
          "data": {
            "text/plain": [
              "<Figure size 432x288 with 1 Axes>"
            ],
            "image/png": "[encoded data removed]"
          },
          "metadata": {
            "needs_background": "light"
          }
        }
      ]
    },
    {
      "cell_type": "code",
      "source": [
        "# Finding what character length cover 95% of sequences\n",
        "output_seq_char_len=int(np.percentile(char_lens,95))\n",
        "output_seq_char_len"
      ],
      "metadata": {
        "colab": {
          "base_uri": "https://localhost:8080/"
        },
        "id": "upEPIIBbEJev",
        "outputId": "baeccbbb-89bf-458f-bfb9-e1eaa51c4568"
      },
      "execution_count": 49,
      "outputs": [
        {
          "output_type": "execute_result",
          "data": {
            "text/plain": [
              "290"
            ]
          },
          "metadata": {},
          "execution_count": 49
        }
      ]
    },
    {
      "cell_type": "code",
      "source": [
        "# Getting all keyboard character\n",
        "import string \n",
        "alphabet=string.ascii_lowercase+string.digits+string.punctuation\n",
        "alphabet"
      ],
      "metadata": {
        "colab": {
          "base_uri": "https://localhost:8080/",
          "height": 36
        },
        "id": "r7733J6uEpI2",
        "outputId": "cf989664-9173-4acb-c830-e57672c32d81"
      },
      "execution_count": 50,
      "outputs": [
        {
          "output_type": "execute_result",
          "data": {
            "text/plain": [
              "'abcdefghijklmnopqrstuvwxyz0123456789!\"#$%&\\'()*+,-./:;<=>?@[\\\\]^_`{|}~'"
            ],
            "application/vnd.google.colaboratory.intrinsic+json": {
              "type": "string"
            }
          },
          "metadata": {},
          "execution_count": 50
        }
      ]
    },
    {
      "cell_type": "code",
      "source": [
        "# Creating char-level text vectorizer\n",
        "num_char_token=len(alphabet)+2\n",
        "char_vectorizer=layers.TextVectorization(max_tokens=num_char_token,\n",
        "                                         output_sequence_length=output_seq_char_len,\n",
        "                                         name=\"char_vectorizer\")"
      ],
      "metadata": {
        "id": "H0jgX77JFdld"
      },
      "execution_count": 51,
      "outputs": []
    },
    {
      "cell_type": "code",
      "source": [
        "# Adapting character vectorizer to training character\n",
        "char_vectorizer.adapt(train_char)"
      ],
      "metadata": {
        "id": "hEKFWbw5Gw_6"
      },
      "execution_count": 52,
      "outputs": []
    },
    {
      "cell_type": "code",
      "source": [
        "# Check character vocab stats\n",
        "char_vocab=char_vectorizer.get_vocabulary()\n",
        "print(f\"Number of different characters in charater vocab: {len(char_vocab)}\")\n",
        "print(f\"5 most common characters: {char_vocab[:5]}\")\n",
        "print(f\"5 least common character: {char_vocab[-5:]}\")"
      ],
      "metadata": {
        "colab": {
          "base_uri": "https://localhost:8080/"
        },
        "id": "htMuOHMoG1By",
        "outputId": "ccfc9216-6c1a-484b-e7f7-d5e7d1cc89e5"
      },
      "execution_count": 53,
      "outputs": [
        {
          "output_type": "stream",
          "name": "stdout",
          "text": [
            "Number of different characters in charater vocab: 28\n",
            "5 most common characters: ['', '[UNK]', 'e', 't', 'i']\n",
            "5 least common character: ['k', 'x', 'z', 'q', 'j']\n"
          ]
        }
      ]
    },
    {
      "cell_type": "markdown",
      "source": [
        "##### Creating charater level embedding"
      ],
      "metadata": {
        "id": "C6T2tUrEHYeP"
      }
    },
    {
      "cell_type": "code",
      "source": [
        "# Creating char level embedding\n",
        "char_embed=layers.Embedding(input_dim=len(char_vocab),\n",
        "                            output_dim=128,\n",
        "                            mask_zero=True,\n",
        "                            name=\"char_embedding\")"
      ],
      "metadata": {
        "id": "Zi7MvZcJGSMK"
      },
      "execution_count": 54,
      "outputs": []
    },
    {
      "cell_type": "markdown",
      "source": [
        "##### Building model_3 and getting a summary"
      ],
      "metadata": {
        "id": "vPTL034KHWbJ"
      }
    },
    {
      "cell_type": "code",
      "source": [
        "# Building Conv1D model with character embedding\n",
        "input=layers.Input(shape=(1,),dtype=tf.string)\n",
        "char_vectors=char_vectorizer(input)\n",
        "char_embeddings=char_embed(char_vectors)\n",
        "x=layers.Conv1D(filters=64,\n",
        "                kernel_size=5,\n",
        "                padding=\"same\",\n",
        "                activation=\"relu\")(char_embeddings)\n",
        "x=layers.GlobalMaxPooling1D()(x)\n",
        "output=layers.Dense(num_classes,activation=\"softmax\")(x)\n",
        "model_3=tf.keras.Model(input,output)\n",
        "\n",
        "# Getting a summary of model_3\n",
        "model_3.summary()"
      ],
      "metadata": {
        "colab": {
          "base_uri": "https://localhost:8080/"
        },
        "id": "zAkTNcqdHzHi",
        "outputId": "ce99346c-253e-446d-c166-453ae02fcbbc"
      },
      "execution_count": 55,
      "outputs": [
        {
          "output_type": "stream",
          "name": "stdout",
          "text": [
            "Model: \"model_2\"\n",
            "_________________________________________________________________\n",
            " Layer (type)                Output Shape              Param #   \n",
            "=================================================================\n",
            " input_3 (InputLayer)        [(None, 1)]               0         \n",
            "                                                                 \n",
            " char_vectorizer (TextVector  (None, 290)              0         \n",
            " ization)                                                        \n",
            "                                                                 \n",
            " char_embedding (Embedding)  (None, 290, 128)          3584      \n",
            "                                                                 \n",
            " conv1d_1 (Conv1D)           (None, 290, 64)           41024     \n",
            "                                                                 \n",
            " global_max_pooling1d (Globa  (None, 64)               0         \n",
            " lMaxPooling1D)                                                  \n",
            "                                                                 \n",
            " dense_3 (Dense)             (None, 5)                 325       \n",
            "                                                                 \n",
            "=================================================================\n",
            "Total params: 44,933\n",
            "Trainable params: 44,933\n",
            "Non-trainable params: 0\n",
            "_________________________________________________________________\n"
          ]
        }
      ]
    },
    {
      "cell_type": "markdown",
      "source": [
        "##### Creating character level dataset"
      ],
      "metadata": {
        "id": "wgfl1ex2JrvM"
      }
    },
    {
      "cell_type": "code",
      "source": [
        "# Turning data into TensorSlicesDatasets and turning them into prefetch batches\n",
        "train_char_dataset=tf.data.Dataset.from_tensor_slices((train_char,train_labels_one_hot)).batch(32).prefetch(tf.data.AUTOTUNE)\n",
        "val_char_dataset=tf.data.Dataset.from_tensor_slices((val_char,val_labels_one_hot)).batch(32).prefetch(tf.data.AUTOTUNE)\n",
        "test_char_dataset=tf.data.Dataset.from_tensor_slices((test_char,test_labels_one_hot)).batch(32).prefetch(tf.data.AUTOTUNE)\n",
        "\n",
        "train_char_dataset,val_char_dataset,test_char_dataset"
      ],
      "metadata": {
        "colab": {
          "base_uri": "https://localhost:8080/"
        },
        "id": "Vu644vwyJzDc",
        "outputId": "5cde38ac-b452-4d43-d1b5-96102cd1e281"
      },
      "execution_count": 56,
      "outputs": [
        {
          "output_type": "execute_result",
          "data": {
            "text/plain": [
              "(<PrefetchDataset element_spec=(TensorSpec(shape=(None,), dtype=tf.string, name=None), TensorSpec(shape=(None, 5), dtype=tf.float64, name=None))>,\n",
              " <PrefetchDataset element_spec=(TensorSpec(shape=(None,), dtype=tf.string, name=None), TensorSpec(shape=(None, 5), dtype=tf.float64, name=None))>,\n",
              " <PrefetchDataset element_spec=(TensorSpec(shape=(None,), dtype=tf.string, name=None), TensorSpec(shape=(None, 5), dtype=tf.float64, name=None))>)"
            ]
          },
          "metadata": {},
          "execution_count": 56
        }
      ]
    },
    {
      "cell_type": "markdown",
      "source": [
        "##### Compiling and fitting model_3"
      ],
      "metadata": {
        "id": "NjaTR1C-JGVQ"
      }
    },
    {
      "cell_type": "code",
      "source": [
        "# Compiling model_3\n",
        "model_3.compile(loss=\"categorical_crossentropy\",\n",
        "                optimizer=tf.keras.optimizers.Adam(),\n",
        "                metrics=\"accuracy\")\n",
        "\n",
        "# Fitting model_3\n",
        "history_3=model_3.fit(train_char_dataset,\n",
        "                      epochs=5,\n",
        "                      steps_per_epoch=len(train_char_dataset),\n",
        "                      validation_data=val_char_dataset,\n",
        "                      validation_steps=int(0.1*len(val_char_dataset)))"
      ],
      "metadata": {
        "colab": {
          "base_uri": "https://localhost:8080/"
        },
        "id": "CqBSeAgjJU_4",
        "outputId": "e540b25d-b9bc-470c-c6d9-a53adb577948"
      },
      "execution_count": 57,
      "outputs": [
        {
          "output_type": "stream",
          "name": "stdout",
          "text": [
            "Epoch 1/5\n",
            "5627/5627 [==============================] - 32s 6ms/step - loss: 0.8413 - accuracy: 0.6726 - val_loss: 0.7767 - val_accuracy: 0.6961\n",
            "Epoch 2/5\n",
            "5627/5627 [==============================] - 29s 5ms/step - loss: 0.7251 - accuracy: 0.7251 - val_loss: 0.7470 - val_accuracy: 0.7168\n",
            "Epoch 3/5\n",
            "5627/5627 [==============================] - 39s 7ms/step - loss: 0.6991 - accuracy: 0.7363 - val_loss: 0.7353 - val_accuracy: 0.7251\n",
            "Epoch 4/5\n",
            "5627/5627 [==============================] - 30s 5ms/step - loss: 0.6830 - accuracy: 0.7433 - val_loss: 0.7204 - val_accuracy: 0.7261\n",
            "Epoch 5/5\n",
            "5627/5627 [==============================] - 29s 5ms/step - loss: 0.6651 - accuracy: 0.7506 - val_loss: 0.7013 - val_accuracy: 0.7387\n"
          ]
        }
      ]
    },
    {
      "cell_type": "markdown",
      "source": [
        "##### Evalauting and making predictions with model_3"
      ],
      "metadata": {
        "id": "ro1qLtQJNOBZ"
      }
    },
    {
      "cell_type": "code",
      "source": [
        "# Evaluating model_3 \n",
        "model_3.evaluate(val_char_dataset)"
      ],
      "metadata": {
        "colab": {
          "base_uri": "https://localhost:8080/"
        },
        "id": "5vZ789okNWbW",
        "outputId": "96d61d91-4aee-4105-ffd0-6f2aea24a045"
      },
      "execution_count": 58,
      "outputs": [
        {
          "output_type": "stream",
          "name": "stdout",
          "text": [
            "945/945 [==============================] - 4s 4ms/step - loss: 0.6960 - accuracy: 0.7393\n"
          ]
        },
        {
          "output_type": "execute_result",
          "data": {
            "text/plain": [
              "[0.6959543824195862, 0.7393419742584229]"
            ]
          },
          "metadata": {},
          "execution_count": 58
        }
      ]
    },
    {
      "cell_type": "code",
      "source": [
        "# Making predictions with model_3\n",
        "model_3_pred_probs=model_3.predict(val_char_dataset)\n",
        "model_3_preds=tf.argmax(model_3_pred_probs,axis=1)\n",
        "model_3_preds"
      ],
      "metadata": {
        "colab": {
          "base_uri": "https://localhost:8080/"
        },
        "id": "ygAuagjSMR2y",
        "outputId": "631b70dc-21d4-4e63-bd7d-24bb493b266c"
      },
      "execution_count": 59,
      "outputs": [
        {
          "output_type": "execute_result",
          "data": {
            "text/plain": [
              "<tf.Tensor: shape=(30212,), dtype=int64, numpy=array([1, 1, 3, ..., 4, 4, 1])>"
            ]
          },
          "metadata": {},
          "execution_count": 59
        }
      ]
    },
    {
      "cell_type": "code",
      "source": [
        "# Calculating model_3 performance\n",
        "model_3_results=calculate_results(y_true=val_labels_encoded,\n",
        "                                  y_pred=model_3_preds)\n",
        "model_3_results"
      ],
      "metadata": {
        "colab": {
          "base_uri": "https://localhost:8080/"
        },
        "id": "voB0YSCMNi6i",
        "outputId": "11995622-aac7-4d12-baf2-8857536058e5"
      },
      "execution_count": 60,
      "outputs": [
        {
          "output_type": "execute_result",
          "data": {
            "text/plain": [
              "{'model_accuracy': 0.7393419833178869,\n",
              " 'model_precision': 0.7375604097505617,\n",
              " 'model_recall': 0.7393419833178869,\n",
              " 'model_f1': 0.7302030141592115}"
            ]
          },
          "metadata": {},
          "execution_count": 60
        }
      ]
    },
    {
      "cell_type": "markdown",
      "source": [
        "##### Saving model_3"
      ],
      "metadata": {
        "id": "08F4Dp9BvFoL"
      }
    },
    {
      "cell_type": "code",
      "source": [
        "# Saving model_3\n",
        "save_model(model=model_3,\n",
        "           save_dir=\"/content/drive/MyDrive/skimlit_models/Conv1D_character_embedding_model\")"
      ],
      "metadata": {
        "id": "AhFT-0jnvH5j"
      },
      "execution_count": 61,
      "outputs": []
    },
    {
      "cell_type": "markdown",
      "source": [
        "#### Model_4: Model with both token and character embedding\n",
        "\n",
        "* Create a token-level embedding model (similar to `model_2`)\n",
        "* Create a character-level embedding model (similar to `model_3`)\n",
        "* Combine the two with a cocantenate (`layer.concatenate`)\n",
        "* Build a series of output layers on top of 3 similar to figure 1 and section 4.2 of https://arxiv.org/pdf/1710.06071.pdf\n",
        "* Construct a model which takes token and character-level sequences as input and produces sequence label probabilities as output"
      ],
      "metadata": {
        "id": "Q6lZhERMN04N"
      }
    },
    {
      "cell_type": "markdown",
      "source": [
        "##### Building and getting a summary of model_4"
      ],
      "metadata": {
        "id": "LZp0v8KGOHNF"
      }
    },
    {
      "cell_type": "code",
      "source": [
        "# Building token inputs/model\n",
        "token_inputs=layers.Input(shape=[],dtype=tf.string,name=\"token_input\")\n",
        "token_embeddings=sentence_encoder(token_inputs)\n",
        "token_outputs=layers.Dense(128,activation=\"relu\")(token_embeddings)\n",
        "token_model=tf.keras.Model(inputs=token_inputs,\n",
        "                           outputs=token_outputs)\n",
        "\n",
        "# Building char inputs/model\n",
        "char_input=layers.Input(shape=(1,),dtype=tf.string)\n",
        "char_vectors=char_vectorizer(char_input)\n",
        "char_embeddings=char_embed(char_vectors)\n",
        "char_bi_lstm=layers.Bidirectional(layers.LSTM(64))(char_embeddings)\n",
        "char_model=tf.keras.Model(char_input,char_bi_lstm)\n",
        "\n",
        "# Concatenate token and char inputs\n",
        "token_char_concat=layers.Concatenate(name=\"token_char_hybrid\")([token_model.output,\n",
        "                                                                char_model.output])\n",
        "\n",
        "# Creating output layers\n",
        "combined_dropout=layers.Dropout(0.5)(token_char_concat)\n",
        "combined_dense=layers.Dense(128,activation=\"relu\")(combined_dropout)\n",
        "final_dropout=layers.Dropout(0.5)(combined_dense)\n",
        "output_layer=layers.Dense(num_classes,activation=\"softmax\")(final_dropout)\n",
        "\n",
        "# Construct model with char and token inputs\n",
        "model_4=tf.keras.Model([token_model.input,char_model.input],output_layer)\n",
        "\n",
        "# Getting a summary of model_4\n",
        "model_4.summary()"
      ],
      "metadata": {
        "colab": {
          "base_uri": "https://localhost:8080/"
        },
        "id": "YYrGhEUWReJe",
        "outputId": "c0322e40-59ec-4ca7-bf93-799834f99be6"
      },
      "execution_count": 62,
      "outputs": [
        {
          "output_type": "stream",
          "name": "stdout",
          "text": [
            "Model: \"model_5\"\n",
            "__________________________________________________________________________________________________\n",
            " Layer (type)                   Output Shape         Param #     Connected to                     \n",
            "==================================================================================================\n",
            " input_4 (InputLayer)           [(None, 1)]          0           []                               \n",
            "                                                                                                  \n",
            " token_input (InputLayer)       [(None,)]            0           []                               \n",
            "                                                                                                  \n",
            " char_vectorizer (TextVectoriza  (None, 290)         0           ['input_4[0][0]']                \n",
            " tion)                                                                                            \n",
            "                                                                                                  \n",
            " universal_sentence_encoder (Ke  (None, 512)         256797824   ['token_input[0][0]']            \n",
            " rasLayer)                                                                                        \n",
            "                                                                                                  \n",
            " char_embedding (Embedding)     (None, 290, 128)     3584        ['char_vectorizer[1][0]']        \n",
            "                                                                                                  \n",
            " dense_4 (Dense)                (None, 128)          65664       ['universal_sentence_encoder[1][0\n",
            "                                                                 ]']                              \n",
            "                                                                                                  \n",
            " bidirectional (Bidirectional)  (None, 128)          98816       ['char_embedding[1][0]']         \n",
            "                                                                                                  \n",
            " token_char_hybrid (Concatenate  (None, 256)         0           ['dense_4[0][0]',                \n",
            " )                                                                'bidirectional[0][0]']          \n",
            "                                                                                                  \n",
            " dropout (Dropout)              (None, 256)          0           ['token_char_hybrid[0][0]']      \n",
            "                                                                                                  \n",
            " dense_5 (Dense)                (None, 128)          32896       ['dropout[0][0]']                \n",
            "                                                                                                  \n",
            " dropout_1 (Dropout)            (None, 128)          0           ['dense_5[0][0]']                \n",
            "                                                                                                  \n",
            " dense_6 (Dense)                (None, 5)            645         ['dropout_1[0][0]']              \n",
            "                                                                                                  \n",
            "==================================================================================================\n",
            "Total params: 256,999,429\n",
            "Trainable params: 201,605\n",
            "Non-trainable params: 256,797,824\n",
            "__________________________________________________________________________________________________\n"
          ]
        }
      ]
    },
    {
      "cell_type": "code",
      "source": [
        "# plot hybrid token and character model\n",
        "from tensorflow.keras.utils import plot_model\n",
        "plot_model(model_4,show_shapes=True)"
      ],
      "metadata": {
        "colab": {
          "base_uri": "https://localhost:8080/",
          "height": 976
        },
        "id": "dE4pzb4NYjNH",
        "outputId": "9d2f2d52-8daf-41c6-aeba-eefade0d61c0"
      },
      "execution_count": 63,
      "outputs": [
        {
          "output_type": "execute_result",
          "data": {
            "image/png": "[encoded data removed]",
            "text/plain": [
              "<IPython.core.display.Image object>"
            ]
          },
          "metadata": {},
          "execution_count": 63
        }
      ]
    },
    {
      "cell_type": "markdown",
      "source": [
        "##### Combining token and character-level data into tf.data.Dataset"
      ],
      "metadata": {
        "id": "E-hxm52qZMKM"
      }
    },
    {
      "cell_type": "code",
      "source": [
        "# Combine chars and token into a Dataset\n",
        "train_token_char_data=tf.data.Dataset.from_tensor_slices((train_sentences,train_char))\n",
        "train_token_char_labels=tf.data.Dataset.from_tensor_slices(train_labels_one_hot)\n",
        "train_token_char_dataset=tf.data.Dataset.zip((train_token_char_data,train_token_char_labels))\n",
        "\n",
        "# Prefetch and batch train data\n",
        "train_token_char_dataset=train_token_char_dataset.batch(32).prefetch(tf.data.AUTOTUNE)"
      ],
      "metadata": {
        "id": "lMbENr10ZMG-"
      },
      "execution_count": 64,
      "outputs": []
    },
    {
      "cell_type": "code",
      "source": [
        "# Combine chars and token into a Dataset\n",
        "val_token_char_data=tf.data.Dataset.from_tensor_slices((val_sentences,val_char))\n",
        "val_token_char_labels=tf.data.Dataset.from_tensor_slices(val_labels_one_hot)\n",
        "val_token_char_dataset=tf.data.Dataset.zip((val_token_char_data,val_token_char_labels))\n",
        "\n",
        "# Prefetch and batch val data\n",
        "val_token_char_dataset=val_token_char_dataset.batch(32).prefetch(tf.data.AUTOTUNE)"
      ],
      "metadata": {
        "id": "rmL-2u6LbEP1"
      },
      "execution_count": 65,
      "outputs": []
    },
    {
      "cell_type": "code",
      "source": [
        "# Combine chars and token into a Dataset\n",
        "test_token_char_data=tf.data.Dataset.from_tensor_slices((test_sentences,test_char))\n",
        "test_token_char_labels=tf.data.Dataset.from_tensor_slices(test_labels_one_hot)\n",
        "test_token_char_dataset=tf.data.Dataset.zip((train_token_char_data,test_token_char_labels))\n",
        "\n",
        "# Prefetch and batch test data\n",
        "test_token_char_dataset=test_token_char_dataset.batch(32).prefetch(tf.data.AUTOTUNE)"
      ],
      "metadata": {
        "id": "VwawHBeRbfIf"
      },
      "execution_count": 66,
      "outputs": []
    },
    {
      "cell_type": "markdown",
      "source": [
        "##### Compiling and fitting model_4"
      ],
      "metadata": {
        "id": "Qbix5r-bbuUT"
      }
    },
    {
      "cell_type": "code",
      "source": [
        "# Compiling model_4\n",
        "model_4.compile(loss=\"categorical_crossentropy\",\n",
        "                optimizer=tf.keras.optimizers.Adam(),\n",
        "                metrics=\"accuracy\")\n",
        "\n",
        "# Fitting model_4\n",
        "history_4=model_4.fit(train_token_char_dataset,\n",
        "                      epochs=5,\n",
        "                      steps_per_epoch=len(train_token_char_dataset),\n",
        "                      validation_data=val_token_char_dataset,\n",
        "                      validation_steps=int(0.1*len(val_token_char_dataset)))"
      ],
      "metadata": {
        "colab": {
          "base_uri": "https://localhost:8080/"
        },
        "id": "L7CUHtr8cLhb",
        "outputId": "9a0a9236-1e28-4a05-b91d-d58e9c89bd5f"
      },
      "execution_count": 67,
      "outputs": [
        {
          "output_type": "stream",
          "name": "stdout",
          "text": [
            "Epoch 1/5\n",
            "5627/5627 [==============================] - 269s 46ms/step - loss: 0.7503 - accuracy: 0.7140 - val_loss: 0.6153 - val_accuracy: 0.7703\n",
            "Epoch 2/5\n",
            "5627/5627 [==============================] - 257s 46ms/step - loss: 0.6631 - accuracy: 0.7503 - val_loss: 0.5833 - val_accuracy: 0.7799\n",
            "Epoch 3/5\n",
            "5627/5627 [==============================] - 257s 46ms/step - loss: 0.6310 - accuracy: 0.7642 - val_loss: 0.5619 - val_accuracy: 0.7899\n",
            "Epoch 4/5\n",
            "5627/5627 [==============================] - 257s 46ms/step - loss: 0.6027 - accuracy: 0.7747 - val_loss: 0.5498 - val_accuracy: 0.7979\n",
            "Epoch 5/5\n",
            "5627/5627 [==============================] - 257s 46ms/step - loss: 0.5861 - accuracy: 0.7823 - val_loss: 0.5310 - val_accuracy: 0.8009\n"
          ]
        }
      ]
    },
    {
      "cell_type": "markdown",
      "source": [
        "##### Evaluating and making predictions with model_4"
      ],
      "metadata": {
        "id": "qsLDg8Vac-wX"
      }
    },
    {
      "cell_type": "code",
      "source": [
        "# Evaluating model_4\n",
        "model_4.evaluate(val_token_char_dataset)"
      ],
      "metadata": {
        "colab": {
          "base_uri": "https://localhost:8080/"
        },
        "id": "vH5c0Ms_dNFK",
        "outputId": "26a69ae6-55d1-4561-964e-41dc6ddc8021"
      },
      "execution_count": 68,
      "outputs": [
        {
          "output_type": "stream",
          "name": "stdout",
          "text": [
            "945/945 [==============================] - 23s 25ms/step - loss: 0.5319 - accuracy: 0.7991\n"
          ]
        },
        {
          "output_type": "execute_result",
          "data": {
            "text/plain": [
              "[0.5319437384605408, 0.7990533709526062]"
            ]
          },
          "metadata": {},
          "execution_count": 68
        }
      ]
    },
    {
      "cell_type": "code",
      "source": [
        "# Making predictions with model_4\n",
        "model_4_pred_probs=model_4.predict(val_token_char_dataset)\n",
        "model_4_preds=tf.argmax(model_4_pred_probs,axis=1)\n",
        "model_4_preds"
      ],
      "metadata": {
        "colab": {
          "base_uri": "https://localhost:8080/"
        },
        "id": "Q6_Ndes3df_3",
        "outputId": "044a340e-c1f9-4b5e-a7d5-3c2a7411e1cb"
      },
      "execution_count": 69,
      "outputs": [
        {
          "output_type": "execute_result",
          "data": {
            "text/plain": [
              "<tf.Tensor: shape=(30212,), dtype=int64, numpy=array([0, 1, 0, ..., 4, 4, 1])>"
            ]
          },
          "metadata": {},
          "execution_count": 69
        }
      ]
    },
    {
      "cell_type": "code",
      "source": [
        "# Calculating the performance of model_4\n",
        "model_4_results=calculate_results(y_true=val_labels_encoded,\n",
        "                                  y_pred=model_4_preds)\n",
        "model_4_results"
      ],
      "metadata": {
        "colab": {
          "base_uri": "https://localhost:8080/"
        },
        "id": "yQN6S5sOd75Y",
        "outputId": "b75fd942-0756-43d7-e59e-b3f0b3468dd5"
      },
      "execution_count": 70,
      "outputs": [
        {
          "output_type": "execute_result",
          "data": {
            "text/plain": [
              "{'model_accuracy': 0.7990533562822719,\n",
              " 'model_precision': 0.7978969379161253,\n",
              " 'model_recall': 0.7990533562822719,\n",
              " 'model_f1': 0.7949536756783602}"
            ]
          },
          "metadata": {},
          "execution_count": 70
        }
      ]
    },
    {
      "cell_type": "markdown",
      "source": [
        "##### Saving model_4"
      ],
      "metadata": {
        "id": "i2QcAjRNvuxq"
      }
    },
    {
      "cell_type": "code",
      "source": [
        "# Saving model_4\n",
        "save_model(model=model_4,\n",
        "           save_dir=\"/content/drive/MyDrive/skimlit_models/Universal_sentence_encoder_hybrid_embedding_model\")"
      ],
      "metadata": {
        "colab": {
          "base_uri": "https://localhost:8080/"
        },
        "id": "u37RVSD_vxn0",
        "outputId": "a060d4d9-b8b7-4700-9097-6c3bfaaf2190"
      },
      "execution_count": 71,
      "outputs": [
        {
          "output_type": "stream",
          "name": "stderr",
          "text": [
            "WARNING:absl:Found untraced functions such as lstm_cell_1_layer_call_fn, lstm_cell_1_layer_call_and_return_conditional_losses, lstm_cell_2_layer_call_fn, lstm_cell_2_layer_call_and_return_conditional_losses while saving (showing 4 of 4). These functions will not be directly callable after loading.\n",
            "WARNING:absl:<keras.layers.recurrent.LSTMCell object at 0x7f5d8134a3d0> has the same name 'LSTMCell' as a built-in Keras object. Consider renaming <class 'keras.layers.recurrent.LSTMCell'> to avoid naming conflicts when loading with `tf.keras.models.load_model`. If renaming is not possible, pass the object in the `custom_objects` parameter of the load function.\n",
            "WARNING:absl:<keras.layers.recurrent.LSTMCell object at 0x7f5d812b2710> has the same name 'LSTMCell' as a built-in Keras object. Consider renaming <class 'keras.layers.recurrent.LSTMCell'> to avoid naming conflicts when loading with `tf.keras.models.load_model`. If renaming is not possible, pass the object in the `custom_objects` parameter of the load function.\n"
          ]
        }
      ]
    },
    {
      "cell_type": "markdown",
      "source": [
        "#### Model 5: Transfer learning with pretrained token embeddings + character embeddings + positional embeddings\n",
        "\n",
        "* Create a token-level model\n",
        "* Create a character-level model\n",
        "* Create a model for the \"line_number\" feature\n",
        "* Create a model for the \"total_lines\" feature\n",
        "* Combine the outputs 1 & 2 using tf.keras.layers.Concatenate\n",
        "* Combine the outputs of 3,4,5 using tf.keras.layers.Concatenate\n",
        "* Create an output layer to accept the tribrid embedding nad output label probabilities\n",
        "* Combine the inputs of 1,2,3,4 and outputs of 7 into a tf.keras.Model"
      ],
      "metadata": {
        "id": "-lCAhu4HeN3W"
      }
    },
    {
      "cell_type": "markdown",
      "source": [
        "##### One-hot encoding the positional embeddings"
      ],
      "metadata": {
        "id": "WphhX0U6jgIF"
      }
    },
    {
      "cell_type": "code",
      "source": [
        "# Checking how many different line numbers are there\n",
        "train_data[\"line_number\"].value_counts()"
      ],
      "metadata": {
        "colab": {
          "base_uri": "https://localhost:8080/"
        },
        "id": "j4H9TNRdkGD-",
        "outputId": "31c6c777-1b3c-4ff5-a3d8-31052d31ebca"
      },
      "execution_count": 72,
      "outputs": [
        {
          "output_type": "execute_result",
          "data": {
            "text/plain": [
              "0     15000\n",
              "1     15000\n",
              "2     15000\n",
              "3     15000\n",
              "4     14992\n",
              "5     14949\n",
              "6     14758\n",
              "7     14279\n",
              "8     13346\n",
              "9     11981\n",
              "10    10041\n",
              "11     7892\n",
              "12     5853\n",
              "13     4152\n",
              "14     2835\n",
              "15     1861\n",
              "16     1188\n",
              "17      751\n",
              "18      462\n",
              "19      286\n",
              "20      162\n",
              "21      101\n",
              "22       66\n",
              "23       33\n",
              "24       22\n",
              "25       14\n",
              "26        7\n",
              "27        4\n",
              "28        3\n",
              "29        1\n",
              "30        1\n",
              "Name: line_number, dtype: int64"
            ]
          },
          "metadata": {},
          "execution_count": 72
        }
      ]
    },
    {
      "cell_type": "code",
      "source": [
        "# Check the distribution of \"line_number\" column\n",
        "train_data.line_number.plot.hist()"
      ],
      "metadata": {
        "colab": {
          "base_uri": "https://localhost:8080/",
          "height": 283
        },
        "id": "uHMjH0tokObi",
        "outputId": "f53b11fa-02e4-42c3-c457-2ae71814149c"
      },
      "execution_count": 73,
      "outputs": [
        {
          "output_type": "execute_result",
          "data": {
            "text/plain": [
              "<matplotlib.axes._subplots.AxesSubplot at 0x7f5cff09a8d0>"
            ]
          },
          "metadata": {},
          "execution_count": 73
        },
        {
          "output_type": "display_data",
          "data": {
            "text/plain": [
              "<Figure size 432x288 with 1 Axes>"
            ],
            "image/png": "[encoded data removed]"
          },
          "metadata": {
            "needs_background": "light"
          }
        }
      ]
    },
    {
      "cell_type": "code",
      "source": [
        "# Using TensorFlow to create one-hot-encoded tensors of our \"line_number\" column\n",
        "train_line_numbers_one_hot=tf.one_hot(train_data[\"line_number\"].to_numpy(),depth=15)\n",
        "val_line_numbers_one_hot=tf.one_hot(val_data[\"line_number\"].to_numpy(),depth=15)\n",
        "test_line_numbers_one_hot=tf.one_hot(test_data[\"line_number\"].to_numpy(),depth=15)\n",
        "train_line_numbers_one_hot[:10],train_line_numbers_one_hot.shape"
      ],
      "metadata": {
        "colab": {
          "base_uri": "https://localhost:8080/"
        },
        "id": "ai1JO2rJjeC_",
        "outputId": "f7c13ec5-c1fe-40ac-f510-d143e3e7c908"
      },
      "execution_count": 74,
      "outputs": [
        {
          "output_type": "execute_result",
          "data": {
            "text/plain": [
              "(<tf.Tensor: shape=(10, 15), dtype=float32, numpy=\n",
              " array([[1., 0., 0., 0., 0., 0., 0., 0., 0., 0., 0., 0., 0., 0., 0.],\n",
              "        [0., 1., 0., 0., 0., 0., 0., 0., 0., 0., 0., 0., 0., 0., 0.],\n",
              "        [0., 0., 1., 0., 0., 0., 0., 0., 0., 0., 0., 0., 0., 0., 0.],\n",
              "        [0., 0., 0., 1., 0., 0., 0., 0., 0., 0., 0., 0., 0., 0., 0.],\n",
              "        [0., 0., 0., 0., 1., 0., 0., 0., 0., 0., 0., 0., 0., 0., 0.],\n",
              "        [0., 0., 0., 0., 0., 1., 0., 0., 0., 0., 0., 0., 0., 0., 0.],\n",
              "        [0., 0., 0., 0., 0., 0., 1., 0., 0., 0., 0., 0., 0., 0., 0.],\n",
              "        [0., 0., 0., 0., 0., 0., 0., 1., 0., 0., 0., 0., 0., 0., 0.],\n",
              "        [0., 0., 0., 0., 0., 0., 0., 0., 1., 0., 0., 0., 0., 0., 0.],\n",
              "        [0., 0., 0., 0., 0., 0., 0., 0., 0., 1., 0., 0., 0., 0., 0.]],\n",
              "       dtype=float32)>, TensorShape([180040, 15]))"
            ]
          },
          "metadata": {},
          "execution_count": 74
        }
      ]
    },
    {
      "cell_type": "code",
      "source": [
        "# Checking how many different numbers of lines are there\n",
        "train_data[\"total_lines\"].value_counts()"
      ],
      "metadata": {
        "colab": {
          "base_uri": "https://localhost:8080/"
        },
        "id": "WvnCigfPjzDs",
        "outputId": "b96ba061-4a51-4e6a-da4d-6a506c63bf0a"
      },
      "execution_count": 75,
      "outputs": [
        {
          "output_type": "execute_result",
          "data": {
            "text/plain": [
              "11    24468\n",
              "10    23639\n",
              "12    22113\n",
              "9     19400\n",
              "13    18438\n",
              "14    14610\n",
              "8     12285\n",
              "15    10768\n",
              "7      7464\n",
              "16     7429\n",
              "17     5202\n",
              "6      3353\n",
              "18     3344\n",
              "19     2480\n",
              "20     1281\n",
              "5      1146\n",
              "21      770\n",
              "22      759\n",
              "23      264\n",
              "4       215\n",
              "24      200\n",
              "25      182\n",
              "26       81\n",
              "28       58\n",
              "3        32\n",
              "30       31\n",
              "27       28\n",
              "Name: total_lines, dtype: int64"
            ]
          },
          "metadata": {},
          "execution_count": 75
        }
      ]
    },
    {
      "cell_type": "code",
      "source": [
        "# Check the distributions of total lines\n",
        "train_data.total_lines.plot.hist()"
      ],
      "metadata": {
        "colab": {
          "base_uri": "https://localhost:8080/",
          "height": 285
        },
        "id": "PK5nyPZfjxrL",
        "outputId": "3457bdee-cd3f-4e9a-a2a7-30cd1b2b3269"
      },
      "execution_count": 76,
      "outputs": [
        {
          "output_type": "execute_result",
          "data": {
            "text/plain": [
              "<matplotlib.axes._subplots.AxesSubplot at 0x7f5e1c1199d0>"
            ]
          },
          "metadata": {},
          "execution_count": 76
        },
        {
          "output_type": "display_data",
          "data": {
            "text/plain": [
              "<Figure size 432x288 with 1 Axes>"
            ],
            "image/png": "[encoded data removed]"
          },
          "metadata": {
            "needs_background": "light"
          }
        }
      ]
    },
    {
      "cell_type": "code",
      "source": [
        "# Using Tensorflow to create one-hot-encoded-tensors of our \"total_lines\" feature\n",
        "train_total_lines_one_hot=tf.one_hot(train_data[\"total_lines\"].to_numpy(),depth=20)\n",
        "val_total_lines_one_hot=tf.one_hot(val_data[\"total_lines\"].to_numpy(),depth=20)\n",
        "test_total_lines_one_hot=tf.one_hot(test_data[\"total_lines\"].to_numpy(),depth=20)\n",
        "train_total_lines_one_hot.shape,train_total_lines_one_hot[:10]"
      ],
      "metadata": {
        "colab": {
          "base_uri": "https://localhost:8080/"
        },
        "id": "QkK-E4Ovkkvv",
        "outputId": "1d8ea255-8bf8-4d59-fd50-daa76162c787"
      },
      "execution_count": 77,
      "outputs": [
        {
          "output_type": "execute_result",
          "data": {
            "text/plain": [
              "(TensorShape([180040, 20]), <tf.Tensor: shape=(10, 20), dtype=float32, numpy=\n",
              " array([[0., 0., 0., 0., 0., 0., 0., 0., 0., 0., 0., 1., 0., 0., 0., 0.,\n",
              "         0., 0., 0., 0.],\n",
              "        [0., 0., 0., 0., 0., 0., 0., 0., 0., 0., 0., 1., 0., 0., 0., 0.,\n",
              "         0., 0., 0., 0.],\n",
              "        [0., 0., 0., 0., 0., 0., 0., 0., 0., 0., 0., 1., 0., 0., 0., 0.,\n",
              "         0., 0., 0., 0.],\n",
              "        [0., 0., 0., 0., 0., 0., 0., 0., 0., 0., 0., 1., 0., 0., 0., 0.,\n",
              "         0., 0., 0., 0.],\n",
              "        [0., 0., 0., 0., 0., 0., 0., 0., 0., 0., 0., 1., 0., 0., 0., 0.,\n",
              "         0., 0., 0., 0.],\n",
              "        [0., 0., 0., 0., 0., 0., 0., 0., 0., 0., 0., 1., 0., 0., 0., 0.,\n",
              "         0., 0., 0., 0.],\n",
              "        [0., 0., 0., 0., 0., 0., 0., 0., 0., 0., 0., 1., 0., 0., 0., 0.,\n",
              "         0., 0., 0., 0.],\n",
              "        [0., 0., 0., 0., 0., 0., 0., 0., 0., 0., 0., 1., 0., 0., 0., 0.,\n",
              "         0., 0., 0., 0.],\n",
              "        [0., 0., 0., 0., 0., 0., 0., 0., 0., 0., 0., 1., 0., 0., 0., 0.,\n",
              "         0., 0., 0., 0.],\n",
              "        [0., 0., 0., 0., 0., 0., 0., 0., 0., 0., 0., 1., 0., 0., 0., 0.,\n",
              "         0., 0., 0., 0.]], dtype=float32)>)"
            ]
          },
          "metadata": {},
          "execution_count": 77
        }
      ]
    },
    {
      "cell_type": "markdown",
      "source": [
        "##### Building and getting a summary of model_5\n",
        "\n"
      ],
      "metadata": {
        "id": "9B9cRWKgih8r"
      }
    },
    {
      "cell_type": "code",
      "source": [
        "# 1. Token inputs\n",
        "token_inputs=layers.Input(shape=[], dtype=\"string\", name=\"token_inputs\")\n",
        "token_embeddings=sentence_encoder(token_inputs)\n",
        "token_outputs=layers.Dense(128, activation=\"relu\")(token_embeddings)\n",
        "token_model=tf.keras.Model(inputs=token_inputs,\n",
        "                             outputs=token_outputs)\n",
        "\n",
        "# 2. Char inputs\n",
        "char_inputs=layers.Input(shape=(1,), dtype=\"string\", name=\"char_inputs\")\n",
        "char_vectors=char_vectorizer(char_inputs)\n",
        "char_embeddings=char_embed(char_vectors)\n",
        "char_bi_lstm=layers.Bidirectional(layers.LSTM(32))(char_embeddings)\n",
        "char_model=tf.keras.Model(inputs=char_inputs,\n",
        "                            outputs=char_bi_lstm)\n",
        "\n",
        "# 3. Line numbers inputs\n",
        "line_number_inputs=layers.Input(shape=(15,),dtype=tf.int32, name=\"line_number_input\")\n",
        "x=layers.Dense(32,activation=\"relu\")(line_number_inputs)\n",
        "line_number_model=tf.keras.Model(inputs=line_number_inputs,\n",
        "                                 outputs=x)\n",
        "\n",
        "# 4. Total lines inputs\n",
        "total_lines_inputs=layers.Input(shape=(20,), dtype=tf.int32, name=\"total_lines_input\")\n",
        "y=layers.Dense(32,activation=\"relu\")(total_lines_inputs)\n",
        "total_line_model=tf.keras.Model(inputs=total_lines_inputs,\n",
        "                                outputs=y)\n",
        "\n",
        "# 5. Combine token and char embeddings into a hybrid embedding\n",
        "combined_embeddings=layers.Concatenate(name=\"token_char_hybrid_embedding\")([token_model.output, \n",
        "                                                                            char_model.output])\n",
        "z=layers.Dense(256, activation=\"relu\")(combined_embeddings)\n",
        "z=layers.Dropout(0.5)(z)\n",
        "\n",
        "# 6. Combine positional embeddings with combined token and char embeddings into a tribrid embedding\n",
        "z=layers.Concatenate(name=\"token_char_positional_embedding\")([line_number_model.output,\n",
        "                                                              total_line_model.output,\n",
        "                                                              z])\n",
        "\n",
        "# 7. Create output layer\n",
        "output_layer=layers.Dense(num_classes, activation=\"softmax\", name=\"output_layer\")(z)\n",
        "\n",
        "# 8. Put together model\n",
        "model_5=tf.keras.Model(inputs=[line_number_model.input,\n",
        "                               total_line_model.input,\n",
        "                               token_model.input, \n",
        "                               char_model.input],\n",
        "                       outputs=output_layer)\n",
        "\n",
        "# Getting a summary of model_5\n",
        "model_5.summary()"
      ],
      "metadata": {
        "colab": {
          "base_uri": "https://localhost:8080/"
        },
        "id": "Z6vW-YZKk3t9",
        "outputId": "7e33e93a-e4fc-44f0-e25d-ffbccfafae11"
      },
      "execution_count": 78,
      "outputs": [
        {
          "output_type": "stream",
          "name": "stdout",
          "text": [
            "Model: \"model_10\"\n",
            "__________________________________________________________________________________________________\n",
            " Layer (type)                   Output Shape         Param #     Connected to                     \n",
            "==================================================================================================\n",
            " char_inputs (InputLayer)       [(None, 1)]          0           []                               \n",
            "                                                                                                  \n",
            " token_inputs (InputLayer)      [(None,)]            0           []                               \n",
            "                                                                                                  \n",
            " char_vectorizer (TextVectoriza  (None, 290)         0           ['char_inputs[0][0]']            \n",
            " tion)                                                                                            \n",
            "                                                                                                  \n",
            " universal_sentence_encoder (Ke  (None, 512)         256797824   ['token_inputs[0][0]']           \n",
            " rasLayer)                                                                                        \n",
            "                                                                                                  \n",
            " char_embedding (Embedding)     (None, 290, 128)     3584        ['char_vectorizer[2][0]']        \n",
            "                                                                                                  \n",
            " dense_7 (Dense)                (None, 128)          65664       ['universal_sentence_encoder[2][0\n",
            "                                                                 ]']                              \n",
            "                                                                                                  \n",
            " bidirectional_1 (Bidirectional  (None, 64)          41216       ['char_embedding[2][0]']         \n",
            " )                                                                                                \n",
            "                                                                                                  \n",
            " token_char_hybrid_embedding (C  (None, 192)         0           ['dense_7[0][0]',                \n",
            " oncatenate)                                                      'bidirectional_1[0][0]']        \n",
            "                                                                                                  \n",
            " line_number_input (InputLayer)  [(None, 15)]        0           []                               \n",
            "                                                                                                  \n",
            " total_lines_input (InputLayer)  [(None, 20)]        0           []                               \n",
            "                                                                                                  \n",
            " dense_10 (Dense)               (None, 256)          49408       ['token_char_hybrid_embedding[0][\n",
            "                                                                 0]']                             \n",
            "                                                                                                  \n",
            " dense_8 (Dense)                (None, 32)           512         ['line_number_input[0][0]']      \n",
            "                                                                                                  \n",
            " dense_9 (Dense)                (None, 32)           672         ['total_lines_input[0][0]']      \n",
            "                                                                                                  \n",
            " dropout_2 (Dropout)            (None, 256)          0           ['dense_10[0][0]']               \n",
            "                                                                                                  \n",
            " token_char_positional_embeddin  (None, 320)         0           ['dense_8[0][0]',                \n",
            " g (Concatenate)                                                  'dense_9[0][0]',                \n",
            "                                                                  'dropout_2[0][0]']              \n",
            "                                                                                                  \n",
            " output_layer (Dense)           (None, 5)            1605        ['token_char_positional_embedding\n",
            "                                                                 [0][0]']                         \n",
            "                                                                                                  \n",
            "==================================================================================================\n",
            "Total params: 256,960,485\n",
            "Trainable params: 162,661\n",
            "Non-trainable params: 256,797,824\n",
            "__________________________________________________________________________________________________\n"
          ]
        }
      ]
    },
    {
      "cell_type": "code",
      "source": [
        "# Plot model_5 to explore it visually...\n",
        "from tensorflow.keras.utils import plot_model\n",
        "plot_model(model_5)"
      ],
      "metadata": {
        "colab": {
          "base_uri": "https://localhost:8080/",
          "height": 856
        },
        "id": "Al54t3oelB_o",
        "outputId": "55665090-2cfb-49fd-c5ea-350c0457c651"
      },
      "execution_count": 79,
      "outputs": [
        {
          "output_type": "execute_result",
          "data": {
            "image/png": "[encoded data removed]",
            "text/plain": [
              "<IPython.core.display.Image object>"
            ]
          },
          "metadata": {},
          "execution_count": 79
        }
      ]
    },
    {
      "cell_type": "markdown",
      "source": [
        "##### Create tribrid embedding datasets using tf.data"
      ],
      "metadata": {
        "id": "wPVeXDLXl6hK"
      }
    },
    {
      "cell_type": "code",
      "source": [
        "# Create training and validation datasets (all four kinds of inputs)\n",
        "train_pos_char_token_data = tf.data.Dataset.from_tensor_slices((train_line_numbers_one_hot,\n",
        "                                                                train_total_lines_one_hot,\n",
        "                                                                train_sentences, \n",
        "                                                                train_char))\n",
        "train_pos_char_token_labels = tf.data.Dataset.from_tensor_slices(train_labels_one_hot) \n",
        "train_pos_char_token_dataset = tf.data.Dataset.zip((train_pos_char_token_data, train_pos_char_token_labels)) \n",
        "train_pos_char_token_dataset = train_pos_char_token_dataset.batch(32).prefetch(tf.data.AUTOTUNE) \n",
        "\n",
        "# Validation dataset\n",
        "val_pos_char_token_data = tf.data.Dataset.from_tensor_slices((val_line_numbers_one_hot,\n",
        "                                                              val_total_lines_one_hot,\n",
        "                                                              val_sentences,\n",
        "                                                              val_char))\n",
        "val_pos_char_token_labels = tf.data.Dataset.from_tensor_slices(val_labels_one_hot)\n",
        "val_pos_char_token_dataset = tf.data.Dataset.zip((val_pos_char_token_data, val_pos_char_token_labels))\n",
        "val_pos_char_token_dataset = val_pos_char_token_dataset.batch(32).prefetch(tf.data.AUTOTUNE) \n",
        "\n",
        "# Check input shapes\n",
        "train_pos_char_token_dataset, val_pos_char_token_dataset"
      ],
      "metadata": {
        "colab": {
          "base_uri": "https://localhost:8080/"
        },
        "id": "dy6NDk_mlk-U",
        "outputId": "a6394ace-e795-4c4d-fe67-03fd6be76f00"
      },
      "execution_count": 80,
      "outputs": [
        {
          "output_type": "execute_result",
          "data": {
            "text/plain": [
              "(<PrefetchDataset element_spec=((TensorSpec(shape=(None, 15), dtype=tf.float32, name=None), TensorSpec(shape=(None, 20), dtype=tf.float32, name=None), TensorSpec(shape=(None,), dtype=tf.string, name=None), TensorSpec(shape=(None,), dtype=tf.string, name=None)), TensorSpec(shape=(None, 5), dtype=tf.float64, name=None))>,\n",
              " <PrefetchDataset element_spec=((TensorSpec(shape=(None, 15), dtype=tf.float32, name=None), TensorSpec(shape=(None, 20), dtype=tf.float32, name=None), TensorSpec(shape=(None,), dtype=tf.string, name=None), TensorSpec(shape=(None,), dtype=tf.string, name=None)), TensorSpec(shape=(None, 5), dtype=tf.float64, name=None))>)"
            ]
          },
          "metadata": {},
          "execution_count": 80
        }
      ]
    },
    {
      "cell_type": "markdown",
      "source": [
        "##### Compiling and fitting model_5"
      ],
      "metadata": {
        "id": "s6uuqgMhmwRl"
      }
    },
    {
      "cell_type": "code",
      "source": [
        "# Compiling model_5\n",
        "model_5.compile(loss=tf.keras.losses.CategoricalCrossentropy(label_smoothing=0.2),\n",
        "                optimizer=tf.keras.optimizers.Adam(),\n",
        "                metrics=[\"accuracy\"])\n",
        "\n",
        "# Fitting model_5\n",
        "history_5=model_5.fit(train_pos_char_token_dataset,\n",
        "                      steps_per_epoch=len(train_pos_char_token_dataset),\n",
        "                      epochs=5,\n",
        "                      validation_data=val_pos_char_token_dataset,\n",
        "                      validation_steps=int(0.1*len(val_pos_char_token_dataset)))"
      ],
      "metadata": {
        "colab": {
          "base_uri": "https://localhost:8080/"
        },
        "id": "bKoDw13WmI3N",
        "outputId": "a3cb68b9-9a5e-433b-f087-31ae9868f7e7"
      },
      "execution_count": 81,
      "outputs": [
        {
          "output_type": "stream",
          "name": "stdout",
          "text": [
            "Epoch 1/5\n",
            "5627/5627 [==============================] - 263s 45ms/step - loss: 0.9511 - accuracy: 0.8257 - val_loss: 0.9134 - val_accuracy: 0.8391\n",
            "Epoch 2/5\n",
            "5627/5627 [==============================] - 245s 44ms/step - loss: 0.9068 - accuracy: 0.8561 - val_loss: 0.9022 - val_accuracy: 0.8494\n",
            "Epoch 3/5\n",
            "5627/5627 [==============================] - 246s 44ms/step - loss: 0.8940 - accuracy: 0.8653 - val_loss: 0.8998 - val_accuracy: 0.8494\n",
            "Epoch 4/5\n",
            "5627/5627 [==============================] - 248s 44ms/step - loss: 0.8851 - accuracy: 0.8719 - val_loss: 0.8968 - val_accuracy: 0.8491\n",
            "Epoch 5/5\n",
            "5627/5627 [==============================] - 250s 44ms/step - loss: 0.8783 - accuracy: 0.8769 - val_loss: 0.8976 - val_accuracy: 0.8524\n"
          ]
        }
      ]
    },
    {
      "cell_type": "markdown",
      "source": [
        "##### Evaluating and making predictions with model_5"
      ],
      "metadata": {
        "id": "QThevgZBmDNE"
      }
    },
    {
      "cell_type": "code",
      "source": [
        "# Evaluating model_5\n",
        "model_5.evaluate(val_pos_char_token_dataset)"
      ],
      "metadata": {
        "colab": {
          "base_uri": "https://localhost:8080/"
        },
        "id": "7ZyCj3gZnB9A",
        "outputId": "ba60f89d-059d-43fd-8e8b-5e766e0db37c"
      },
      "execution_count": 82,
      "outputs": [
        {
          "output_type": "stream",
          "name": "stdout",
          "text": [
            "945/945 [==============================] - 22s 24ms/step - loss: 0.8934 - accuracy: 0.8574\n"
          ]
        },
        {
          "output_type": "execute_result",
          "data": {
            "text/plain": [
              "[0.8933600783348083, 0.8574407696723938]"
            ]
          },
          "metadata": {},
          "execution_count": 82
        }
      ]
    },
    {
      "cell_type": "code",
      "source": [
        "# Making predictions with model_5\n",
        "model_5_pred_probs=model_5.predict(val_pos_char_token_dataset)\n",
        "model_5_preds=tf.argmax(model_5_pred_probs,axis=1)\n",
        "model_5_preds"
      ],
      "metadata": {
        "colab": {
          "base_uri": "https://localhost:8080/"
        },
        "id": "zfcYwD_7nLoP",
        "outputId": "d3e2d7c3-ab4c-43ff-8dfc-dba60b0011be"
      },
      "execution_count": 83,
      "outputs": [
        {
          "output_type": "execute_result",
          "data": {
            "text/plain": [
              "<tf.Tensor: shape=(30212,), dtype=int64, numpy=array([0, 0, 0, ..., 4, 4, 1])>"
            ]
          },
          "metadata": {},
          "execution_count": 83
        }
      ]
    },
    {
      "cell_type": "code",
      "source": [
        "# Calculating the performance of model_5\n",
        "model_5_results=calculate_results(y_true=val_labels_encoded,\n",
        "                                  y_pred=model_5_preds)\n",
        "model_5_results"
      ],
      "metadata": {
        "colab": {
          "base_uri": "https://localhost:8080/"
        },
        "id": "LICqBG0knRPm",
        "outputId": "58714df9-bdbc-43be-e4a4-819c63aa5a42"
      },
      "execution_count": 84,
      "outputs": [
        {
          "output_type": "execute_result",
          "data": {
            "text/plain": [
              "{'model_accuracy': 0.8574407520190652,\n",
              " 'model_precision': 0.8594345786860588,\n",
              " 'model_recall': 0.8574407520190652,\n",
              " 'model_f1': 0.8542602927148621}"
            ]
          },
          "metadata": {},
          "execution_count": 84
        }
      ]
    },
    {
      "cell_type": "markdown",
      "source": [
        "##### Saving model_5"
      ],
      "metadata": {
        "id": "iMZvzEcZwsIa"
      }
    },
    {
      "cell_type": "code",
      "source": [
        "# Saving model_5\n",
        "save_model(model=model_5,\n",
        "           save_dir=\"/content/drive/MyDrive/skimlit_models/Universal_sentence_encoder_Tribrid_embedding_model\")"
      ],
      "metadata": {
        "colab": {
          "base_uri": "https://localhost:8080/"
        },
        "id": "--IHrAt9wr3_",
        "outputId": "f672c9b2-77cc-4d05-94e4-80bd6acfdf57"
      },
      "execution_count": 85,
      "outputs": [
        {
          "output_type": "stream",
          "name": "stderr",
          "text": [
            "WARNING:absl:Found untraced functions such as lstm_cell_4_layer_call_fn, lstm_cell_4_layer_call_and_return_conditional_losses, lstm_cell_5_layer_call_fn, lstm_cell_5_layer_call_and_return_conditional_losses while saving (showing 4 of 4). These functions will not be directly callable after loading.\n",
            "WARNING:absl:<keras.layers.recurrent.LSTMCell object at 0x7f5cfea12050> has the same name 'LSTMCell' as a built-in Keras object. Consider renaming <class 'keras.layers.recurrent.LSTMCell'> to avoid naming conflicts when loading with `tf.keras.models.load_model`. If renaming is not possible, pass the object in the `custom_objects` parameter of the load function.\n",
            "WARNING:absl:<keras.layers.recurrent.LSTMCell object at 0x7f5cfe98f1d0> has the same name 'LSTMCell' as a built-in Keras object. Consider renaming <class 'keras.layers.recurrent.LSTMCell'> to avoid naming conflicts when loading with `tf.keras.models.load_model`. If renaming is not possible, pass the object in the `custom_objects` parameter of the load function.\n"
          ]
        }
      ]
    },
    {
      "cell_type": "markdown",
      "source": [
        "### Comparing model Results"
      ],
      "metadata": {
        "id": "Ix_yp82jnaRP"
      }
    },
    {
      "cell_type": "code",
      "source": [
        "# Combining model result into a DataFrame\n",
        "all_model_results=pd.DataFrame({\"Naive_bayes_Classifier\":model_0_results,\n",
        "                                \"Conv1D_token_embedding\": model_1_results,\n",
        "                                \"Universal_sentence_encoder_token_embedding\": model_2_results,\n",
        "                                \"Conv1D_character_embedding\":model_3_results,\n",
        "                                \"Universal_sentence_encoder_hybrid_embedding\": model_4_results,\n",
        "                                \"Universal_sentence_encoder_tribrid_embedding\": model_5_results})\n",
        "\n",
        "all_model_results=all_model_results.transpose()\n",
        "all_model_results"
      ],
      "metadata": {
        "colab": {
          "base_uri": "https://localhost:8080/",
          "height": 237
        },
        "id": "70LiCxPPnmdm",
        "outputId": "c1ff3b8c-34e1-4c37-c10c-b6b7176d1889"
      },
      "execution_count": 86,
      "outputs": [
        {
          "output_type": "execute_result",
          "data": {
            "text/plain": [
              "                                              model_accuracy  model_precision  \\\n",
              "Naive_bayes_Classifier                              0.721832         0.718647   \n",
              "Conv1D_token_embedding                              0.792599         0.789206   \n",
              "Universal_sentence_encoder_token_embedding          0.773567         0.771744   \n",
              "Conv1D_character_embedding                          0.739342         0.737560   \n",
              "Universal_sentence_encoder_hybrid_embedding         0.799053         0.797897   \n",
              "Universal_sentence_encoder_tribrid_embedding        0.857441         0.859435   \n",
              "\n",
              "                                              model_recall  model_f1  \n",
              "Naive_bayes_Classifier                            0.721832  0.698925  \n",
              "Conv1D_token_embedding                            0.792599  0.789847  \n",
              "Universal_sentence_encoder_token_embedding        0.773567  0.769572  \n",
              "Conv1D_character_embedding                        0.739342  0.730203  \n",
              "Universal_sentence_encoder_hybrid_embedding       0.799053  0.794954  \n",
              "Universal_sentence_encoder_tribrid_embedding      0.857441  0.854260  "
            ],
            "text/html": [
              "\n",
              "  <div id=\"df-d2bd5bec-6b92-4119-bbb6-678067badbe1\">\n",
              "    <div class=\"colab-df-container\">\n",
              "      <div>\n",
              "<style scoped>\n",
              "    .dataframe tbody tr th:only-of-type {\n",
              "        vertical-align: middle;\n",
              "    }\n",
              "\n",
              "    .dataframe tbody tr th {\n",
              "        vertical-align: top;\n",
              "    }\n",
              "\n",
              "    .dataframe thead th {\n",
              "        text-align: right;\n",
              "    }\n",
              "</style>\n",
              "<table border=\"1\" class=\"dataframe\">\n",
              "  <thead>\n",
              "    <tr style=\"text-align: right;\">\n",
              "      <th></th>\n",
              "      <th>model_accuracy</th>\n",
              "      <th>model_precision</th>\n",
              "      <th>model_recall</th>\n",
              "      <th>model_f1</th>\n",
              "    </tr>\n",
              "  </thead>\n",
              "  <tbody>\n",
              "    <tr>\n",
              "      <th>Naive_bayes_Classifier</th>\n",
              "      <td>0.721832</td>\n",
              "      <td>0.718647</td>\n",
              "      <td>0.721832</td>\n",
              "      <td>0.698925</td>\n",
              "    </tr>\n",
              "    <tr>\n",
              "      <th>Conv1D_token_embedding</th>\n",
              "      <td>0.792599</td>\n",
              "      <td>0.789206</td>\n",
              "      <td>0.792599</td>\n",
              "      <td>0.789847</td>\n",
              "    </tr>\n",
              "    <tr>\n",
              "      <th>Universal_sentence_encoder_token_embedding</th>\n",
              "      <td>0.773567</td>\n",
              "      <td>0.771744</td>\n",
              "      <td>0.773567</td>\n",
              "      <td>0.769572</td>\n",
              "    </tr>\n",
              "    <tr>\n",
              "      <th>Conv1D_character_embedding</th>\n",
              "      <td>0.739342</td>\n",
              "      <td>0.737560</td>\n",
              "      <td>0.739342</td>\n",
              "      <td>0.730203</td>\n",
              "    </tr>\n",
              "    <tr>\n",
              "      <th>Universal_sentence_encoder_hybrid_embedding</th>\n",
              "      <td>0.799053</td>\n",
              "      <td>0.797897</td>\n",
              "      <td>0.799053</td>\n",
              "      <td>0.794954</td>\n",
              "    </tr>\n",
              "    <tr>\n",
              "      <th>Universal_sentence_encoder_tribrid_embedding</th>\n",
              "      <td>0.857441</td>\n",
              "      <td>0.859435</td>\n",
              "      <td>0.857441</td>\n",
              "      <td>0.854260</td>\n",
              "    </tr>\n",
              "  </tbody>\n",
              "</table>\n",
              "</div>\n",
              "      <button class=\"colab-df-convert\" onclick=\"convertToInteractive('df-d2bd5bec-6b92-4119-bbb6-678067badbe1')\"\n",
              "              title=\"Convert this dataframe to an interactive table.\"\n",
              "              style=\"display:none;\">\n",
              "        \n",
              "  <svg xmlns=\"http://www.w3.org/2000/svg\" height=\"24px\"viewBox=\"0 0 24 24\"\n",
              "       width=\"24px\">\n",
              "    <path d=\"M0 0h24v24H0V0z\" fill=\"none\"/>\n",
              "    <path d=\"M18.56 5.44l.94 2.06.94-2.06 2.06-.94-2.06-.94-.94-2.06-.94 2.06-2.06.94zm-11 1L8.5 8.5l.94-2.06 2.06-.94-2.06-.94L8.5 2.5l-.94 2.06-2.06.94zm10 10l.94 2.06.94-2.06 2.06-.94-2.06-.94-.94-2.06-.94 2.06-2.06.94z\"/><path d=\"M17.41 7.96l-1.37-1.37c-.4-.4-.92-.59-1.43-.59-.52 0-1.04.2-1.43.59L10.3 9.45l-7.72 7.72c-.78.78-.78 2.05 0 2.83L4 21.41c.39.39.9.59 1.41.59.51 0 1.02-.2 1.41-.59l7.78-7.78 2.81-2.81c.8-.78.8-2.07 0-2.86zM5.41 20L4 18.59l7.72-7.72 1.47 1.35L5.41 20z\"/>\n",
              "  </svg>\n",
              "      </button>\n",
              "      \n",
              "  <style>\n",
              "    .colab-df-container {\n",
              "      display:flex;\n",
              "      flex-wrap:wrap;\n",
              "      gap: 12px;\n",
              "    }\n",
              "\n",
              "    .colab-df-convert {\n",
              "      background-color: #E8F0FE;\n",
              "      border: none;\n",
              "      border-radius: 50%;\n",
              "      cursor: pointer;\n",
              "      display: none;\n",
              "      fill: #1967D2;\n",
              "      height: 32px;\n",
              "      padding: 0 0 0 0;\n",
              "      width: 32px;\n",
              "    }\n",
              "\n",
              "    .colab-df-convert:hover {\n",
              "      background-color: #E2EBFA;\n",
              "      box-shadow: 0px 1px 2px rgba(60, 64, 67, 0.3), 0px 1px 3px 1px rgba(60, 64, 67, 0.15);\n",
              "      fill: #174EA6;\n",
              "    }\n",
              "\n",
              "    [theme=dark] .colab-df-convert {\n",
              "      background-color: #3B4455;\n",
              "      fill: #D2E3FC;\n",
              "    }\n",
              "\n",
              "    [theme=dark] .colab-df-convert:hover {\n",
              "      background-color: #434B5C;\n",
              "      box-shadow: 0px 1px 3px 1px rgba(0, 0, 0, 0.15);\n",
              "      filter: drop-shadow(0px 1px 2px rgba(0, 0, 0, 0.3));\n",
              "      fill: #FFFFFF;\n",
              "    }\n",
              "  </style>\n",
              "\n",
              "      <script>\n",
              "        const buttonEl =\n",
              "          document.querySelector('#df-d2bd5bec-6b92-4119-bbb6-678067badbe1 button.colab-df-convert');\n",
              "        buttonEl.style.display =\n",
              "          google.colab.kernel.accessAllowed ? 'block' : 'none';\n",
              "\n",
              "        async function convertToInteractive(key) {\n",
              "          const element = document.querySelector('#df-d2bd5bec-6b92-4119-bbb6-678067badbe1');\n",
              "          const dataTable =\n",
              "            await google.colab.kernel.invokeFunction('convertToInteractive',\n",
              "                                                     [key], {});\n",
              "          if (!dataTable) return;\n",
              "\n",
              "          const docLinkHtml = 'Like what you see? Visit the ' +\n",
              "            '<a target=\"_blank\" href=https://colab.research.google.com/notebooks/data_table.ipynb>data table notebook</a>'\n",
              "            + ' to learn more about interactive tables.';\n",
              "          element.innerHTML = '';\n",
              "          dataTable['output_type'] = 'display_data';\n",
              "          await google.colab.output.renderOutput(dataTable, element);\n",
              "          const docLink = document.createElement('div');\n",
              "          docLink.innerHTML = docLinkHtml;\n",
              "          element.appendChild(docLink);\n",
              "        }\n",
              "      </script>\n",
              "    </div>\n",
              "  </div>\n",
              "  "
            ]
          },
          "metadata": {},
          "execution_count": 86
        }
      ]
    },
    {
      "cell_type": "code",
      "source": [
        "# Plot and compare all model results\n",
        "all_model_results.plot(kind=\"bar\",figsize=(10,7)).legend(bbox_to_anchor=(1.0,1.0))"
      ],
      "metadata": {
        "colab": {
          "base_uri": "https://localhost:8080/",
          "height": 678
        },
        "id": "WWce1NcSoEur",
        "outputId": "14ac1078-40b4-47b8-e439-e214acd91408"
      },
      "execution_count": 87,
      "outputs": [
        {
          "output_type": "execute_result",
          "data": {
            "text/plain": [
              "<matplotlib.legend.Legend at 0x7f5d0a45b290>"
            ]
          },
          "metadata": {},
          "execution_count": 87
        },
        {
          "output_type": "display_data",
          "data": {
            "text/plain": [
              "<Figure size 720x504 with 1 Axes>"
            ],
            "image/png": "[encoded data removed]"
          },
          "metadata": {
            "needs_background": "light"
          }
        }
      ]
    },
    {
      "cell_type": "markdown",
      "source": [
        "### Making predictions with the best performing model (Universal_Sentence_encoder_tribrid_model) on the test samples.\n"
      ],
      "metadata": {
        "id": "c3nBPbGbo1ns"
      }
    },
    {
      "cell_type": "markdown",
      "source": [
        "#### Loading best performing model"
      ],
      "metadata": {
        "id": "Pa5aHqi_yTSC"
      }
    },
    {
      "cell_type": "code",
      "source": [
        "# Loading best performing model from google drive\n",
        "loaded_tribrid_model=tf.keras.models.load_model(\"/content/drive/MyDrive/skimlit_models/Universal_sentence_encoder_Tribrid_embedding_model\")"
      ],
      "metadata": {
        "id": "fmTv41Joyd7a"
      },
      "execution_count": 88,
      "outputs": []
    },
    {
      "cell_type": "markdown",
      "source": [
        "#### Creating tribid embedding dataset for the test dataset"
      ],
      "metadata": {
        "id": "kOy3YtcApHmk"
      }
    },
    {
      "cell_type": "code",
      "source": [
        "# Creating test dataset\n",
        "test_pos_char_token_data=tf.data.Dataset.from_tensor_slices((test_line_numbers_one_hot,\n",
        "                                                             test_total_lines_one_hot,\n",
        "                                                             test_sentences,\n",
        "                                                             test_char))\n",
        "test_pos_char_token_labels=tf.data.Dataset.from_tensor_slices(test_labels_one_hot)\n",
        "test_pos_char_token_dataset=tf.data.Dataset.zip((test_pos_char_token_data,test_pos_char_token_labels))\n",
        "test_pos_char_token_dataset=test_pos_char_token_dataset.batch(32).prefetch(tf.data.AUTOTUNE)"
      ],
      "metadata": {
        "id": "hSPh1AXIpEQ0"
      },
      "execution_count": 89,
      "outputs": []
    },
    {
      "cell_type": "markdown",
      "source": [
        "#### Making predictions with loaded model and calculating mdel performance"
      ],
      "metadata": {
        "id": "QZlfk7b7zW6h"
      }
    },
    {
      "cell_type": "code",
      "source": [
        "# Making predictions with model_5 on the test samples\n",
        "test_pred_probs=loaded_tribrid_model.predict(test_pos_char_token_dataset)\n",
        "test_preds=tf.argmax(test_pred_probs,axis=1)\n",
        "test_preds"
      ],
      "metadata": {
        "colab": {
          "base_uri": "https://localhost:8080/"
        },
        "id": "h38vhEZrpaZ1",
        "outputId": "c7bce072-e577-489b-9280-e250181f55d4"
      },
      "execution_count": 90,
      "outputs": [
        {
          "output_type": "execute_result",
          "data": {
            "text/plain": [
              "<tf.Tensor: shape=(30135,), dtype=int64, numpy=array([0, 2, 2, ..., 4, 4, 1])>"
            ]
          },
          "metadata": {},
          "execution_count": 90
        }
      ]
    },
    {
      "cell_type": "code",
      "source": [
        "# Calculating model's performance on test dataset\n",
        "test_results=calculate_results(y_true=test_labels_encoded,\n",
        "                               y_pred=test_preds)\n",
        "test_results"
      ],
      "metadata": {
        "colab": {
          "base_uri": "https://localhost:8080/"
        },
        "id": "fL8lb3hDquGO",
        "outputId": "3702faec-687a-4ede-8165-4dc1578423ef"
      },
      "execution_count": 91,
      "outputs": [
        {
          "output_type": "execute_result",
          "data": {
            "text/plain": [
              "{'model_accuracy': 0.8534594325535092,\n",
              " 'model_precision': 0.8540823127674834,\n",
              " 'model_recall': 0.8534594325535092,\n",
              " 'model_f1': 0.8501296862807989}"
            ]
          },
          "metadata": {},
          "execution_count": 91
        }
      ]
    },
    {
      "cell_type": "markdown",
      "source": [
        "### Finding the most wrong predictions from the samples where the model has predicted the wrong label with the highest prediction probability)."
      ],
      "metadata": {
        "id": "-dmRYDodtEVb"
      }
    },
    {
      "cell_type": "code",
      "source": [
        "# Creating DataFrame with validation sentences, validation labels and best performing model predictions labels\n",
        "test_df=pd.DataFrame({\"Text\": test_sentences,\n",
        "                      \"Target\": test_labels_encoded,\n",
        "                      \"Predictions\": test_preds})\n",
        "\n",
        "test_df[\"Pred_probs\"]=tf.reduce_max(test_pred_probs,axis=1)\n",
        "test_df[\"Correct\"]=test_df[\"Target\"]==test_df[\"Predictions\"]\n",
        "\n",
        "test_df.head()"
      ],
      "metadata": {
        "colab": {
          "base_uri": "https://localhost:8080/",
          "height": 206
        },
        "id": "zX8-8aSkwbxA",
        "outputId": "031ecb1e-a5d2-4c5a-c59e-488d4261cebb"
      },
      "execution_count": 92,
      "outputs": [
        {
          "output_type": "execute_result",
          "data": {
            "text/plain": [
              "                                                Text  Target  Predictions  \\\n",
              "0  this study analyzed liver function abnormaliti...       0            0   \n",
              "1  a post hoc analysis was conducted with the use...       4            2   \n",
              "2  liver function tests ( lfts ) were measured at...       4            2   \n",
              "3  survival analyses were used to assess the asso...       4            2   \n",
              "4  the percentage of patients with abnormal lfts ...       4            4   \n",
              "\n",
              "   Pred_probs  Correct  \n",
              "0    0.367674     True  \n",
              "1    0.552188    False  \n",
              "2    0.804795    False  \n",
              "3    0.772356    False  \n",
              "4    0.764131     True  "
            ],
            "text/html": [
              "\n",
              "  <div id=\"df-374a924a-45b7-4c39-8e27-43386f12de2f\">\n",
              "    <div class=\"colab-df-container\">\n",
              "      <div>\n",
              "<style scoped>\n",
              "    .dataframe tbody tr th:only-of-type {\n",
              "        vertical-align: middle;\n",
              "    }\n",
              "\n",
              "    .dataframe tbody tr th {\n",
              "        vertical-align: top;\n",
              "    }\n",
              "\n",
              "    .dataframe thead th {\n",
              "        text-align: right;\n",
              "    }\n",
              "</style>\n",
              "<table border=\"1\" class=\"dataframe\">\n",
              "  <thead>\n",
              "    <tr style=\"text-align: right;\">\n",
              "      <th></th>\n",
              "      <th>Text</th>\n",
              "      <th>Target</th>\n",
              "      <th>Predictions</th>\n",
              "      <th>Pred_probs</th>\n",
              "      <th>Correct</th>\n",
              "    </tr>\n",
              "  </thead>\n",
              "  <tbody>\n",
              "    <tr>\n",
              "      <th>0</th>\n",
              "      <td>this study analyzed liver function abnormaliti...</td>\n",
              "      <td>0</td>\n",
              "      <td>0</td>\n",
              "      <td>0.367674</td>\n",
              "      <td>True</td>\n",
              "    </tr>\n",
              "    <tr>\n",
              "      <th>1</th>\n",
              "      <td>a post hoc analysis was conducted with the use...</td>\n",
              "      <td>4</td>\n",
              "      <td>2</td>\n",
              "      <td>0.552188</td>\n",
              "      <td>False</td>\n",
              "    </tr>\n",
              "    <tr>\n",
              "      <th>2</th>\n",
              "      <td>liver function tests ( lfts ) were measured at...</td>\n",
              "      <td>4</td>\n",
              "      <td>2</td>\n",
              "      <td>0.804795</td>\n",
              "      <td>False</td>\n",
              "    </tr>\n",
              "    <tr>\n",
              "      <th>3</th>\n",
              "      <td>survival analyses were used to assess the asso...</td>\n",
              "      <td>4</td>\n",
              "      <td>2</td>\n",
              "      <td>0.772356</td>\n",
              "      <td>False</td>\n",
              "    </tr>\n",
              "    <tr>\n",
              "      <th>4</th>\n",
              "      <td>the percentage of patients with abnormal lfts ...</td>\n",
              "      <td>4</td>\n",
              "      <td>4</td>\n",
              "      <td>0.764131</td>\n",
              "      <td>True</td>\n",
              "    </tr>\n",
              "  </tbody>\n",
              "</table>\n",
              "</div>\n",
              "      <button class=\"colab-df-convert\" onclick=\"convertToInteractive('df-374a924a-45b7-4c39-8e27-43386f12de2f')\"\n",
              "              title=\"Convert this dataframe to an interactive table.\"\n",
              "              style=\"display:none;\">\n",
              "        \n",
              "  <svg xmlns=\"http://www.w3.org/2000/svg\" height=\"24px\"viewBox=\"0 0 24 24\"\n",
              "       width=\"24px\">\n",
              "    <path d=\"M0 0h24v24H0V0z\" fill=\"none\"/>\n",
              "    <path d=\"M18.56 5.44l.94 2.06.94-2.06 2.06-.94-2.06-.94-.94-2.06-.94 2.06-2.06.94zm-11 1L8.5 8.5l.94-2.06 2.06-.94-2.06-.94L8.5 2.5l-.94 2.06-2.06.94zm10 10l.94 2.06.94-2.06 2.06-.94-2.06-.94-.94-2.06-.94 2.06-2.06.94z\"/><path d=\"M17.41 7.96l-1.37-1.37c-.4-.4-.92-.59-1.43-.59-.52 0-1.04.2-1.43.59L10.3 9.45l-7.72 7.72c-.78.78-.78 2.05 0 2.83L4 21.41c.39.39.9.59 1.41.59.51 0 1.02-.2 1.41-.59l7.78-7.78 2.81-2.81c.8-.78.8-2.07 0-2.86zM5.41 20L4 18.59l7.72-7.72 1.47 1.35L5.41 20z\"/>\n",
              "  </svg>\n",
              "      </button>\n",
              "      \n",
              "  <style>\n",
              "    .colab-df-container {\n",
              "      display:flex;\n",
              "      flex-wrap:wrap;\n",
              "      gap: 12px;\n",
              "    }\n",
              "\n",
              "    .colab-df-convert {\n",
              "      background-color: #E8F0FE;\n",
              "      border: none;\n",
              "      border-radius: 50%;\n",
              "      cursor: pointer;\n",
              "      display: none;\n",
              "      fill: #1967D2;\n",
              "      height: 32px;\n",
              "      padding: 0 0 0 0;\n",
              "      width: 32px;\n",
              "    }\n",
              "\n",
              "    .colab-df-convert:hover {\n",
              "      background-color: #E2EBFA;\n",
              "      box-shadow: 0px 1px 2px rgba(60, 64, 67, 0.3), 0px 1px 3px 1px rgba(60, 64, 67, 0.15);\n",
              "      fill: #174EA6;\n",
              "    }\n",
              "\n",
              "    [theme=dark] .colab-df-convert {\n",
              "      background-color: #3B4455;\n",
              "      fill: #D2E3FC;\n",
              "    }\n",
              "\n",
              "    [theme=dark] .colab-df-convert:hover {\n",
              "      background-color: #434B5C;\n",
              "      box-shadow: 0px 1px 3px 1px rgba(0, 0, 0, 0.15);\n",
              "      filter: drop-shadow(0px 1px 2px rgba(0, 0, 0, 0.3));\n",
              "      fill: #FFFFFF;\n",
              "    }\n",
              "  </style>\n",
              "\n",
              "      <script>\n",
              "        const buttonEl =\n",
              "          document.querySelector('#df-374a924a-45b7-4c39-8e27-43386f12de2f button.colab-df-convert');\n",
              "        buttonEl.style.display =\n",
              "          google.colab.kernel.accessAllowed ? 'block' : 'none';\n",
              "\n",
              "        async function convertToInteractive(key) {\n",
              "          const element = document.querySelector('#df-374a924a-45b7-4c39-8e27-43386f12de2f');\n",
              "          const dataTable =\n",
              "            await google.colab.kernel.invokeFunction('convertToInteractive',\n",
              "                                                     [key], {});\n",
              "          if (!dataTable) return;\n",
              "\n",
              "          const docLinkHtml = 'Like what you see? Visit the ' +\n",
              "            '<a target=\"_blank\" href=https://colab.research.google.com/notebooks/data_table.ipynb>data table notebook</a>'\n",
              "            + ' to learn more about interactive tables.';\n",
              "          element.innerHTML = '';\n",
              "          dataTable['output_type'] = 'display_data';\n",
              "          await google.colab.output.renderOutput(dataTable, element);\n",
              "          const docLink = document.createElement('div');\n",
              "          docLink.innerHTML = docLinkHtml;\n",
              "          element.appendChild(docLink);\n",
              "        }\n",
              "      </script>\n",
              "    </div>\n",
              "  </div>\n",
              "  "
            ]
          },
          "metadata": {},
          "execution_count": 92
        }
      ]
    },
    {
      "cell_type": "code",
      "source": [
        "# Getting the most wrong predictions of the model\n",
        "most_wrong_predictions=test_df[test_df[\"Target\"]!=test_df[\"Predictions\"]]\n",
        "most_wrong_predictions[:10]"
      ],
      "metadata": {
        "colab": {
          "base_uri": "https://localhost:8080/",
          "height": 363
        },
        "id": "R_EA35m5xN6X",
        "outputId": "0c38a422-1abe-4d27-b639-ff77a6a0109a"
      },
      "execution_count": 93,
      "outputs": [
        {
          "output_type": "execute_result",
          "data": {
            "text/plain": [
              "                                                 Text  Target  Predictions  \\\n",
              "1   a post hoc analysis was conducted with the use...       4            2   \n",
              "2   liver function tests ( lfts ) were measured at...       4            2   \n",
              "3   survival analyses were used to assess the asso...       4            2   \n",
              "20     nor was evar superior regarding cost-utility .       4            1   \n",
              "23  this study investigated whether oxytocin can a...       2            3   \n",
              "29  the biological mechanisms by which oxytocin ma...       4            1   \n",
              "32  previous controlled exposure studies at a conc...       0            2   \n",
              "44  depressive disorders are one of the leading co...       3            0   \n",
              "45  numerous studies have demonstrated that pharma...       3            0   \n",
              "46  psycho-education as an intervention has been s...       3            0   \n",
              "\n",
              "    Pred_probs  Correct  \n",
              "1     0.552188    False  \n",
              "2     0.804795    False  \n",
              "3     0.772356    False  \n",
              "20    0.710875    False  \n",
              "23    0.447683    False  \n",
              "29    0.824240    False  \n",
              "32    0.590344    False  \n",
              "44    0.779785    False  \n",
              "45    0.694182    False  \n",
              "46    0.613151    False  "
            ],
            "text/html": [
              "\n",
              "  <div id=\"df-7587ac09-7f1d-4d44-a151-e0e5f4955782\">\n",
              "    <div class=\"colab-df-container\">\n",
              "      <div>\n",
              "<style scoped>\n",
              "    .dataframe tbody tr th:only-of-type {\n",
              "        vertical-align: middle;\n",
              "    }\n",
              "\n",
              "    .dataframe tbody tr th {\n",
              "        vertical-align: top;\n",
              "    }\n",
              "\n",
              "    .dataframe thead th {\n",
              "        text-align: right;\n",
              "    }\n",
              "</style>\n",
              "<table border=\"1\" class=\"dataframe\">\n",
              "  <thead>\n",
              "    <tr style=\"text-align: right;\">\n",
              "      <th></th>\n",
              "      <th>Text</th>\n",
              "      <th>Target</th>\n",
              "      <th>Predictions</th>\n",
              "      <th>Pred_probs</th>\n",
              "      <th>Correct</th>\n",
              "    </tr>\n",
              "  </thead>\n",
              "  <tbody>\n",
              "    <tr>\n",
              "      <th>1</th>\n",
              "      <td>a post hoc analysis was conducted with the use...</td>\n",
              "      <td>4</td>\n",
              "      <td>2</td>\n",
              "      <td>0.552188</td>\n",
              "      <td>False</td>\n",
              "    </tr>\n",
              "    <tr>\n",
              "      <th>2</th>\n",
              "      <td>liver function tests ( lfts ) were measured at...</td>\n",
              "      <td>4</td>\n",
              "      <td>2</td>\n",
              "      <td>0.804795</td>\n",
              "      <td>False</td>\n",
              "    </tr>\n",
              "    <tr>\n",
              "      <th>3</th>\n",
              "      <td>survival analyses were used to assess the asso...</td>\n",
              "      <td>4</td>\n",
              "      <td>2</td>\n",
              "      <td>0.772356</td>\n",
              "      <td>False</td>\n",
              "    </tr>\n",
              "    <tr>\n",
              "      <th>20</th>\n",
              "      <td>nor was evar superior regarding cost-utility .</td>\n",
              "      <td>4</td>\n",
              "      <td>1</td>\n",
              "      <td>0.710875</td>\n",
              "      <td>False</td>\n",
              "    </tr>\n",
              "    <tr>\n",
              "      <th>23</th>\n",
              "      <td>this study investigated whether oxytocin can a...</td>\n",
              "      <td>2</td>\n",
              "      <td>3</td>\n",
              "      <td>0.447683</td>\n",
              "      <td>False</td>\n",
              "    </tr>\n",
              "    <tr>\n",
              "      <th>29</th>\n",
              "      <td>the biological mechanisms by which oxytocin ma...</td>\n",
              "      <td>4</td>\n",
              "      <td>1</td>\n",
              "      <td>0.824240</td>\n",
              "      <td>False</td>\n",
              "    </tr>\n",
              "    <tr>\n",
              "      <th>32</th>\n",
              "      <td>previous controlled exposure studies at a conc...</td>\n",
              "      <td>0</td>\n",
              "      <td>2</td>\n",
              "      <td>0.590344</td>\n",
              "      <td>False</td>\n",
              "    </tr>\n",
              "    <tr>\n",
              "      <th>44</th>\n",
              "      <td>depressive disorders are one of the leading co...</td>\n",
              "      <td>3</td>\n",
              "      <td>0</td>\n",
              "      <td>0.779785</td>\n",
              "      <td>False</td>\n",
              "    </tr>\n",
              "    <tr>\n",
              "      <th>45</th>\n",
              "      <td>numerous studies have demonstrated that pharma...</td>\n",
              "      <td>3</td>\n",
              "      <td>0</td>\n",
              "      <td>0.694182</td>\n",
              "      <td>False</td>\n",
              "    </tr>\n",
              "    <tr>\n",
              "      <th>46</th>\n",
              "      <td>psycho-education as an intervention has been s...</td>\n",
              "      <td>3</td>\n",
              "      <td>0</td>\n",
              "      <td>0.613151</td>\n",
              "      <td>False</td>\n",
              "    </tr>\n",
              "  </tbody>\n",
              "</table>\n",
              "</div>\n",
              "      <button class=\"colab-df-convert\" onclick=\"convertToInteractive('df-7587ac09-7f1d-4d44-a151-e0e5f4955782')\"\n",
              "              title=\"Convert this dataframe to an interactive table.\"\n",
              "              style=\"display:none;\">\n",
              "        \n",
              "  <svg xmlns=\"http://www.w3.org/2000/svg\" height=\"24px\"viewBox=\"0 0 24 24\"\n",
              "       width=\"24px\">\n",
              "    <path d=\"M0 0h24v24H0V0z\" fill=\"none\"/>\n",
              "    <path d=\"M18.56 5.44l.94 2.06.94-2.06 2.06-.94-2.06-.94-.94-2.06-.94 2.06-2.06.94zm-11 1L8.5 8.5l.94-2.06 2.06-.94-2.06-.94L8.5 2.5l-.94 2.06-2.06.94zm10 10l.94 2.06.94-2.06 2.06-.94-2.06-.94-.94-2.06-.94 2.06-2.06.94z\"/><path d=\"M17.41 7.96l-1.37-1.37c-.4-.4-.92-.59-1.43-.59-.52 0-1.04.2-1.43.59L10.3 9.45l-7.72 7.72c-.78.78-.78 2.05 0 2.83L4 21.41c.39.39.9.59 1.41.59.51 0 1.02-.2 1.41-.59l7.78-7.78 2.81-2.81c.8-.78.8-2.07 0-2.86zM5.41 20L4 18.59l7.72-7.72 1.47 1.35L5.41 20z\"/>\n",
              "  </svg>\n",
              "      </button>\n",
              "      \n",
              "  <style>\n",
              "    .colab-df-container {\n",
              "      display:flex;\n",
              "      flex-wrap:wrap;\n",
              "      gap: 12px;\n",
              "    }\n",
              "\n",
              "    .colab-df-convert {\n",
              "      background-color: #E8F0FE;\n",
              "      border: none;\n",
              "      border-radius: 50%;\n",
              "      cursor: pointer;\n",
              "      display: none;\n",
              "      fill: #1967D2;\n",
              "      height: 32px;\n",
              "      padding: 0 0 0 0;\n",
              "      width: 32px;\n",
              "    }\n",
              "\n",
              "    .colab-df-convert:hover {\n",
              "      background-color: #E2EBFA;\n",
              "      box-shadow: 0px 1px 2px rgba(60, 64, 67, 0.3), 0px 1px 3px 1px rgba(60, 64, 67, 0.15);\n",
              "      fill: #174EA6;\n",
              "    }\n",
              "\n",
              "    [theme=dark] .colab-df-convert {\n",
              "      background-color: #3B4455;\n",
              "      fill: #D2E3FC;\n",
              "    }\n",
              "\n",
              "    [theme=dark] .colab-df-convert:hover {\n",
              "      background-color: #434B5C;\n",
              "      box-shadow: 0px 1px 3px 1px rgba(0, 0, 0, 0.15);\n",
              "      filter: drop-shadow(0px 1px 2px rgba(0, 0, 0, 0.3));\n",
              "      fill: #FFFFFF;\n",
              "    }\n",
              "  </style>\n",
              "\n",
              "      <script>\n",
              "        const buttonEl =\n",
              "          document.querySelector('#df-7587ac09-7f1d-4d44-a151-e0e5f4955782 button.colab-df-convert');\n",
              "        buttonEl.style.display =\n",
              "          google.colab.kernel.accessAllowed ? 'block' : 'none';\n",
              "\n",
              "        async function convertToInteractive(key) {\n",
              "          const element = document.querySelector('#df-7587ac09-7f1d-4d44-a151-e0e5f4955782');\n",
              "          const dataTable =\n",
              "            await google.colab.kernel.invokeFunction('convertToInteractive',\n",
              "                                                     [key], {});\n",
              "          if (!dataTable) return;\n",
              "\n",
              "          const docLinkHtml = 'Like what you see? Visit the ' +\n",
              "            '<a target=\"_blank\" href=https://colab.research.google.com/notebooks/data_table.ipynb>data table notebook</a>'\n",
              "            + ' to learn more about interactive tables.';\n",
              "          element.innerHTML = '';\n",
              "          dataTable['output_type'] = 'display_data';\n",
              "          await google.colab.output.renderOutput(dataTable, element);\n",
              "          const docLink = document.createElement('div');\n",
              "          docLink.innerHTML = docLinkHtml;\n",
              "          element.appendChild(docLink);\n",
              "        }\n",
              "      </script>\n",
              "    </div>\n",
              "  </div>\n",
              "  "
            ]
          },
          "metadata": {},
          "execution_count": 93
        }
      ]
    },
    {
      "cell_type": "code",
      "source": [
        "# Sorting wrong predictions into desending order\n",
        "wrong_predictions=test_df[test_df[\"Correct\"]==False].sort_values(\"Pred_probs\",ascending=False)\n",
        "wrong_predictions"
      ],
      "metadata": {
        "colab": {
          "base_uri": "https://localhost:8080/",
          "height": 423
        },
        "id": "8g8pCA5hxfKG",
        "outputId": "cc69bb06-16fa-4ce6-b52c-1d0ff9f05520"
      },
      "execution_count": 94,
      "outputs": [
        {
          "output_type": "execute_result",
          "data": {
            "text/plain": [
              "                                                    Text  Target  Predictions  \\\n",
              "6365   adverse events up to the third postoperative d...       1            4   \n",
              "19223  of the @ dogs receiving placebo , @ ( @ % ) vo...       2            4   \n",
              "1827                       nct@ ( clinicaltrials.gov ) .       1            0   \n",
              "22736  the national institute of oncology , budapest ...       3            2   \n",
              "16347  to evaluate the effects of the lactic acid bac...       0            3   \n",
              "...                                                  ...     ...          ...   \n",
              "10088  qualitative interviews suggested that more reg...       4            1   \n",
              "4884   this @ - to @-year follow-up ( median , @ year...       0            3   \n",
              "27234  the purpose of this study was to determine the...       0            3   \n",
              "15792  this randomized , three-period - crossover stu...       2            3   \n",
              "7949   we assessed the association between baseline c...       4            3   \n",
              "\n",
              "       Pred_probs  Correct  \n",
              "6365     0.949082    False  \n",
              "19223    0.940350    False  \n",
              "1827     0.932452    False  \n",
              "22736    0.930678    False  \n",
              "16347    0.930558    False  \n",
              "...           ...      ...  \n",
              "10088    0.262413    False  \n",
              "4884     0.257431    False  \n",
              "27234    0.255171    False  \n",
              "15792    0.249157    False  \n",
              "7949     0.243673    False  \n",
              "\n",
              "[4416 rows x 5 columns]"
            ],
            "text/html": [
              "\n",
              "  <div id=\"df-64bd4d80-95d3-44cc-863c-df23c6da13e3\">\n",
              "    <div class=\"colab-df-container\">\n",
              "      <div>\n",
              "<style scoped>\n",
              "    .dataframe tbody tr th:only-of-type {\n",
              "        vertical-align: middle;\n",
              "    }\n",
              "\n",
              "    .dataframe tbody tr th {\n",
              "        vertical-align: top;\n",
              "    }\n",
              "\n",
              "    .dataframe thead th {\n",
              "        text-align: right;\n",
              "    }\n",
              "</style>\n",
              "<table border=\"1\" class=\"dataframe\">\n",
              "  <thead>\n",
              "    <tr style=\"text-align: right;\">\n",
              "      <th></th>\n",
              "      <th>Text</th>\n",
              "      <th>Target</th>\n",
              "      <th>Predictions</th>\n",
              "      <th>Pred_probs</th>\n",
              "      <th>Correct</th>\n",
              "    </tr>\n",
              "  </thead>\n",
              "  <tbody>\n",
              "    <tr>\n",
              "      <th>6365</th>\n",
              "      <td>adverse events up to the third postoperative d...</td>\n",
              "      <td>1</td>\n",
              "      <td>4</td>\n",
              "      <td>0.949082</td>\n",
              "      <td>False</td>\n",
              "    </tr>\n",
              "    <tr>\n",
              "      <th>19223</th>\n",
              "      <td>of the @ dogs receiving placebo , @ ( @ % ) vo...</td>\n",
              "      <td>2</td>\n",
              "      <td>4</td>\n",
              "      <td>0.940350</td>\n",
              "      <td>False</td>\n",
              "    </tr>\n",
              "    <tr>\n",
              "      <th>1827</th>\n",
              "      <td>nct@ ( clinicaltrials.gov ) .</td>\n",
              "      <td>1</td>\n",
              "      <td>0</td>\n",
              "      <td>0.932452</td>\n",
              "      <td>False</td>\n",
              "    </tr>\n",
              "    <tr>\n",
              "      <th>22736</th>\n",
              "      <td>the national institute of oncology , budapest ...</td>\n",
              "      <td>3</td>\n",
              "      <td>2</td>\n",
              "      <td>0.930678</td>\n",
              "      <td>False</td>\n",
              "    </tr>\n",
              "    <tr>\n",
              "      <th>16347</th>\n",
              "      <td>to evaluate the effects of the lactic acid bac...</td>\n",
              "      <td>0</td>\n",
              "      <td>3</td>\n",
              "      <td>0.930558</td>\n",
              "      <td>False</td>\n",
              "    </tr>\n",
              "    <tr>\n",
              "      <th>...</th>\n",
              "      <td>...</td>\n",
              "      <td>...</td>\n",
              "      <td>...</td>\n",
              "      <td>...</td>\n",
              "      <td>...</td>\n",
              "    </tr>\n",
              "    <tr>\n",
              "      <th>10088</th>\n",
              "      <td>qualitative interviews suggested that more reg...</td>\n",
              "      <td>4</td>\n",
              "      <td>1</td>\n",
              "      <td>0.262413</td>\n",
              "      <td>False</td>\n",
              "    </tr>\n",
              "    <tr>\n",
              "      <th>4884</th>\n",
              "      <td>this @ - to @-year follow-up ( median , @ year...</td>\n",
              "      <td>0</td>\n",
              "      <td>3</td>\n",
              "      <td>0.257431</td>\n",
              "      <td>False</td>\n",
              "    </tr>\n",
              "    <tr>\n",
              "      <th>27234</th>\n",
              "      <td>the purpose of this study was to determine the...</td>\n",
              "      <td>0</td>\n",
              "      <td>3</td>\n",
              "      <td>0.255171</td>\n",
              "      <td>False</td>\n",
              "    </tr>\n",
              "    <tr>\n",
              "      <th>15792</th>\n",
              "      <td>this randomized , three-period - crossover stu...</td>\n",
              "      <td>2</td>\n",
              "      <td>3</td>\n",
              "      <td>0.249157</td>\n",
              "      <td>False</td>\n",
              "    </tr>\n",
              "    <tr>\n",
              "      <th>7949</th>\n",
              "      <td>we assessed the association between baseline c...</td>\n",
              "      <td>4</td>\n",
              "      <td>3</td>\n",
              "      <td>0.243673</td>\n",
              "      <td>False</td>\n",
              "    </tr>\n",
              "  </tbody>\n",
              "</table>\n",
              "<p>4416 rows × 5 columns</p>\n",
              "</div>\n",
              "      <button class=\"colab-df-convert\" onclick=\"convertToInteractive('df-64bd4d80-95d3-44cc-863c-df23c6da13e3')\"\n",
              "              title=\"Convert this dataframe to an interactive table.\"\n",
              "              style=\"display:none;\">\n",
              "        \n",
              "  <svg xmlns=\"http://www.w3.org/2000/svg\" height=\"24px\"viewBox=\"0 0 24 24\"\n",
              "       width=\"24px\">\n",
              "    <path d=\"M0 0h24v24H0V0z\" fill=\"none\"/>\n",
              "    <path d=\"M18.56 5.44l.94 2.06.94-2.06 2.06-.94-2.06-.94-.94-2.06-.94 2.06-2.06.94zm-11 1L8.5 8.5l.94-2.06 2.06-.94-2.06-.94L8.5 2.5l-.94 2.06-2.06.94zm10 10l.94 2.06.94-2.06 2.06-.94-2.06-.94-.94-2.06-.94 2.06-2.06.94z\"/><path d=\"M17.41 7.96l-1.37-1.37c-.4-.4-.92-.59-1.43-.59-.52 0-1.04.2-1.43.59L10.3 9.45l-7.72 7.72c-.78.78-.78 2.05 0 2.83L4 21.41c.39.39.9.59 1.41.59.51 0 1.02-.2 1.41-.59l7.78-7.78 2.81-2.81c.8-.78.8-2.07 0-2.86zM5.41 20L4 18.59l7.72-7.72 1.47 1.35L5.41 20z\"/>\n",
              "  </svg>\n",
              "      </button>\n",
              "      \n",
              "  <style>\n",
              "    .colab-df-container {\n",
              "      display:flex;\n",
              "      flex-wrap:wrap;\n",
              "      gap: 12px;\n",
              "    }\n",
              "\n",
              "    .colab-df-convert {\n",
              "      background-color: #E8F0FE;\n",
              "      border: none;\n",
              "      border-radius: 50%;\n",
              "      cursor: pointer;\n",
              "      display: none;\n",
              "      fill: #1967D2;\n",
              "      height: 32px;\n",
              "      padding: 0 0 0 0;\n",
              "      width: 32px;\n",
              "    }\n",
              "\n",
              "    .colab-df-convert:hover {\n",
              "      background-color: #E2EBFA;\n",
              "      box-shadow: 0px 1px 2px rgba(60, 64, 67, 0.3), 0px 1px 3px 1px rgba(60, 64, 67, 0.15);\n",
              "      fill: #174EA6;\n",
              "    }\n",
              "\n",
              "    [theme=dark] .colab-df-convert {\n",
              "      background-color: #3B4455;\n",
              "      fill: #D2E3FC;\n",
              "    }\n",
              "\n",
              "    [theme=dark] .colab-df-convert:hover {\n",
              "      background-color: #434B5C;\n",
              "      box-shadow: 0px 1px 3px 1px rgba(0, 0, 0, 0.15);\n",
              "      filter: drop-shadow(0px 1px 2px rgba(0, 0, 0, 0.3));\n",
              "      fill: #FFFFFF;\n",
              "    }\n",
              "  </style>\n",
              "\n",
              "      <script>\n",
              "        const buttonEl =\n",
              "          document.querySelector('#df-64bd4d80-95d3-44cc-863c-df23c6da13e3 button.colab-df-convert');\n",
              "        buttonEl.style.display =\n",
              "          google.colab.kernel.accessAllowed ? 'block' : 'none';\n",
              "\n",
              "        async function convertToInteractive(key) {\n",
              "          const element = document.querySelector('#df-64bd4d80-95d3-44cc-863c-df23c6da13e3');\n",
              "          const dataTable =\n",
              "            await google.colab.kernel.invokeFunction('convertToInteractive',\n",
              "                                                     [key], {});\n",
              "          if (!dataTable) return;\n",
              "\n",
              "          const docLinkHtml = 'Like what you see? Visit the ' +\n",
              "            '<a target=\"_blank\" href=https://colab.research.google.com/notebooks/data_table.ipynb>data table notebook</a>'\n",
              "            + ' to learn more about interactive tables.';\n",
              "          element.innerHTML = '';\n",
              "          dataTable['output_type'] = 'display_data';\n",
              "          await google.colab.output.renderOutput(dataTable, element);\n",
              "          const docLink = document.createElement('div');\n",
              "          docLink.innerHTML = docLinkHtml;\n",
              "          element.appendChild(docLink);\n",
              "        }\n",
              "      </script>\n",
              "    </div>\n",
              "  </div>\n",
              "  "
            ]
          },
          "metadata": {},
          "execution_count": 94
        }
      ]
    },
    {
      "cell_type": "code",
      "source": [
        "# Investigate top wrong preds\n",
        "for row in wrong_predictions[0:10].itertuples(): # adjust indexes to view different samples\n",
        "  _, target, text, Predictions, Pred_probs, _ = row\n",
        "  print(f\"Target: {target}, Pred: {Predictions}, Prob: {Pred_probs}\\n\")\n",
        "  print(f\"Text:\\n{text}\\n\")\n",
        "  print(\"-----\\n\")"
      ],
      "metadata": {
        "colab": {
          "base_uri": "https://localhost:8080/"
        },
        "id": "lea7zbavxUxI",
        "outputId": "3cd32e63-5c33-4850-d7a9-f9901d2160a3"
      },
      "execution_count": 95,
      "outputs": [
        {
          "output_type": "stream",
          "name": "stdout",
          "text": [
            "Target: adverse events up to the third postoperative day occurred similarly in both groups ., Pred: 4, Prob: 0.9490816593170166\n",
            "\n",
            "Text:\n",
            "1\n",
            "\n",
            "-----\n",
            "\n",
            "Target: of the @ dogs receiving placebo , @ ( @ % ) vomited and @ ( @ % ) developed signs of nausea ; overall , @ of @ ( @ % ) dogs in the placebo treatment group vomited or developed signs of nausea ., Pred: 4, Prob: 0.9403502941131592\n",
            "\n",
            "Text:\n",
            "2\n",
            "\n",
            "-----\n",
            "\n",
            "Target: nct@ ( clinicaltrials.gov ) ., Pred: 0, Prob: 0.9324519038200378\n",
            "\n",
            "Text:\n",
            "1\n",
            "\n",
            "-----\n",
            "\n",
            "Target: the national institute of oncology , budapest conducted a single centre randomized clinical study ., Pred: 2, Prob: 0.9306777715682983\n",
            "\n",
            "Text:\n",
            "3\n",
            "\n",
            "-----\n",
            "\n",
            "Target: to evaluate the effects of the lactic acid bacterium lactobacillus salivarius on caries risk factors ., Pred: 3, Prob: 0.9305580854415894\n",
            "\n",
            "Text:\n",
            "0\n",
            "\n",
            "-----\n",
            "\n",
            "Target: -@ % vs. fish : -@ % vs. fish + s : -@ % ; p < @ ) but there were no significant differences between groups ., Pred: 4, Prob: 0.9214442372322083\n",
            "\n",
            "Text:\n",
            "2\n",
            "\n",
            "-----\n",
            "\n",
            "Target: pretest-posttest ., Pred: 0, Prob: 0.9199644923210144\n",
            "\n",
            "Text:\n",
            "2\n",
            "\n",
            "-----\n",
            "\n",
            "Target: severity of undesired responses were more in group @ , as incremental boluses of respective induction agents were required in @ % patients in thiopentone group compared to only @ % patients in propofol group and @ % of patients in thiopentone group required rescue succinylcholine ., Pred: 4, Prob: 0.9191004037857056\n",
            "\n",
            "Text:\n",
            "1\n",
            "\n",
            "-----\n",
            "\n",
            "Target: a cluster randomised trial was implemented with @,@ children in @ government primary schools on the south coast of kenya in @-@ ., Pred: 2, Prob: 0.9188876152038574\n",
            "\n",
            "Text:\n",
            "4\n",
            "\n",
            "-----\n",
            "\n",
            "Target: headache relief after anterior cervical discectomy was quantified by the operated disc level and by the method of operation ( arthroplasty vs arthrodesis ) ., Pred: 2, Prob: 0.9173702597618103\n",
            "\n",
            "Text:\n",
            "3\n",
            "\n",
            "-----\n",
            "\n"
          ]
        }
      ]
    }
  ]
}
